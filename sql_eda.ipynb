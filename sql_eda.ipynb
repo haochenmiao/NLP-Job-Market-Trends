{
 "cells": [
  {
   "cell_type": "markdown",
   "metadata": {},
   "source": [
    "# SQL for Explorary Data Analysis"
   ]
  },
  {
   "cell_type": "markdown",
   "metadata": {},
   "source": [
    "## Basic Set-up"
   ]
  },
  {
   "cell_type": "code",
   "execution_count": 56,
   "metadata": {},
   "outputs": [],
   "source": [
    "%reload_ext sql"
   ]
  },
  {
   "cell_type": "code",
   "execution_count": 57,
   "metadata": {},
   "outputs": [],
   "source": [
    "# import neccesary libraries\n",
    "import sqlite3\n",
    "import pandas as pd\n",
    "import sqlalchemy\n"
   ]
  },
  {
   "cell_type": "code",
   "execution_count": 58,
   "metadata": {},
   "outputs": [],
   "source": [
    "# load the data file\n",
    "df = pd.read_csv('gsearch_jobs copy.csv')"
   ]
  },
  {
   "cell_type": "code",
   "execution_count": 59,
   "metadata": {},
   "outputs": [],
   "source": [
    "#create and connect the database in the folder\n",
    "conn = sqlite3.connect('job.db')"
   ]
  },
  {
   "cell_type": "code",
   "execution_count": 60,
   "metadata": {},
   "outputs": [
    {
     "data": {
      "text/plain": [
       "24284"
      ]
     },
     "execution_count": 60,
     "metadata": {},
     "output_type": "execute_result"
    }
   ],
   "source": [
    "#import the data frame to the database\n",
    "df.to_sql(\"jobs_info\", conn, if_exists='replace', index=False, method=\"multi\", chunksize=1000)\n"
   ]
  },
  {
   "cell_type": "code",
   "execution_count": 61,
   "metadata": {},
   "outputs": [],
   "source": [
    "#checking\n",
    "%sql sqlite:///job.db"
   ]
  },
  {
   "cell_type": "code",
   "execution_count": 62,
   "metadata": {},
   "outputs": [
    {
     "name": "stdout",
     "output_type": "stream",
     "text": [
      " * sqlite:///job.db\n",
      "Done.\n"
     ]
    },
    {
     "data": {
      "text/html": [
       "<table>\n",
       "    <thead>\n",
       "        <tr>\n",
       "            <th>count(company_name)</th>\n",
       "            <th>count(title)</th>\n",
       "            <th>count(salary_standardized)</th>\n",
       "            <th>count(description_tokens)</th>\n",
       "        </tr>\n",
       "    </thead>\n",
       "    <tbody>\n",
       "        <tr>\n",
       "            <td>24284</td>\n",
       "            <td>24284</td>\n",
       "            <td>4601</td>\n",
       "            <td>24284</td>\n",
       "        </tr>\n",
       "    </tbody>\n",
       "</table>"
      ],
      "text/plain": [
       "[(24284, 24284, 4601, 24284)]"
      ]
     },
     "execution_count": 62,
     "metadata": {},
     "output_type": "execute_result"
    }
   ],
   "source": [
    "#Finding how many rows of job data available for the selected columns\n",
    "%sql select count(company_name), count(title),count(salary_standardized), count(description_tokens)  from jobs_info"
   ]
  },
  {
   "cell_type": "code",
   "execution_count": 63,
   "metadata": {},
   "outputs": [
    {
     "name": "stdout",
     "output_type": "stream",
     "text": [
      " * sqlite:///job.db\n",
      "19964 rows affected.\n"
     ]
    },
    {
     "data": {
      "text/plain": [
       "[]"
      ]
     },
     "execution_count": 63,
     "metadata": {},
     "output_type": "execute_result"
    }
   ],
   "source": [
    "# delete the rows that do not have salary_rate, salary_avg, salary_min, salary_max, salary_standardized\n",
    "%sql DELETE FROM jobs_info WHERE salary_rate IS NULL OR salary_avg IS NULL OR salary_min IS NULL OR salary_max IS NULL OR salary_standardized IS NULL\n"
   ]
  },
  {
   "cell_type": "code",
   "execution_count": 46,
   "metadata": {},
   "outputs": [
    {
     "name": "stdout",
     "output_type": "stream",
     "text": [
      " * sqlite:///job.db\n",
      "Done.\n"
     ]
    },
    {
     "data": {
      "text/html": [
       "<table>\n",
       "    <thead>\n",
       "        <tr>\n",
       "            <th>count(*)</th>\n",
       "        </tr>\n",
       "    </thead>\n",
       "    <tbody>\n",
       "        <tr>\n",
       "            <td>4320</td>\n",
       "        </tr>\n",
       "    </tbody>\n",
       "</table>"
      ],
      "text/plain": [
       "[(4320,)]"
      ]
     },
     "execution_count": 46,
     "metadata": {},
     "output_type": "execute_result"
    }
   ],
   "source": [
    "%sql select count(*) from jobs_info"
   ]
  },
  {
   "cell_type": "code",
   "execution_count": 52,
   "metadata": {},
   "outputs": [
    {
     "name": "stdout",
     "output_type": "stream",
     "text": [
      " * sqlite:///job.db\n",
      "Done.\n"
     ]
    }
   ],
   "source": [
    "df_cleaned = %sql SELECT * FROM jobs_info\n",
    "df_cleaned = df_cleaned.DataFrame()"
   ]
  },
  {
   "cell_type": "code",
   "execution_count": 53,
   "metadata": {},
   "outputs": [
    {
     "data": {
      "text/plain": [
       "<bound method NDFrame.head of       index                                              title  \\\n",
       "0         6  Experienced Data Analyst Required: Dynamic Dat...   \n",
       "1        13                                Master Data Analyst   \n",
       "2        23                                Master Data Analyst   \n",
       "3        33                                Master Data Analyst   \n",
       "4        43                                       Data Analyst   \n",
       "...     ...                                                ...   \n",
       "4315     14                     Marketing Data & BI Analyst II   \n",
       "4316     15                                  Lead-Data Analyst   \n",
       "4317     16                                  Lead-Data Analyst   \n",
       "4318     17                                  Lead-Data Analyst   \n",
       "4319     18  Institutional Credit Management - Lending Data...   \n",
       "\n",
       "                    company_name            location                    via  \\\n",
       "0                         Upwork           Anywhere              via Upwork   \n",
       "1     Charles River Laboratories    United States                via Indeed   \n",
       "2     Charles River Laboratories    United States                via Indeed   \n",
       "3     Charles River Laboratories    United States                via Indeed   \n",
       "4                 Insight Global           Anywhere            via LinkedIn   \n",
       "...                          ...                 ...                    ...   \n",
       "4315                EDWARD JONES       Houstonia, MO  via My ArkLaMiss Jobs   \n",
       "4316                EDWARD JONES      Marshfield, MO  via My ArkLaMiss Jobs   \n",
       "4317                EDWARD JONES      High Point, MO  via My ArkLaMiss Jobs   \n",
       "4318                EDWARD JONES         Calhoun, MO  via My ArkLaMiss Jobs   \n",
       "4319                        Citi       United States  via My ArkLaMiss Jobs   \n",
       "\n",
       "                                             extensions  \\\n",
       "0     ['10 hours ago', '37‚Äì75 an hour', 'Work from...   \n",
       "1     ['24 hours ago', '65K‚Äì75K a year', 'Full-time']   \n",
       "2     ['24 hours ago', '65K‚Äì75K a year', 'Full-time']   \n",
       "3     ['24 hours ago', '65K‚Äì75K a year', 'Full-time']   \n",
       "4     ['15 hours ago', '40‚Äì45 an hour', 'Work from...   \n",
       "...                                                 ...   \n",
       "4315  ['23 hours ago', '76,798‚Äì130,764 a year', 'F...   \n",
       "4316  ['23 hours ago', '106,916‚Äì182,047 a year', '...   \n",
       "4317  ['23 hours ago', '106,916‚Äì182,047 a year', '...   \n",
       "4318  ['23 hours ago', '106,916‚Äì182,047 a year', '...   \n",
       "4319  ['24 hours ago', '105,850‚Äì158,780 a year', '...   \n",
       "\n",
       "                                                 job_id  \\\n",
       "0     eyJqb2JfdGl0bGUiOiJFeHBlcmllbmNlZCBEYXRhIEFuYW...   \n",
       "1     eyJqb2JfdGl0bGUiOiJNYXN0ZXIgRGF0YSBBbmFseXN0Ii...   \n",
       "2     eyJqb2JfdGl0bGUiOiJNYXN0ZXIgRGF0YSBBbmFseXN0Ii...   \n",
       "3     eyJqb2JfdGl0bGUiOiJNYXN0ZXIgRGF0YSBBbmFseXN0Ii...   \n",
       "4     eyJqb2JfdGl0bGUiOiJEYXRhIEFuYWx5c3QiLCJodGlkb2...   \n",
       "...                                                 ...   \n",
       "4315  eyJqb2JfdGl0bGUiOiJNYXJrZXRpbmcgRGF0YSBcdTAwMj...   \n",
       "4316  eyJqb2JfdGl0bGUiOiJMZWFkLURhdGEgQW5hbHlzdCIsIm...   \n",
       "4317  eyJqb2JfdGl0bGUiOiJMZWFkLURhdGEgQW5hbHlzdCIsIm...   \n",
       "4318  eyJqb2JfdGl0bGUiOiJMZWFkLURhdGEgQW5hbHlzdCIsIm...   \n",
       "4319  eyJqb2JfdGl0bGUiOiJJbnN0aXR1dGlvbmFsIENyZWRpdC...   \n",
       "\n",
       "                                              thumbnail     posted_at  \\\n",
       "0                                                  None  10 hours ago   \n",
       "1     https://encrypted-tbn0.gstatic.com/images?q=tb...  24 hours ago   \n",
       "2     https://encrypted-tbn0.gstatic.com/images?q=tb...  24 hours ago   \n",
       "3     https://encrypted-tbn0.gstatic.com/images?q=tb...  24 hours ago   \n",
       "4     https://encrypted-tbn0.gstatic.com/images?q=tb...  15 hours ago   \n",
       "...                                                 ...           ...   \n",
       "4315                                               None  23 hours ago   \n",
       "4316                                               None  23 hours ago   \n",
       "4317                                               None  23 hours ago   \n",
       "4318                                               None  23 hours ago   \n",
       "4319  https://encrypted-tbn0.gstatic.com/images?q=tb...  24 hours ago   \n",
       "\n",
       "     schedule_type  ...  search_location commute_time salary_rate salary_avg  \\\n",
       "0       Contractor  ...    United States         None     an hour       56.0   \n",
       "1        Full-time  ...    United States         None      a year    70000.0   \n",
       "2        Full-time  ...    United States         None      a year    70000.0   \n",
       "3        Full-time  ...    United States         None      a year    70000.0   \n",
       "4        Full-time  ...    United States         None     an hour       42.5   \n",
       "...            ...  ...              ...          ...         ...        ...   \n",
       "4315     Full-time  ...    United States         None      a year   103781.0   \n",
       "4316     Full-time  ...    United States         None      a year   144481.5   \n",
       "4317     Full-time  ...    United States         None      a year   144481.5   \n",
       "4318     Full-time  ...    United States         None      a year   144481.5   \n",
       "4319     Full-time  ...    United States         None      a year   132315.0   \n",
       "\n",
       "     salary_min salary_max  salary_hourly  salary_yearly  salary_standardized  \\\n",
       "0          37.0       75.0           56.0            NaN             116480.0   \n",
       "1       65000.0    75000.0            NaN        70000.0              70000.0   \n",
       "2       65000.0    75000.0            NaN        70000.0              70000.0   \n",
       "3       65000.0    75000.0            NaN        70000.0              70000.0   \n",
       "4          40.0       45.0           42.5            NaN              88400.0   \n",
       "...         ...        ...            ...            ...                  ...   \n",
       "4315    76798.0   130764.0            NaN       103781.0             103781.0   \n",
       "4316   106916.0   182047.0            NaN       144481.5             144481.5   \n",
       "4317   106916.0   182047.0            NaN       144481.5             144481.5   \n",
       "4318   106916.0   182047.0            NaN       144481.5             144481.5   \n",
       "4319   105850.0   158780.0            NaN       132315.0             132315.0   \n",
       "\n",
       "                                     description_tokens  \n",
       "0                                      ['excel', 'sql']  \n",
       "1                ['sap', 'excel', 'word', 'powerpoint']  \n",
       "2                ['sap', 'excel', 'word', 'powerpoint']  \n",
       "3                ['sap', 'excel', 'word', 'powerpoint']  \n",
       "4                                               ['sql']  \n",
       "...                                                 ...  \n",
       "4315  ['tableau', 'python', 'power_bi', 'excel', 'sq...  \n",
       "4316                                                 []  \n",
       "4317                                                 []  \n",
       "4318                                                 []  \n",
       "4319                              ['tableau', 'cognos']  \n",
       "\n",
       "[4320 rows x 23 columns]>"
      ]
     },
     "execution_count": 53,
     "metadata": {},
     "output_type": "execute_result"
    }
   ],
   "source": [
    "df_cleaned.head"
   ]
  },
  {
   "cell_type": "code",
   "execution_count": 54,
   "metadata": {},
   "outputs": [],
   "source": [
    "conn.close()"
   ]
  },
  {
   "cell_type": "code",
   "execution_count": 55,
   "metadata": {},
   "outputs": [],
   "source": [
    "df_cleaned.to_csv(\"df_cleaned.csv\", index=False)"
   ]
  },
  {
   "cell_type": "code",
   "execution_count": null,
   "metadata": {},
   "outputs": [],
   "source": []
  }
 ],
 "metadata": {
  "kernelspec": {
   "display_name": "Python 3",
   "language": "python",
   "name": "python3"
  },
  "language_info": {
   "codemirror_mode": {
    "name": "ipython",
    "version": 3
   },
   "file_extension": ".py",
   "mimetype": "text/x-python",
   "name": "python",
   "nbconvert_exporter": "python",
   "pygments_lexer": "ipython3",
   "version": "3.11.4"
  },
  "orig_nbformat": 4
 },
 "nbformat": 4,
 "nbformat_minor": 2
}
