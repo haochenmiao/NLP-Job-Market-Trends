{
 "cells": [
  {
   "cell_type": "markdown",
   "metadata": {},
   "source": [
    "# Modeling"
   ]
  },
  {
   "cell_type": "markdown",
   "metadata": {},
   "source": [
    "## Import Libraries and the clean salary data set"
   ]
  },
  {
   "cell_type": "code",
   "execution_count": 1,
   "metadata": {},
   "outputs": [],
   "source": [
    "import time\n",
    "import nltk\n",
    "from nltk.corpus import stopwords\n",
    "\n",
    "#NLP\n",
    "from nltk import word_tokenize, FreqDist\n",
    "from nltk.corpus import stopwords\n",
    "from nltk.collocations import *\n",
    "import string, re\n",
    "from gensim.models import Word2Vec\n",
    "from sklearn.manifold import TSNE\n",
    "from sklearn.feature_extraction.text import TfidfVectorizer\n",
    "\n",
    "#Model Data Prep\n",
    "from sklearn.model_selection import train_test_split\n",
    "from sklearn.preprocessing import StandardScaler, OneHotEncoder\n",
    "from sklearn.impute import SimpleImputer\n",
    "\n",
    "#Machine Learning\n",
    "from sklearn.metrics import accuracy_score, f1_score, mean_squared_error, r2_score\n",
    "from sklearn.ensemble import RandomForestRegressor, RandomForestClassifier\n",
    "from sklearn.ensemble import GradientBoostingClassifier\n",
    "from sklearn.decomposition import PCA\n",
    "from sklearn.svm import SVC\n",
    "from sklearn.svm import SVR\n",
    "from sklearn.linear_model import LinearRegression, SGDClassifier\n",
    "from sklearn.pipeline import Pipeline\n",
    "from sklearn.model_selection import cross_val_score\n",
    "from sklearn.model_selection import GridSearchCV\n",
    "from sklearn.metrics import confusion_matrix\n",
    "\n",
    "#Deep learning\n",
    "import tensorflow as tf\n",
    "\n",
    "from tensorflow.keras.preprocessing.sequence import pad_sequences\n",
    "from tensorflow.keras.layers import Input, Dense, LSTM, Embedding\n",
    "from tensorflow.keras.layers import Dropout, Activation, Bidirectional, GlobalMaxPool1D\n",
    "from tensorflow.keras.layers import Conv1D, Conv2D  # Updated import statement\n",
    "from tensorflow.keras.layers import MaxPooling1D, MaxPooling2D\n",
    "from tensorflow.keras.models import Sequential\n",
    "from tensorflow.keras import initializers, regularizers, constraints, optimizers, layers\n",
    "from tensorflow.keras.preprocessing import text, sequence\n",
    "from tensorflow.keras.layers import Flatten\n",
    "from tensorflow.keras.utils import to_categorical\n",
    "from tensorflow.keras.callbacks import EarlyStopping\n",
    "from tensorflow.keras import regularizers\n",
    "from scikeras.wrappers import KerasClassifier, KerasRegressor\n",
    "\n",
    "#Deep Learning - Mixed inputs\n",
    "from tensorflow.keras.layers import BatchNormalization\n",
    "from tensorflow.keras.layers import Activation\n",
    "from tensorflow.keras.layers import Dropout\n",
    "from tensorflow.keras.layers import Dense\n",
    "from tensorflow.keras.layers import Flatten\n",
    "from tensorflow.keras.layers import Input\n",
    "from tensorflow.keras.models import Model\n",
    "from tensorflow.keras.layers import concatenate\n",
    "from tensorflow.keras.optimizers import Adam, RMSprop\n",
    "\n",
    "#Save Model\n",
    "import pickle\n",
    "\n",
    "import matplotlib.pyplot as plt\n",
    "\n",
    "from pprint import pprint\n",
    "from time import time\n",
    "import logging\n",
    "\n",
    "import pandas as pd\n",
    "import numpy as np\n",
    "import seaborn as sns\n",
    "import matplotlib.pyplot as plt\n",
    "\n",
    "%matplotlib inline\n",
    "np.random.seed(0)\n"
   ]
  },
  {
   "cell_type": "code",
   "execution_count": 2,
   "metadata": {},
   "outputs": [
    {
     "data": {
      "text/html": [
       "<div>\n",
       "<style scoped>\n",
       "    .dataframe tbody tr th:only-of-type {\n",
       "        vertical-align: middle;\n",
       "    }\n",
       "\n",
       "    .dataframe tbody tr th {\n",
       "        vertical-align: top;\n",
       "    }\n",
       "\n",
       "    .dataframe thead th {\n",
       "        text-align: right;\n",
       "    }\n",
       "</style>\n",
       "<table border=\"1\" class=\"dataframe\">\n",
       "  <thead>\n",
       "    <tr style=\"text-align: right;\">\n",
       "      <th></th>\n",
       "      <th>Unnamed: 0</th>\n",
       "      <th>index</th>\n",
       "      <th>title</th>\n",
       "      <th>company_name</th>\n",
       "      <th>location</th>\n",
       "      <th>via</th>\n",
       "      <th>description</th>\n",
       "      <th>extensions</th>\n",
       "      <th>job_id</th>\n",
       "      <th>thumbnail</th>\n",
       "      <th>...</th>\n",
       "      <th>commute_time</th>\n",
       "      <th>salary_pay</th>\n",
       "      <th>salary_rate</th>\n",
       "      <th>salary_avg</th>\n",
       "      <th>salary_min</th>\n",
       "      <th>salary_max</th>\n",
       "      <th>salary_hourly</th>\n",
       "      <th>salary_yearly</th>\n",
       "      <th>salary_standardized</th>\n",
       "      <th>description_tokens</th>\n",
       "    </tr>\n",
       "  </thead>\n",
       "  <tbody>\n",
       "    <tr>\n",
       "      <th>0</th>\n",
       "      <td>6</td>\n",
       "      <td>6</td>\n",
       "      <td>Experienced Data Analyst Required: Dynamic Dat...</td>\n",
       "      <td>Upwork</td>\n",
       "      <td>Anywhere</td>\n",
       "      <td>via Upwork</td>\n",
       "      <td>We are actively seeking a highly skilled and e...</td>\n",
       "      <td>['10 hours ago', '37–75 an hour', 'Work from h...</td>\n",
       "      <td>eyJqb2JfdGl0bGUiOiJFeHBlcmllbmNlZCBEYXRhIEFuYW...</td>\n",
       "      <td>NaN</td>\n",
       "      <td>...</td>\n",
       "      <td>NaN</td>\n",
       "      <td>37–75</td>\n",
       "      <td>an hour</td>\n",
       "      <td>56.0</td>\n",
       "      <td>37.0</td>\n",
       "      <td>75.0</td>\n",
       "      <td>56.0</td>\n",
       "      <td>NaN</td>\n",
       "      <td>116480.0</td>\n",
       "      <td>['excel', 'sql']</td>\n",
       "    </tr>\n",
       "    <tr>\n",
       "      <th>1</th>\n",
       "      <td>13</td>\n",
       "      <td>13</td>\n",
       "      <td>Master Data Analyst</td>\n",
       "      <td>Charles River Laboratories</td>\n",
       "      <td>United States</td>\n",
       "      <td>via Indeed</td>\n",
       "      <td>At Charles River, we are passionate about impr...</td>\n",
       "      <td>['24 hours ago', '65K–75K a year', 'Full-time']</td>\n",
       "      <td>eyJqb2JfdGl0bGUiOiJNYXN0ZXIgRGF0YSBBbmFseXN0Ii...</td>\n",
       "      <td>https://encrypted-tbn0.gstatic.com/images?q=tb...</td>\n",
       "      <td>...</td>\n",
       "      <td>NaN</td>\n",
       "      <td>65K–75K</td>\n",
       "      <td>a year</td>\n",
       "      <td>70000.0</td>\n",
       "      <td>65000.0</td>\n",
       "      <td>75000.0</td>\n",
       "      <td>NaN</td>\n",
       "      <td>70000.0</td>\n",
       "      <td>70000.0</td>\n",
       "      <td>['sap', 'excel', 'word', 'powerpoint']</td>\n",
       "    </tr>\n",
       "    <tr>\n",
       "      <th>2</th>\n",
       "      <td>23</td>\n",
       "      <td>23</td>\n",
       "      <td>Master Data Analyst</td>\n",
       "      <td>Charles River Laboratories</td>\n",
       "      <td>United States</td>\n",
       "      <td>via Indeed</td>\n",
       "      <td>At Charles River, we are passionate about impr...</td>\n",
       "      <td>['24 hours ago', '65K–75K a year', 'Full-time']</td>\n",
       "      <td>eyJqb2JfdGl0bGUiOiJNYXN0ZXIgRGF0YSBBbmFseXN0Ii...</td>\n",
       "      <td>https://encrypted-tbn0.gstatic.com/images?q=tb...</td>\n",
       "      <td>...</td>\n",
       "      <td>NaN</td>\n",
       "      <td>65K–75K</td>\n",
       "      <td>a year</td>\n",
       "      <td>70000.0</td>\n",
       "      <td>65000.0</td>\n",
       "      <td>75000.0</td>\n",
       "      <td>NaN</td>\n",
       "      <td>70000.0</td>\n",
       "      <td>70000.0</td>\n",
       "      <td>['sap', 'excel', 'word', 'powerpoint']</td>\n",
       "    </tr>\n",
       "    <tr>\n",
       "      <th>3</th>\n",
       "      <td>33</td>\n",
       "      <td>33</td>\n",
       "      <td>Master Data Analyst</td>\n",
       "      <td>Charles River Laboratories</td>\n",
       "      <td>United States</td>\n",
       "      <td>via Indeed</td>\n",
       "      <td>At Charles River, we are passionate about impr...</td>\n",
       "      <td>['24 hours ago', '65K–75K a year', 'Full-time']</td>\n",
       "      <td>eyJqb2JfdGl0bGUiOiJNYXN0ZXIgRGF0YSBBbmFseXN0Ii...</td>\n",
       "      <td>https://encrypted-tbn0.gstatic.com/images?q=tb...</td>\n",
       "      <td>...</td>\n",
       "      <td>NaN</td>\n",
       "      <td>65K–75K</td>\n",
       "      <td>a year</td>\n",
       "      <td>70000.0</td>\n",
       "      <td>65000.0</td>\n",
       "      <td>75000.0</td>\n",
       "      <td>NaN</td>\n",
       "      <td>70000.0</td>\n",
       "      <td>70000.0</td>\n",
       "      <td>['sap', 'excel', 'word', 'powerpoint']</td>\n",
       "    </tr>\n",
       "    <tr>\n",
       "      <th>4</th>\n",
       "      <td>43</td>\n",
       "      <td>43</td>\n",
       "      <td>Data Analyst</td>\n",
       "      <td>Insight Global</td>\n",
       "      <td>Anywhere</td>\n",
       "      <td>via LinkedIn</td>\n",
       "      <td>Title: Data Analyst\\n\\nLocation: Remote in - F...</td>\n",
       "      <td>['15 hours ago', '40–45 an hour', 'Work from h...</td>\n",
       "      <td>eyJqb2JfdGl0bGUiOiJEYXRhIEFuYWx5c3QiLCJodGlkb2...</td>\n",
       "      <td>https://encrypted-tbn0.gstatic.com/images?q=tb...</td>\n",
       "      <td>...</td>\n",
       "      <td>NaN</td>\n",
       "      <td>40–45</td>\n",
       "      <td>an hour</td>\n",
       "      <td>42.5</td>\n",
       "      <td>40.0</td>\n",
       "      <td>45.0</td>\n",
       "      <td>42.5</td>\n",
       "      <td>NaN</td>\n",
       "      <td>88400.0</td>\n",
       "      <td>['sql']</td>\n",
       "    </tr>\n",
       "  </tbody>\n",
       "</table>\n",
       "<p>5 rows × 27 columns</p>\n",
       "</div>"
      ],
      "text/plain": [
       "   Unnamed: 0  index                                              title  \\\n",
       "0           6      6  Experienced Data Analyst Required: Dynamic Dat...   \n",
       "1          13     13                                Master Data Analyst   \n",
       "2          23     23                                Master Data Analyst   \n",
       "3          33     33                                Master Data Analyst   \n",
       "4          43     43                                       Data Analyst   \n",
       "\n",
       "                 company_name            location           via  \\\n",
       "0                      Upwork           Anywhere     via Upwork   \n",
       "1  Charles River Laboratories    United States       via Indeed   \n",
       "2  Charles River Laboratories    United States       via Indeed   \n",
       "3  Charles River Laboratories    United States       via Indeed   \n",
       "4              Insight Global           Anywhere   via LinkedIn   \n",
       "\n",
       "                                         description  \\\n",
       "0  We are actively seeking a highly skilled and e...   \n",
       "1  At Charles River, we are passionate about impr...   \n",
       "2  At Charles River, we are passionate about impr...   \n",
       "3  At Charles River, we are passionate about impr...   \n",
       "4  Title: Data Analyst\\n\\nLocation: Remote in - F...   \n",
       "\n",
       "                                          extensions  \\\n",
       "0  ['10 hours ago', '37–75 an hour', 'Work from h...   \n",
       "1    ['24 hours ago', '65K–75K a year', 'Full-time']   \n",
       "2    ['24 hours ago', '65K–75K a year', 'Full-time']   \n",
       "3    ['24 hours ago', '65K–75K a year', 'Full-time']   \n",
       "4  ['15 hours ago', '40–45 an hour', 'Work from h...   \n",
       "\n",
       "                                              job_id  \\\n",
       "0  eyJqb2JfdGl0bGUiOiJFeHBlcmllbmNlZCBEYXRhIEFuYW...   \n",
       "1  eyJqb2JfdGl0bGUiOiJNYXN0ZXIgRGF0YSBBbmFseXN0Ii...   \n",
       "2  eyJqb2JfdGl0bGUiOiJNYXN0ZXIgRGF0YSBBbmFseXN0Ii...   \n",
       "3  eyJqb2JfdGl0bGUiOiJNYXN0ZXIgRGF0YSBBbmFseXN0Ii...   \n",
       "4  eyJqb2JfdGl0bGUiOiJEYXRhIEFuYWx5c3QiLCJodGlkb2...   \n",
       "\n",
       "                                           thumbnail  ... commute_time  \\\n",
       "0                                                NaN  ...          NaN   \n",
       "1  https://encrypted-tbn0.gstatic.com/images?q=tb...  ...          NaN   \n",
       "2  https://encrypted-tbn0.gstatic.com/images?q=tb...  ...          NaN   \n",
       "3  https://encrypted-tbn0.gstatic.com/images?q=tb...  ...          NaN   \n",
       "4  https://encrypted-tbn0.gstatic.com/images?q=tb...  ...          NaN   \n",
       "\n",
       "  salary_pay  salary_rate salary_avg salary_min salary_max salary_hourly  \\\n",
       "0      37–75      an hour       56.0       37.0       75.0          56.0   \n",
       "1    65K–75K       a year    70000.0    65000.0    75000.0           NaN   \n",
       "2    65K–75K       a year    70000.0    65000.0    75000.0           NaN   \n",
       "3    65K–75K       a year    70000.0    65000.0    75000.0           NaN   \n",
       "4      40–45      an hour       42.5       40.0       45.0          42.5   \n",
       "\n",
       "   salary_yearly salary_standardized                      description_tokens  \n",
       "0            NaN            116480.0                        ['excel', 'sql']  \n",
       "1        70000.0             70000.0  ['sap', 'excel', 'word', 'powerpoint']  \n",
       "2        70000.0             70000.0  ['sap', 'excel', 'word', 'powerpoint']  \n",
       "3        70000.0             70000.0  ['sap', 'excel', 'word', 'powerpoint']  \n",
       "4            NaN             88400.0                                 ['sql']  \n",
       "\n",
       "[5 rows x 27 columns]"
      ]
     },
     "execution_count": 2,
     "metadata": {},
     "output_type": "execute_result"
    }
   ],
   "source": [
    "df = pd.read_csv(\"df_cleaned_models.csv\")\n",
    "df.head()"
   ]
  },
  {
   "cell_type": "code",
   "execution_count": 3,
   "metadata": {},
   "outputs": [
    {
     "name": "stdout",
     "output_type": "stream",
     "text": [
      "<class 'pandas.core.frame.DataFrame'>\n",
      "RangeIndex: 4601 entries, 0 to 4600\n",
      "Data columns (total 27 columns):\n",
      " #   Column               Non-Null Count  Dtype  \n",
      "---  ------               --------------  -----  \n",
      " 0   Unnamed: 0           4601 non-null   int64  \n",
      " 1   index                4601 non-null   int64  \n",
      " 2   title                4601 non-null   object \n",
      " 3   company_name         4601 non-null   object \n",
      " 4   location             4598 non-null   object \n",
      " 5   via                  4601 non-null   object \n",
      " 6   description          4601 non-null   object \n",
      " 7   extensions           4601 non-null   object \n",
      " 8   job_id               4601 non-null   object \n",
      " 9   thumbnail            1265 non-null   object \n",
      " 10  posted_at            4601 non-null   object \n",
      " 11  schedule_type        4596 non-null   object \n",
      " 12  work_from_home       3174 non-null   float64\n",
      " 13  salary               4601 non-null   object \n",
      " 14  search_term          4601 non-null   object \n",
      " 15  date_time            4601 non-null   object \n",
      " 16  search_location      4601 non-null   object \n",
      " 17  commute_time         0 non-null      float64\n",
      " 18  salary_pay           4601 non-null   object \n",
      " 19  salary_rate          4601 non-null   object \n",
      " 20  salary_avg           4601 non-null   float64\n",
      " 21  salary_min           4320 non-null   float64\n",
      " 22  salary_max           4320 non-null   float64\n",
      " 23  salary_hourly        2809 non-null   float64\n",
      " 24  salary_yearly        1784 non-null   float64\n",
      " 25  salary_standardized  4601 non-null   float64\n",
      " 26  description_tokens   4601 non-null   object \n",
      "dtypes: float64(8), int64(2), object(17)\n",
      "memory usage: 970.7+ KB\n"
     ]
    }
   ],
   "source": [
    "df.info()"
   ]
  },
  {
   "cell_type": "code",
   "execution_count": 4,
   "metadata": {},
   "outputs": [],
   "source": [
    "# Drop unecessary columns\n",
    "df = df.drop(columns=['thumbnail', 'commute_time'])"
   ]
  },
  {
   "cell_type": "code",
   "execution_count": 5,
   "metadata": {},
   "outputs": [],
   "source": [
    "# Fill the na in `work_from_home` column with 0\n",
    "df['work_from_home'].fillna(0, inplace=True)"
   ]
  },
  {
   "cell_type": "code",
   "execution_count": 6,
   "metadata": {},
   "outputs": [],
   "source": [
    "# Fill the na in `salary_hourly` column with hour wage calculated from `salary_standardized`\n",
    "\n",
    "# Define a function to convert yearly wage to hourly wage based on job type\n",
    "def calculate_hourly(row):\n",
    "    yearly_wage = row['salary_standardized']\n",
    "    if pd.isna(yearly_wage):\n",
    "        return np.nan\n",
    "    \n",
    "    if row['schedule_type'] == 'Full-time':\n",
    "        return yearly_wage / 2080\n",
    "    elif row['schedule_type'] == 'Part-time':\n",
    "        return yearly_wage / 1040\n",
    "    else: # for 'Contractor' or any other types\n",
    "        return yearly_wage / 2080 # or any other reasonable assumption for the number of hours\n",
    "\n",
    "# Apply this function to fill na in 'salary_hourly'\n",
    "df['salary_hourly'] = df.apply(lambda row: calculate_hourly(row) if pd.isna(row['salary_hourly']) else row['salary_hourly'], axis=1)\n"
   ]
  },
  {
   "cell_type": "code",
   "execution_count": 7,
   "metadata": {},
   "outputs": [],
   "source": [
    "# fill the na in `salary_yearly` with the values from `salary_standardized`\n",
    "df['salary_yearly'].fillna(df['salary_standardized'], inplace=True)"
   ]
  },
  {
   "cell_type": "code",
   "execution_count": 8,
   "metadata": {},
   "outputs": [],
   "source": [
    "# Drop rows where either 'salary_max' or 'salary_min' has missing values\n",
    "df = df.dropna(subset=['salary_max', 'salary_min'])\n"
   ]
  },
  {
   "cell_type": "code",
   "execution_count": 9,
   "metadata": {},
   "outputs": [
    {
     "data": {
      "text/plain": [
       "Unnamed: 0             0\n",
       "index                  0\n",
       "title                  0\n",
       "company_name           0\n",
       "location               3\n",
       "via                    0\n",
       "description            0\n",
       "extensions             0\n",
       "job_id                 0\n",
       "posted_at              0\n",
       "schedule_type          3\n",
       "work_from_home         0\n",
       "salary                 0\n",
       "search_term            0\n",
       "date_time              0\n",
       "search_location        0\n",
       "salary_pay             0\n",
       "salary_rate            0\n",
       "salary_avg             0\n",
       "salary_min             0\n",
       "salary_max             0\n",
       "salary_hourly          0\n",
       "salary_yearly          0\n",
       "salary_standardized    0\n",
       "description_tokens     0\n",
       "dtype: int64"
      ]
     },
     "execution_count": 9,
     "metadata": {},
     "output_type": "execute_result"
    }
   ],
   "source": [
    "missing = df.isna().sum()\n",
    "missing"
   ]
  },
  {
   "cell_type": "code",
   "execution_count": 10,
   "metadata": {},
   "outputs": [],
   "source": [
    "df.drop_duplicates(inplace=True)"
   ]
  },
  {
   "cell_type": "code",
   "execution_count": 11,
   "metadata": {},
   "outputs": [
    {
     "name": "stdout",
     "output_type": "stream",
     "text": [
      "There are 0 duplicate rows in the DataFrame based on title,company name, and salary_standardized.\n"
     ]
    }
   ],
   "source": [
    "num_duplicates = df.duplicated().sum()\n",
    "print(f'There are {num_duplicates} duplicate rows in the DataFrame based on title,company name, and salary_standardized.')\n"
   ]
  },
  {
   "cell_type": "code",
   "execution_count": 12,
   "metadata": {},
   "outputs": [
    {
     "data": {
      "text/plain": [
       "array([[<Axes: title={'center': 'salary_standardized'}>]], dtype=object)"
      ]
     },
     "execution_count": 12,
     "metadata": {},
     "output_type": "execute_result"
    },
    {
     "data": {
      "image/png": "[encoded data removed]",
      "text/plain": [
       "<Figure size 640x480 with 1 Axes>"
      ]
     },
     "metadata": {},
     "output_type": "display_data"
    }
   ],
   "source": [
    "df.hist('salary_standardized')"
   ]
  },
  {
   "cell_type": "code",
   "execution_count": 13,
   "metadata": {},
   "outputs": [
    {
     "name": "stdout",
     "output_type": "stream",
     "text": [
      "the difference between maximum salary and minimum salary is $ 605280.0\n"
     ]
    }
   ],
   "source": [
    "difference = df['salary_standardized'].max() - df['salary_standardized'].min()\n",
    "print('the difference between maximum salary and minimum salary is $', difference)\n"
   ]
  },
  {
   "cell_type": "code",
   "execution_count": 14,
   "metadata": {},
   "outputs": [
    {
     "data": {
      "text/plain": [
       "0.000000     18720.0\n",
       "0.166667     62330.0\n",
       "0.333333     75000.0\n",
       "0.500000     96500.0\n",
       "0.666667    107500.0\n",
       "0.833333    130000.0\n",
       "1.000000    624000.0\n",
       "Name: salary_standardized, dtype: float64"
      ]
     },
     "execution_count": 14,
     "metadata": {},
     "output_type": "execute_result"
    }
   ],
   "source": [
    "df['salary_standardized'].quantile(list(np.linspace(0,1,7)))\n"
   ]
  },
  {
   "cell_type": "code",
   "execution_count": 15,
   "metadata": {},
   "outputs": [],
   "source": [
    "#Create Bins\n",
    "BINS = [0,50000,70000,90000,120000,150000,400000]"
   ]
  },
  {
   "cell_type": "code",
   "execution_count": 16,
   "metadata": {},
   "outputs": [],
   "source": [
    "df['Salary_Bins'] = pd.cut(x=df['salary_standardized'], bins=BINS, labels=False)\n"
   ]
  },
  {
   "cell_type": "code",
   "execution_count": 17,
   "metadata": {},
   "outputs": [
    {
     "data": {
      "text/plain": [
       "0       3.0\n",
       "1       1.0\n",
       "2       1.0\n",
       "3       1.0\n",
       "4       2.0\n",
       "       ... \n",
       "4596    3.0\n",
       "4597    4.0\n",
       "4598    4.0\n",
       "4599    4.0\n",
       "4600    4.0\n",
       "Name: Salary_Bins, Length: 4320, dtype: float64"
      ]
     },
     "execution_count": 17,
     "metadata": {},
     "output_type": "execute_result"
    }
   ],
   "source": [
    "df['Salary_Bins']"
   ]
  },
  {
   "cell_type": "code",
   "execution_count": 18,
   "metadata": {},
   "outputs": [],
   "source": [
    "df.to_csv(\"salary_final.csv\")\n"
   ]
  },
  {
   "cell_type": "code",
   "execution_count": 19,
   "metadata": {},
   "outputs": [
    {
     "data": {
      "text/plain": [
       "<Axes: xlabel='Salary_Bins'>"
      ]
     },
     "execution_count": 19,
     "metadata": {},
     "output_type": "execute_result"
    },
    {
     "data": {
      "image/png": "[encoded data removed]",
      "text/plain": [
       "<Figure size 640x480 with 1 Axes>"
      ]
     },
     "metadata": {},
     "output_type": "display_data"
    }
   ],
   "source": [
    "df.groupby('Salary_Bins')['location'].count().plot.bar()\n"
   ]
  },
  {
   "cell_type": "code",
   "execution_count": 20,
   "metadata": {},
   "outputs": [],
   "source": [
    "#Categorical target\n",
    "target_class = df['Salary_Bins'].astype('category')"
   ]
  },
  {
   "cell_type": "code",
   "execution_count": 21,
   "metadata": {},
   "outputs": [],
   "source": [
    "def clean_word(job_descriptions):\n",
    "    jd_data=[]\n",
    "    pattern = \"([a-zA-Z]+(?:'[a-z]+)?)\"\n",
    "    stopwords_list = stopwords.words('english')\n",
    "    stopwords_list += list(string.punctuation)\n",
    "    stopwords_list += ['0', '1', '2', '3', '4', '5', '6', '7', '8', '9']\n",
    "    stopwords_list += ['www','http','com','llc','covid','non','pm','am','eg','e','g','ie','i']\n",
    "    \n",
    "    for jd in job_descriptions:\n",
    "        jd_tokens_raw = nltk.regexp_tokenize(jd, pattern)\n",
    "        jd_tokens=[word.lower() for word in jd_tokens_raw]\n",
    "        jd_words_stopped = [word for word in jd_tokens if word not in stopwords_list]\n",
    "        jd_data.append(jd_words_stopped)\n",
    "\n",
    "    return pd.Series(jd_data) # Turn list of lists to series of lists to use in Word2Vec"
   ]
  },
  {
   "cell_type": "code",
   "execution_count": 22,
   "metadata": {},
   "outputs": [],
   "source": [
    "data = clean_word(df['description'])"
   ]
  },
  {
   "cell_type": "code",
   "execution_count": 23,
   "metadata": {},
   "outputs": [
    {
     "data": {
      "text/plain": [
       "[\"we're\",\n",
       " 'looking',\n",
       " 'data',\n",
       " 'analyst',\n",
       " 'help',\n",
       " 'us',\n",
       " 'implement',\n",
       " 'dashboard',\n",
       " 'read',\n",
       " 'data',\n",
       " 'facebook',\n",
       " 'instagram',\n",
       " 'pinterest',\n",
       " 'google',\n",
       " 'ads',\n",
       " 'klaviyo',\n",
       " 'affiliate',\n",
       " 'marketing',\n",
       " 'etc',\n",
       " 'facing',\n",
       " 'problems',\n",
       " 'tracking',\n",
       " 'particular',\n",
       " 'marketing',\n",
       " 'channels',\n",
       " 'correct',\n",
       " 'job',\n",
       " 'description',\n",
       " 'develop',\n",
       " 'shop',\n",
       " 'specific',\n",
       " 'ecommerce',\n",
       " 'analytics',\n",
       " 'custom',\n",
       " 'metrics',\n",
       " 'dimensions',\n",
       " 'universal',\n",
       " 'gtm',\n",
       " 'container',\n",
       " 'ga',\n",
       " 'property',\n",
       " 'shopify',\n",
       " 'shops',\n",
       " 'efficient',\n",
       " 'maintenance',\n",
       " 'updating',\n",
       " 'ability',\n",
       " 'see',\n",
       " 'data',\n",
       " 'combined',\n",
       " 'per',\n",
       " 'shop',\n",
       " 'shops',\n",
       " 'different',\n",
       " 'countries',\n",
       " 'need',\n",
       " 'set',\n",
       " 'please',\n",
       " 'leave',\n",
       " 'reply',\n",
       " 'start',\n",
       " 'blue',\n",
       " 'pencil',\n",
       " 'interested',\n",
       " 'thank']"
      ]
     },
     "execution_count": 23,
     "metadata": {},
     "output_type": "execute_result"
    }
   ],
   "source": [
    "data[5]"
   ]
  },
  {
   "cell_type": "markdown",
   "metadata": {},
   "source": [
    "## Set up test and target"
   ]
  },
  {
   "cell_type": "code",
   "execution_count": 24,
   "metadata": {},
   "outputs": [],
   "source": [
    "target = df['salary_standardized'] #continuous target\n",
    "target_class = df['Salary_Bins'].astype('category') #categorical target"
   ]
  },
  {
   "cell_type": "markdown",
   "metadata": {},
   "source": [
    "## Split Train-Test"
   ]
  },
  {
   "cell_type": "markdown",
   "metadata": {},
   "source": [
    "data is tokenized job description, target_class is salary classes."
   ]
  },
  {
   "cell_type": "code",
   "execution_count": 25,
   "metadata": {},
   "outputs": [],
   "source": [
    "X_train, X_test, y_train, y_test = train_test_split(data, target_class, test_size=0.1, random_state=4)"
   ]
  },
  {
   "cell_type": "markdown",
   "metadata": {},
   "source": [
    "## Model 1: Use Word2Vec Embedding in Classification Models"
   ]
  },
  {
   "cell_type": "markdown",
   "metadata": {},
   "source": []
  },
  {
   "cell_type": "code",
   "execution_count": 26,
   "metadata": {},
   "outputs": [
    {
     "data": {
      "text/plain": [
       "['actively',\n",
       " 'seeking',\n",
       " 'highly',\n",
       " 'skilled',\n",
       " 'experienced',\n",
       " 'data',\n",
       " 'analyst',\n",
       " 'create',\n",
       " 'advanced',\n",
       " 'data',\n",
       " 'analysis',\n",
       " 'package',\n",
       " 'package',\n",
       " 'include',\n",
       " 'array',\n",
       " 'insightful',\n",
       " 'professionally',\n",
       " 'curated',\n",
       " 'charts',\n",
       " 'graphs',\n",
       " 'coupled',\n",
       " 'real',\n",
       " 'time',\n",
       " 'dashboard',\n",
       " 'reflecting',\n",
       " 'data',\n",
       " 'data',\n",
       " 'comprising',\n",
       " 'timestamped',\n",
       " 'shipments',\n",
       " 'loads',\n",
       " 'sourced',\n",
       " 'two',\n",
       " 'different',\n",
       " 'ports',\n",
       " 'resulting',\n",
       " 'shipments',\n",
       " 'daily',\n",
       " 'basis',\n",
       " 'data',\n",
       " 'stored',\n",
       " 'mariadb',\n",
       " 'sql',\n",
       " 'database',\n",
       " 'task',\n",
       " 'illuminate',\n",
       " 'data',\n",
       " 'way',\n",
       " 'engaging',\n",
       " 'also',\n",
       " 'intuitive',\n",
       " 'clients',\n",
       " 'key',\n",
       " 'tasks',\n",
       " 'data',\n",
       " 'visualization',\n",
       " 'synthesize',\n",
       " 'attractive',\n",
       " 'package',\n",
       " 'encapsulates',\n",
       " 'summaries',\n",
       " 'analysis',\n",
       " 'predictions',\n",
       " 'presented',\n",
       " 'tabularly',\n",
       " 'graphically',\n",
       " 'end',\n",
       " 'product',\n",
       " 'self',\n",
       " 'contained',\n",
       " 'excel',\n",
       " 'sheet',\n",
       " 'easily',\n",
       " 'distributed',\n",
       " 'clients',\n",
       " 'reflecting',\n",
       " 'depth',\n",
       " 'understanding',\n",
       " 'data',\n",
       " 'hand',\n",
       " 'dashboard',\n",
       " 'development',\n",
       " 'craft',\n",
       " 'real',\n",
       " 'time',\n",
       " 'dashboard',\n",
       " 'visually',\n",
       " 'represents',\n",
       " 'data',\n",
       " 'encapsulated',\n",
       " 'within',\n",
       " 'excel',\n",
       " 'sheet',\n",
       " 'dashboard',\n",
       " 'developed',\n",
       " 'using',\n",
       " 'cost',\n",
       " 'effective',\n",
       " 'technology',\n",
       " 'small',\n",
       " 'startup',\n",
       " 'essential',\n",
       " 'chosen',\n",
       " 'technology',\n",
       " 'capable',\n",
       " 'integrating',\n",
       " 'existing',\n",
       " 'mariadb',\n",
       " 'sql',\n",
       " 'database',\n",
       " 'facilitating',\n",
       " 'real',\n",
       " 'time',\n",
       " 'visualization',\n",
       " 'data',\n",
       " 'collected',\n",
       " 'preferred',\n",
       " 'qualifications',\n",
       " 'proven',\n",
       " 'experience',\n",
       " 'data',\n",
       " 'analysis',\n",
       " 'visualization',\n",
       " 'portfolio',\n",
       " 'reference',\n",
       " 'work',\n",
       " 'demonstrates',\n",
       " 'experience',\n",
       " 'familiarity',\n",
       " 'creating',\n",
       " 'report',\n",
       " 'packages',\n",
       " 'within',\n",
       " 'financial',\n",
       " 'services',\n",
       " 'industry',\n",
       " 'highly',\n",
       " 'desirable',\n",
       " 'advanced',\n",
       " 'proficiency',\n",
       " 'using',\n",
       " 'excel',\n",
       " 'data',\n",
       " 'analysis',\n",
       " 'visualization',\n",
       " 'experience',\n",
       " 'mariadb',\n",
       " 'comparable',\n",
       " 'sql',\n",
       " 'database',\n",
       " 'technology',\n",
       " 'understanding',\n",
       " 'cost',\n",
       " 'effective',\n",
       " 'technology',\n",
       " 'suitable',\n",
       " 'real',\n",
       " 'time',\n",
       " 'dashboard',\n",
       " 'development',\n",
       " 'apply',\n",
       " 'job',\n",
       " 'please',\n",
       " 'submit',\n",
       " 'proposal',\n",
       " 'outlines',\n",
       " 'experience',\n",
       " 'expertise',\n",
       " 'data',\n",
       " 'analysis',\n",
       " 'data',\n",
       " 'visualization',\n",
       " 'microsoft',\n",
       " 'excel',\n",
       " 'please',\n",
       " 'also',\n",
       " 'include',\n",
       " 'links',\n",
       " 'past',\n",
       " 'completed',\n",
       " 'projects',\n",
       " 'showcase',\n",
       " 'skills',\n",
       " 'abilities',\n",
       " 'applications',\n",
       " 'without',\n",
       " 'portfolio',\n",
       " 'considered',\n",
       " 'look',\n",
       " 'forward',\n",
       " 'application']"
      ]
     },
     "execution_count": 26,
     "metadata": {},
     "output_type": "execute_result"
    }
   ],
   "source": [
    "data[0]"
   ]
  },
  {
   "cell_type": "markdown",
   "metadata": {},
   "source": [
    "### Word2Vec Model from scratch"
   ]
  },
  {
   "cell_type": "markdown",
   "metadata": {},
   "source": [
    "Create a Word2Vec model with 100 dimensions."
   ]
  },
  {
   "cell_type": "code",
   "execution_count": 27,
   "metadata": {},
   "outputs": [],
   "source": [
    "w2v_model1 = Word2Vec(data,\n",
    "                vector_size=64,\n",
    "                window=10,\n",
    "                min_count=10,\n",
    "                workers=4)"
   ]
  },
  {
   "cell_type": "code",
   "execution_count": 28,
   "metadata": {},
   "outputs": [
    {
     "data": {
      "text/plain": [
       "(9156279, 10234090)"
      ]
     },
     "execution_count": 28,
     "metadata": {},
     "output_type": "execute_result"
    }
   ],
   "source": [
    "w2v_model1.train(data,total_examples=w2v_model1.corpus_count, epochs=10)"
   ]
  },
  {
   "cell_type": "code",
   "execution_count": 29,
   "metadata": {},
   "outputs": [],
   "source": [
    "wv = w2v_model1.wv"
   ]
  },
  {
   "cell_type": "code",
   "execution_count": 30,
   "metadata": {},
   "outputs": [
    {
     "name": "stdout",
     "output_type": "stream",
     "text": [
      "Vocabulary size: 5179\n"
     ]
    }
   ],
   "source": [
    "words = wv.index_to_key\n",
    "print('Vocabulary size:', len(words))"
   ]
  },
  {
   "cell_type": "code",
   "execution_count": 31,
   "metadata": {},
   "outputs": [
    {
     "data": {
      "text/plain": [
       "[('business', 0.5289637446403503),\n",
       " ('datasets', 0.5272043943405151),\n",
       " ('disparate', 0.5057350993156433),\n",
       " ('curation', 0.4935966730117798),\n",
       " ('analysis', 0.4904550015926361),\n",
       " ('design', 0.4860195219516754),\n",
       " ('map', 0.4847578704357147),\n",
       " ('metadata', 0.48220908641815186),\n",
       " ('extracting', 0.4744096100330353),\n",
       " ('mapping', 0.47369033098220825)]"
      ]
     },
     "execution_count": 31,
     "metadata": {},
     "output_type": "execute_result"
    }
   ],
   "source": [
    "wv.most_similar('data')"
   ]
  },
  {
   "cell_type": "code",
   "execution_count": 32,
   "metadata": {},
   "outputs": [],
   "source": [
    "#wrap into a dictionary to use in the pipeline\n",
    "w2v = dict(zip(w2v_model1.wv.index_to_key, w2v_model1.wv.vectors))"
   ]
  },
  {
   "cell_type": "code",
   "execution_count": 33,
   "metadata": {},
   "outputs": [
    {
     "data": {
      "text/plain": [
       "5179"
      ]
     },
     "execution_count": 33,
     "metadata": {},
     "output_type": "execute_result"
    }
   ],
   "source": [
    "len(w2v.values())"
   ]
  },
  {
   "cell_type": "markdown",
   "metadata": {},
   "source": [
    "Averaging word vectors for all words in a text."
   ]
  },
  {
   "cell_type": "code",
   "execution_count": 34,
   "metadata": {},
   "outputs": [],
   "source": [
    "#Averaging word vectors for all words in a text.\n",
    "\n",
    "class MeanEmbeddingVectorizer(object):\n",
    "    def __init__(self, word2vec):\n",
    "        self.word2vec = word2vec\n",
    "        self.dim = len(next(iter(word2vec.values())))\n",
    "\n",
    "    def fit(self, X, y):\n",
    "        return self\n",
    "\n",
    "    def transform(self, X):\n",
    "        transformed_X = []\n",
    "        for idx, vec in enumerate(transformed_X):\n",
    "            if len(vec) != 64:\n",
    "                print(f\"Inconsistency at index {idx}: {vec}\")\n",
    "\n",
    "        for words in X:\n",
    "            word_vectors = [self.word2vec[w] for w in words if w in self.word2vec]\n",
    "\n",
    "            if not word_vectors:\n",
    "                transformed_X.append(np.zeros(self.dim))\n",
    "            else:\n",
    "                mean_vec = np.mean(word_vectors, axis=0)\n",
    "                transformed_X.append(mean_vec)\n",
    "        lengths = [len(x) for x in transformed_X]\n",
    "        unique_lengths = set(lengths)\n",
    "        print(unique_lengths)\n",
    "\n",
    "        return np.array(transformed_X).reshape(len(transformed_X), -1)"
   ]
  },
  {
   "cell_type": "markdown",
   "metadata": {},
   "source": [
    "### Use Word2Vec in the pipeline"
   ]
  },
  {
   "cell_type": "code",
   "execution_count": 35,
   "metadata": {},
   "outputs": [],
   "source": [
    "#Import libraries\n",
    "from sklearn.ensemble import RandomForestRegressor, RandomForestClassifier\n",
    "from sklearn.svm import SVC\n",
    "from sklearn.linear_model import SGDClassifier\n",
    "from sklearn.pipeline import Pipeline\n",
    "from sklearn.model_selection import cross_val_score\n",
    "from sklearn.model_selection import GridSearchCV\n",
    "from sklearn.metrics import confusion_matrix\n",
    "\n",
    "from pprint import pprint\n",
    "from time import time\n",
    "import logging"
   ]
  },
  {
   "cell_type": "code",
   "execution_count": 36,
   "metadata": {},
   "outputs": [],
   "source": [
    "#Use pipeline \n",
    "\n",
    "rf =  Pipeline([('Word2Vec Vectorizer', MeanEmbeddingVectorizer(w2v)),\n",
    "              ('Random Forest', RandomForestClassifier(n_estimators=50, criterion='entropy', verbose=True, n_jobs=3))])\n",
    "\n",
    "svc = Pipeline([('Word2Vec Vectorizer', MeanEmbeddingVectorizer(w2v)),\n",
    "              ('Support Vector Machine', SVC(kernel='rbf', C=0.5))])\n",
    "\n",
    "sgd = Pipeline([('Word2Vec Vectorizer', MeanEmbeddingVectorizer(w2v)),\n",
    "               ('Stochastic Gradient Descent', SGDClassifier(alpha=0.001, n_jobs=3))])\n",
    "\n",
    "svr = Pipeline([('Word2Vec Vectorizer', MeanEmbeddingVectorizer(w2v)),\n",
    "              ('SVR-lin', SVR(kernel='rbf', C=0.5))])\n",
    "                \n",
    "lr = Pipeline([('Word2Vec Vectorizer', MeanEmbeddingVectorizer(w2v)),\n",
    "              ('Linear Regression', LinearRegression(n_jobs=3))])"
   ]
  },
  {
   "cell_type": "code",
   "execution_count": 37,
   "metadata": {},
   "outputs": [],
   "source": [
    "models = [('Random Forest', rf),\n",
    "          ('Support Vector Machine', svc),\n",
    "          ('Stochastic Gradient Descent', sgd),\n",
    "          ('Linear Regression', lr)]"
   ]
  },
  {
   "cell_type": "code",
   "execution_count": 38,
   "metadata": {},
   "outputs": [
    {
     "name": "stdout",
     "output_type": "stream",
     "text": [
      "{64}\n"
     ]
    },
    {
     "name": "stderr",
     "output_type": "stream",
     "text": [
      "[Parallel(n_jobs=3)]: Using backend LokyBackend with 3 concurrent workers.\n",
      "[Parallel(n_jobs=3)]: Done  50 out of  50 | elapsed:    0.9s finished\n",
      "[Parallel(n_jobs=3)]: Using backend ThreadingBackend with 3 concurrent workers.\n",
      "[Parallel(n_jobs=3)]: Done  44 tasks      | elapsed:    0.0s\n",
      "[Parallel(n_jobs=3)]: Done  50 out of  50 | elapsed:    0.0s finished\n"
     ]
    },
    {
     "name": "stdout",
     "output_type": "stream",
     "text": [
      "{64}\n",
      "{64}\n"
     ]
    },
    {
     "name": "stderr",
     "output_type": "stream",
     "text": [
      "[Parallel(n_jobs=3)]: Using backend LokyBackend with 3 concurrent workers.\n",
      "[Parallel(n_jobs=3)]: Done  50 out of  50 | elapsed:    0.3s finished\n",
      "[Parallel(n_jobs=3)]: Using backend ThreadingBackend with 3 concurrent workers.\n",
      "[Parallel(n_jobs=3)]: Done  44 tasks      | elapsed:    0.0s\n",
      "[Parallel(n_jobs=3)]: Done  50 out of  50 | elapsed:    0.0s finished\n"
     ]
    },
    {
     "name": "stdout",
     "output_type": "stream",
     "text": [
      "{64}\n",
      "{64}\n",
      "{64}\n",
      "{64}\n",
      "{64}\n",
      "{64}\n",
      "{64}\n",
      "{64}\n",
      "{64}\n",
      "{64}\n",
      "{64}\n",
      "{64}\n",
      "{64}\n"
     ]
    }
   ],
   "source": [
    "nan_indices = y_train[y_train.isnull()].index\n",
    "X_train = X_train.drop(nan_indices)\n",
    "y_train = y_train.drop(nan_indices)\n",
    "\n",
    "scores = [(name, cross_val_score(model, X_train, y_train, cv=2).mean()) for name, model, in models]"
   ]
  },
  {
   "cell_type": "code",
   "execution_count": 39,
   "metadata": {},
   "outputs": [
    {
     "data": {
      "text/plain": [
       "[('Random Forest', 0.361740473738414),\n",
       " ('Support Vector Machine', 0.3416580844490216),\n",
       " ('Stochastic Gradient Descent', 0.29917610710607623),\n",
       " ('Linear Regression', 0.0240081551335789)]"
      ]
     },
     "execution_count": 39,
     "metadata": {},
     "output_type": "execute_result"
    }
   ],
   "source": [
    "scores"
   ]
  },
  {
   "cell_type": "markdown",
   "metadata": {},
   "source": [
    "Random Forest performed the best among three models. Explore the prediction probability."
   ]
  },
  {
   "cell_type": "code",
   "execution_count": 40,
   "metadata": {},
   "outputs": [],
   "source": [
    "rf =  Pipeline([('Word2Vec Vectorizer', MeanEmbeddingVectorizer(w2v)),\n",
    "              ('Random Forest', RandomForestClassifier(n_estimators=100, criterion='entropy', min_samples_leaf=3, verbose=True, n_jobs=3))])"
   ]
  },
  {
   "cell_type": "code",
   "execution_count": 41,
   "metadata": {},
   "outputs": [
    {
     "name": "stdout",
     "output_type": "stream",
     "text": [
      "{64}\n"
     ]
    },
    {
     "name": "stderr",
     "output_type": "stream",
     "text": [
      "[Parallel(n_jobs=3)]: Using backend LokyBackend with 3 concurrent workers.\n",
      "[Parallel(n_jobs=3)]: Done 100 out of 100 | elapsed:    0.5s finished\n",
      "[Parallel(n_jobs=3)]: Using backend ThreadingBackend with 3 concurrent workers.\n",
      "[Parallel(n_jobs=3)]: Done  44 tasks      | elapsed:    0.0s\n",
      "[Parallel(n_jobs=3)]: Done 100 out of 100 | elapsed:    0.0s finished\n"
     ]
    },
    {
     "name": "stdout",
     "output_type": "stream",
     "text": [
      "{64}\n",
      "{64}\n"
     ]
    },
    {
     "name": "stderr",
     "output_type": "stream",
     "text": [
      "[Parallel(n_jobs=3)]: Using backend LokyBackend with 3 concurrent workers.\n"
     ]
    },
    {
     "name": "stdout",
     "output_type": "stream",
     "text": [
      "{64}\n"
     ]
    },
    {
     "name": "stderr",
     "output_type": "stream",
     "text": [
      "[Parallel(n_jobs=3)]: Done 100 out of 100 | elapsed:    0.5s finished\n",
      "[Parallel(n_jobs=3)]: Using backend ThreadingBackend with 3 concurrent workers.\n",
      "[Parallel(n_jobs=3)]: Done  44 tasks      | elapsed:    0.0s\n",
      "[Parallel(n_jobs=3)]: Done 100 out of 100 | elapsed:    0.0s finished\n"
     ]
    },
    {
     "data": {
      "text/plain": [
       "0.36431513903192586"
      ]
     },
     "execution_count": 41,
     "metadata": {},
     "output_type": "execute_result"
    }
   ],
   "source": [
    "cross_val_score(rf, X_train, y_train, cv=2).mean()"
   ]
  },
  {
   "cell_type": "code",
   "execution_count": 42,
   "metadata": {},
   "outputs": [
    {
     "name": "stdout",
     "output_type": "stream",
     "text": [
      "{64}\n"
     ]
    },
    {
     "name": "stderr",
     "output_type": "stream",
     "text": [
      "[Parallel(n_jobs=3)]: Using backend ThreadingBackend with 3 concurrent workers.\n",
      "[Parallel(n_jobs=3)]: Done  44 tasks      | elapsed:    0.4s\n",
      "[Parallel(n_jobs=3)]: Done 100 out of 100 | elapsed:    1.0s finished\n"
     ]
    },
    {
     "data": {
      "text/html": [
       "<style>#sk-container-id-1 {color: black;}#sk-container-id-1 pre{padding: 0;}#sk-container-id-1 div.sk-toggleable {background-color: white;}#sk-container-id-1 label.sk-toggleable__label {cursor: pointer;display: block;width: 100%;margin-bottom: 0;padding: 0.3em;box-sizing: border-box;text-align: center;}#sk-container-id-1 label.sk-toggleable__label-arrow:before {content: \"▸\";float: left;margin-right: 0.25em;color: #696969;}#sk-container-id-1 label.sk-toggleable__label-arrow:hover:before {color: black;}#sk-container-id-1 div.sk-estimator:hover label.sk-toggleable__label-arrow:before {color: black;}#sk-container-id-1 div.sk-toggleable__content {max-height: 0;max-width: 0;overflow: hidden;text-align: left;background-color: #f0f8ff;}#sk-container-id-1 div.sk-toggleable__content pre {margin: 0.2em;color: black;border-radius: 0.25em;background-color: #f0f8ff;}#sk-container-id-1 input.sk-toggleable__control:checked~div.sk-toggleable__content {max-height: 200px;max-width: 100%;overflow: auto;}#sk-container-id-1 input.sk-toggleable__control:checked~label.sk-toggleable__label-arrow:before {content: \"▾\";}#sk-container-id-1 div.sk-estimator input.sk-toggleable__control:checked~label.sk-toggleable__label {background-color: #d4ebff;}#sk-container-id-1 div.sk-label input.sk-toggleable__control:checked~label.sk-toggleable__label {background-color: #d4ebff;}#sk-container-id-1 input.sk-hidden--visually {border: 0;clip: rect(1px 1px 1px 1px);clip: rect(1px, 1px, 1px, 1px);height: 1px;margin: -1px;overflow: hidden;padding: 0;position: absolute;width: 1px;}#sk-container-id-1 div.sk-estimator {font-family: monospace;background-color: #f0f8ff;border: 1px dotted black;border-radius: 0.25em;box-sizing: border-box;margin-bottom: 0.5em;}#sk-container-id-1 div.sk-estimator:hover {background-color: #d4ebff;}#sk-container-id-1 div.sk-parallel-item::after {content: \"\";width: 100%;border-bottom: 1px solid gray;flex-grow: 1;}#sk-container-id-1 div.sk-label:hover label.sk-toggleable__label {background-color: #d4ebff;}#sk-container-id-1 div.sk-serial::before {content: \"\";position: absolute;border-left: 1px solid gray;box-sizing: border-box;top: 0;bottom: 0;left: 50%;z-index: 0;}#sk-container-id-1 div.sk-serial {display: flex;flex-direction: column;align-items: center;background-color: white;padding-right: 0.2em;padding-left: 0.2em;position: relative;}#sk-container-id-1 div.sk-item {position: relative;z-index: 1;}#sk-container-id-1 div.sk-parallel {display: flex;align-items: stretch;justify-content: center;background-color: white;position: relative;}#sk-container-id-1 div.sk-item::before, #sk-container-id-1 div.sk-parallel-item::before {content: \"\";position: absolute;border-left: 1px solid gray;box-sizing: border-box;top: 0;bottom: 0;left: 50%;z-index: -1;}#sk-container-id-1 div.sk-parallel-item {display: flex;flex-direction: column;z-index: 1;position: relative;background-color: white;}#sk-container-id-1 div.sk-parallel-item:first-child::after {align-self: flex-end;width: 50%;}#sk-container-id-1 div.sk-parallel-item:last-child::after {align-self: flex-start;width: 50%;}#sk-container-id-1 div.sk-parallel-item:only-child::after {width: 0;}#sk-container-id-1 div.sk-dashed-wrapped {border: 1px dashed gray;margin: 0 0.4em 0.5em 0.4em;box-sizing: border-box;padding-bottom: 0.4em;background-color: white;}#sk-container-id-1 div.sk-label label {font-family: monospace;font-weight: bold;display: inline-block;line-height: 1.2em;}#sk-container-id-1 div.sk-label-container {text-align: center;}#sk-container-id-1 div.sk-container {/* jupyter's `normalize.less` sets `[hidden] { display: none; }` but bootstrap.min.css set `[hidden] { display: none !important; }` so we also need the `!important` here to be able to override the default hidden behavior on the sphinx rendered scikit-learn.org. See: https://github.com/scikit-learn/scikit-learn/issues/21755 */display: inline-block !important;position: relative;}#sk-container-id-1 div.sk-text-repr-fallback {display: none;}</style><div id=\"sk-container-id-1\" class=\"sk-top-container\"><div class=\"sk-text-repr-fallback\"><pre>Pipeline(steps=[(&#x27;Word2Vec Vectorizer&#x27;,\n",
       "                 &lt;__main__.MeanEmbeddingVectorizer object at 0x2b6fb48d0&gt;),\n",
       "                (&#x27;Random Forest&#x27;,\n",
       "                 RandomForestClassifier(criterion=&#x27;entropy&#x27;, min_samples_leaf=3,\n",
       "                                        n_jobs=3, verbose=True))])</pre><b>In a Jupyter environment, please rerun this cell to show the HTML representation or trust the notebook. <br />On GitHub, the HTML representation is unable to render, please try loading this page with nbviewer.org.</b></div><div class=\"sk-container\" hidden><div class=\"sk-item sk-dashed-wrapped\"><div class=\"sk-label-container\"><div class=\"sk-label sk-toggleable\"><input class=\"sk-toggleable__control sk-hidden--visually\" id=\"sk-estimator-id-1\" type=\"checkbox\" ><label for=\"sk-estimator-id-1\" class=\"sk-toggleable__label sk-toggleable__label-arrow\">Pipeline</label><div class=\"sk-toggleable__content\"><pre>Pipeline(steps=[(&#x27;Word2Vec Vectorizer&#x27;,\n",
       "                 &lt;__main__.MeanEmbeddingVectorizer object at 0x2b6fb48d0&gt;),\n",
       "                (&#x27;Random Forest&#x27;,\n",
       "                 RandomForestClassifier(criterion=&#x27;entropy&#x27;, min_samples_leaf=3,\n",
       "                                        n_jobs=3, verbose=True))])</pre></div></div></div><div class=\"sk-serial\"><div class=\"sk-item\"><div class=\"sk-estimator sk-toggleable\"><input class=\"sk-toggleable__control sk-hidden--visually\" id=\"sk-estimator-id-2\" type=\"checkbox\" ><label for=\"sk-estimator-id-2\" class=\"sk-toggleable__label sk-toggleable__label-arrow\">MeanEmbeddingVectorizer</label><div class=\"sk-toggleable__content\"><pre>&lt;__main__.MeanEmbeddingVectorizer object at 0x2b6fb48d0&gt;</pre></div></div></div><div class=\"sk-item\"><div class=\"sk-estimator sk-toggleable\"><input class=\"sk-toggleable__control sk-hidden--visually\" id=\"sk-estimator-id-3\" type=\"checkbox\" ><label for=\"sk-estimator-id-3\" class=\"sk-toggleable__label sk-toggleable__label-arrow\">RandomForestClassifier</label><div class=\"sk-toggleable__content\"><pre>RandomForestClassifier(criterion=&#x27;entropy&#x27;, min_samples_leaf=3, n_jobs=3,\n",
       "                       verbose=True)</pre></div></div></div></div></div></div></div>"
      ],
      "text/plain": [
       "Pipeline(steps=[('Word2Vec Vectorizer',\n",
       "                 <__main__.MeanEmbeddingVectorizer object at 0x2b6fb48d0>),\n",
       "                ('Random Forest',\n",
       "                 RandomForestClassifier(criterion='entropy', min_samples_leaf=3,\n",
       "                                        n_jobs=3, verbose=True))])"
      ]
     },
     "execution_count": 42,
     "metadata": {},
     "output_type": "execute_result"
    }
   ],
   "source": [
    "rf.fit(X_train, y_train)"
   ]
  },
  {
   "cell_type": "code",
   "execution_count": 43,
   "metadata": {},
   "outputs": [
    {
     "name": "stdout",
     "output_type": "stream",
     "text": [
      "{64}\n"
     ]
    },
    {
     "name": "stderr",
     "output_type": "stream",
     "text": [
      "[Parallel(n_jobs=3)]: Using backend ThreadingBackend with 3 concurrent workers.\n",
      "[Parallel(n_jobs=3)]: Done  44 tasks      | elapsed:    0.0s\n",
      "[Parallel(n_jobs=3)]: Done 100 out of 100 | elapsed:    0.0s finished\n"
     ]
    }
   ],
   "source": [
    "y_pred = rf.predict(X_test)"
   ]
  },
  {
   "cell_type": "code",
   "execution_count": 44,
   "metadata": {},
   "outputs": [
    {
     "name": "stdout",
     "output_type": "stream",
     "text": [
      "{64}\n"
     ]
    },
    {
     "name": "stderr",
     "output_type": "stream",
     "text": [
      "[Parallel(n_jobs=3)]: Using backend ThreadingBackend with 3 concurrent workers.\n",
      "[Parallel(n_jobs=3)]: Done  44 tasks      | elapsed:    0.0s\n",
      "[Parallel(n_jobs=3)]: Done 100 out of 100 | elapsed:    0.0s finished\n"
     ]
    },
    {
     "data": {
      "text/plain": [
       "0.47453703703703703"
      ]
     },
     "execution_count": 44,
     "metadata": {},
     "output_type": "execute_result"
    }
   ],
   "source": [
    "rf.score(X_test, y_test)"
   ]
  },
  {
   "cell_type": "code",
   "execution_count": 45,
   "metadata": {},
   "outputs": [
    {
     "name": "stdout",
     "output_type": "stream",
     "text": [
      "{64}\n"
     ]
    },
    {
     "name": "stderr",
     "output_type": "stream",
     "text": [
      "[Parallel(n_jobs=3)]: Using backend ThreadingBackend with 3 concurrent workers.\n",
      "[Parallel(n_jobs=3)]: Done  44 tasks      | elapsed:    0.0s\n",
      "[Parallel(n_jobs=3)]: Done 100 out of 100 | elapsed:    0.0s finished\n"
     ]
    }
   ],
   "source": [
    "proba_matrix = rf.predict_proba(X_test)"
   ]
  },
  {
   "cell_type": "code",
   "execution_count": 46,
   "metadata": {},
   "outputs": [
    {
     "data": {
      "text/plain": [
       "(432, 6)"
      ]
     },
     "execution_count": 46,
     "metadata": {},
     "output_type": "execute_result"
    }
   ],
   "source": [
    "proba_matrix.shape"
   ]
  },
  {
   "cell_type": "markdown",
   "metadata": {},
   "source": [
    "## Prediction Probability of each bin"
   ]
  },
  {
   "cell_type": "code",
   "execution_count": 47,
   "metadata": {},
   "outputs": [],
   "source": [
    "df_proba = pd.DataFrame(data = proba_matrix)"
   ]
  },
  {
   "cell_type": "code",
   "execution_count": 48,
   "metadata": {},
   "outputs": [
    {
     "data": {
      "text/html": [
       "<div>\n",
       "<style scoped>\n",
       "    .dataframe tbody tr th:only-of-type {\n",
       "        vertical-align: middle;\n",
       "    }\n",
       "\n",
       "    .dataframe tbody tr th {\n",
       "        vertical-align: top;\n",
       "    }\n",
       "\n",
       "    .dataframe thead th {\n",
       "        text-align: right;\n",
       "    }\n",
       "</style>\n",
       "<table border=\"1\" class=\"dataframe\">\n",
       "  <thead>\n",
       "    <tr style=\"text-align: right;\">\n",
       "      <th></th>\n",
       "      <th>0</th>\n",
       "      <th>1</th>\n",
       "      <th>2</th>\n",
       "      <th>3</th>\n",
       "      <th>4</th>\n",
       "      <th>5</th>\n",
       "    </tr>\n",
       "  </thead>\n",
       "  <tbody>\n",
       "    <tr>\n",
       "      <th>0</th>\n",
       "      <td>0.164639</td>\n",
       "      <td>0.248952</td>\n",
       "      <td>0.158276</td>\n",
       "      <td>0.267442</td>\n",
       "      <td>0.112913</td>\n",
       "      <td>0.047778</td>\n",
       "    </tr>\n",
       "    <tr>\n",
       "      <th>1</th>\n",
       "      <td>0.020964</td>\n",
       "      <td>0.243782</td>\n",
       "      <td>0.222433</td>\n",
       "      <td>0.020750</td>\n",
       "      <td>0.477214</td>\n",
       "      <td>0.014857</td>\n",
       "    </tr>\n",
       "    <tr>\n",
       "      <th>2</th>\n",
       "      <td>0.079795</td>\n",
       "      <td>0.072916</td>\n",
       "      <td>0.076058</td>\n",
       "      <td>0.680874</td>\n",
       "      <td>0.064221</td>\n",
       "      <td>0.026136</td>\n",
       "    </tr>\n",
       "    <tr>\n",
       "      <th>3</th>\n",
       "      <td>0.077901</td>\n",
       "      <td>0.155881</td>\n",
       "      <td>0.197821</td>\n",
       "      <td>0.298643</td>\n",
       "      <td>0.196980</td>\n",
       "      <td>0.072774</td>\n",
       "    </tr>\n",
       "    <tr>\n",
       "      <th>4</th>\n",
       "      <td>0.079795</td>\n",
       "      <td>0.072916</td>\n",
       "      <td>0.076058</td>\n",
       "      <td>0.680874</td>\n",
       "      <td>0.064221</td>\n",
       "      <td>0.026136</td>\n",
       "    </tr>\n",
       "  </tbody>\n",
       "</table>\n",
       "</div>"
      ],
      "text/plain": [
       "          0         1         2         3         4         5\n",
       "0  0.164639  0.248952  0.158276  0.267442  0.112913  0.047778\n",
       "1  0.020964  0.243782  0.222433  0.020750  0.477214  0.014857\n",
       "2  0.079795  0.072916  0.076058  0.680874  0.064221  0.026136\n",
       "3  0.077901  0.155881  0.197821  0.298643  0.196980  0.072774\n",
       "4  0.079795  0.072916  0.076058  0.680874  0.064221  0.026136"
      ]
     },
     "execution_count": 48,
     "metadata": {},
     "output_type": "execute_result"
    }
   ],
   "source": [
    "df_proba.head()"
   ]
  },
  {
   "cell_type": "code",
   "execution_count": 49,
   "metadata": {},
   "outputs": [
    {
     "data": {
      "text/html": [
       "<div>\n",
       "<style scoped>\n",
       "    .dataframe tbody tr th:only-of-type {\n",
       "        vertical-align: middle;\n",
       "    }\n",
       "\n",
       "    .dataframe tbody tr th {\n",
       "        vertical-align: top;\n",
       "    }\n",
       "\n",
       "    .dataframe thead th {\n",
       "        text-align: right;\n",
       "    }\n",
       "</style>\n",
       "<table border=\"1\" class=\"dataframe\">\n",
       "  <thead>\n",
       "    <tr style=\"text-align: right;\">\n",
       "      <th></th>\n",
       "      <th>0</th>\n",
       "      <th>1</th>\n",
       "      <th>2</th>\n",
       "      <th>3</th>\n",
       "      <th>4</th>\n",
       "      <th>5</th>\n",
       "    </tr>\n",
       "  </thead>\n",
       "  <tbody>\n",
       "    <tr>\n",
       "      <th>count</th>\n",
       "      <td>432.000000</td>\n",
       "      <td>432.000000</td>\n",
       "      <td>432.000000</td>\n",
       "      <td>432.000000</td>\n",
       "      <td>432.000000</td>\n",
       "      <td>432.000000</td>\n",
       "    </tr>\n",
       "    <tr>\n",
       "      <th>mean</th>\n",
       "      <td>0.108069</td>\n",
       "      <td>0.177994</td>\n",
       "      <td>0.159152</td>\n",
       "      <td>0.343446</td>\n",
       "      <td>0.129462</td>\n",
       "      <td>0.081877</td>\n",
       "    </tr>\n",
       "    <tr>\n",
       "      <th>std</th>\n",
       "      <td>0.081536</td>\n",
       "      <td>0.113411</td>\n",
       "      <td>0.113866</td>\n",
       "      <td>0.194505</td>\n",
       "      <td>0.124999</td>\n",
       "      <td>0.061387</td>\n",
       "    </tr>\n",
       "    <tr>\n",
       "      <th>min</th>\n",
       "      <td>0.000000</td>\n",
       "      <td>0.000000</td>\n",
       "      <td>0.000000</td>\n",
       "      <td>0.020750</td>\n",
       "      <td>0.000000</td>\n",
       "      <td>0.000000</td>\n",
       "    </tr>\n",
       "    <tr>\n",
       "      <th>25%</th>\n",
       "      <td>0.057714</td>\n",
       "      <td>0.098385</td>\n",
       "      <td>0.087369</td>\n",
       "      <td>0.234287</td>\n",
       "      <td>0.064221</td>\n",
       "      <td>0.042761</td>\n",
       "    </tr>\n",
       "    <tr>\n",
       "      <th>50%</th>\n",
       "      <td>0.090475</td>\n",
       "      <td>0.168698</td>\n",
       "      <td>0.139498</td>\n",
       "      <td>0.286058</td>\n",
       "      <td>0.099260</td>\n",
       "      <td>0.074698</td>\n",
       "    </tr>\n",
       "    <tr>\n",
       "      <th>75%</th>\n",
       "      <td>0.137789</td>\n",
       "      <td>0.230181</td>\n",
       "      <td>0.196119</td>\n",
       "      <td>0.371482</td>\n",
       "      <td>0.141945</td>\n",
       "      <td>0.100306</td>\n",
       "    </tr>\n",
       "    <tr>\n",
       "      <th>max</th>\n",
       "      <td>0.576270</td>\n",
       "      <td>0.885103</td>\n",
       "      <td>0.803762</td>\n",
       "      <td>0.982281</td>\n",
       "      <td>0.779097</td>\n",
       "      <td>0.570935</td>\n",
       "    </tr>\n",
       "  </tbody>\n",
       "</table>\n",
       "</div>"
      ],
      "text/plain": [
       "                0           1           2           3           4           5\n",
       "count  432.000000  432.000000  432.000000  432.000000  432.000000  432.000000\n",
       "mean     0.108069    0.177994    0.159152    0.343446    0.129462    0.081877\n",
       "std      0.081536    0.113411    0.113866    0.194505    0.124999    0.061387\n",
       "min      0.000000    0.000000    0.000000    0.020750    0.000000    0.000000\n",
       "25%      0.057714    0.098385    0.087369    0.234287    0.064221    0.042761\n",
       "50%      0.090475    0.168698    0.139498    0.286058    0.099260    0.074698\n",
       "75%      0.137789    0.230181    0.196119    0.371482    0.141945    0.100306\n",
       "max      0.576270    0.885103    0.803762    0.982281    0.779097    0.570935"
      ]
     },
     "execution_count": 49,
     "metadata": {},
     "output_type": "execute_result"
    }
   ],
   "source": [
    "df_proba.describe()"
   ]
  },
  {
   "cell_type": "code",
   "execution_count": 50,
   "metadata": {},
   "outputs": [
    {
     "name": "stdout",
     "output_type": "stream",
     "text": [
      "4\n"
     ]
    }
   ],
   "source": [
    "print(target_class.isnull().sum())"
   ]
  },
  {
   "cell_type": "code",
   "execution_count": 51,
   "metadata": {},
   "outputs": [
    {
     "name": "stdout",
     "output_type": "stream",
     "text": [
      "0\n"
     ]
    }
   ],
   "source": [
    "print(data.isnull().sum())"
   ]
  },
  {
   "cell_type": "code",
   "execution_count": 52,
   "metadata": {},
   "outputs": [],
   "source": [
    "target_class = target_class.dropna()"
   ]
  },
  {
   "cell_type": "code",
   "execution_count": 53,
   "metadata": {},
   "outputs": [
    {
     "name": "stdout",
     "output_type": "stream",
     "text": [
      "(4320,)\n",
      "(4316,)\n"
     ]
    }
   ],
   "source": [
    "print(data.shape)\n",
    "print(target_class.shape)"
   ]
  },
  {
   "cell_type": "code",
   "execution_count": 54,
   "metadata": {},
   "outputs": [],
   "source": [
    "data = data[:len(target_class)]"
   ]
  },
  {
   "cell_type": "code",
   "execution_count": 55,
   "metadata": {},
   "outputs": [],
   "source": [
    "#Grid Search: Word2Vec with Random Forest Classifier\n",
    "pipeline =  Pipeline([('Word2Vec Vectorizer', MeanEmbeddingVectorizer(w2v)),\n",
    "              ('rf', RandomForestClassifier(n_jobs=3))])\n",
    "parameters = {\n",
    "    'rf__n_estimators':(30,40,50),\n",
    "    'rf__criterion':(\"gini\",\"entropy\"),\n",
    "    'rf__min_samples_split':(2,6,8),\n",
    "    'rf__max_features':(\"auto\",\"sqrt\",\"log2\")\n",
    "    \n",
    "}"
   ]
  },
  {
   "cell_type": "code",
   "execution_count": 56,
   "metadata": {},
   "outputs": [
    {
     "name": "stdout",
     "output_type": "stream",
     "text": [
      "Performing grid search...\n",
      "pipeline: ['Word2Vec Vectorizer', 'rf']\n",
      "parameters:\n",
      "{'rf__criterion': ('gini', 'entropy'),\n",
      " 'rf__max_features': ('auto', 'sqrt', 'log2'),\n",
      " 'rf__min_samples_split': (2, 6, 8),\n",
      " 'rf__n_estimators': (30, 40, 50)}\n"
     ]
    },
    {
     "name": "stdout",
     "output_type": "stream",
     "text": [
      "Fitting 5 folds for each of 54 candidates, totalling 270 fits\n",
      "{64}\n",
      "{64}\n",
      "{64}\n",
      "{64}\n",
      "{64}\n",
      "{64}\n",
      "{64}\n",
      "{64}\n",
      "{64}\n",
      "{64}\n",
      "{64}\n",
      "{64}\n",
      "{64}\n",
      "{64}\n",
      "{64}\n",
      "{64}\n",
      "{64}\n",
      "{64}\n",
      "{64}\n",
      "{64}\n",
      "{64}\n",
      "{64}\n",
      "{64}\n",
      "{64}\n",
      "{64}\n",
      "{64}\n",
      "{64}\n",
      "{64}\n",
      "{64}\n",
      "{64}\n",
      "{64}\n",
      "{64}\n",
      "{64}\n",
      "{64}\n",
      "{64}\n",
      "{64}\n",
      "{64}\n",
      "{64}\n",
      "{64}\n",
      "{64}\n",
      "{64}\n",
      "{64}\n",
      "{64}\n",
      "{64}\n",
      "{64}\n",
      "{64}\n",
      "{64}\n",
      "{64}\n",
      "{64}\n",
      "{64}\n",
      "{64}\n",
      "{64}\n",
      "{64}\n",
      "{64}\n",
      "{64}\n",
      "{64}\n",
      "{64}\n",
      "{64}\n",
      "{64}\n",
      "{64}\n",
      "{64}\n",
      "{64}\n",
      "{64}\n",
      "{64}\n",
      "{64}\n",
      "{64}\n",
      "{64}\n",
      "{64}\n",
      "{64}\n",
      "{64}\n",
      "{64}\n",
      "{64}\n",
      "{64}\n",
      "{64}\n",
      "{64}\n",
      "{64}\n",
      "{64}\n",
      "{64}\n",
      "{64}\n",
      "{64}\n",
      "{64}\n",
      "{64}\n",
      "{64}\n",
      "{64}\n",
      "{64}\n",
      "{64}\n",
      "{64}\n",
      "{64}\n",
      "{64}\n",
      "{64}\n",
      "{64}\n",
      "{64}\n",
      "{64}\n",
      "{64}\n",
      "{64}\n",
      "{64}\n",
      "{64}\n",
      "{64}\n",
      "{64}\n",
      "{64}\n",
      "{64}\n",
      "{64}\n",
      "{64}\n",
      "{64}\n",
      "{64}\n",
      "{64}\n",
      "{64}\n",
      "{64}\n",
      "{64}\n",
      "{64}\n",
      "{64}\n",
      "{64}\n",
      "{64}\n",
      "{64}\n",
      "{64}\n",
      "{64}\n",
      "{64}\n",
      "{64}\n",
      "{64}\n",
      "{64}\n",
      "{64}\n",
      "{64}\n",
      "{64}\n",
      "{64}\n",
      "{64}\n",
      "{64}\n",
      "{64}\n",
      "{64}\n",
      "{64}\n",
      "{64}\n",
      "{64}\n",
      "{64}\n",
      "{64}\n",
      "{64}\n",
      "{64}\n",
      "{64}\n",
      "{64}\n",
      "{64}\n",
      "{64}\n",
      "{64}\n",
      "{64}\n",
      "{64}\n",
      "{64}\n",
      "{64}\n",
      "{64}\n",
      "{64}\n",
      "{64}\n",
      "{64}\n",
      "{64}\n",
      "{64}\n",
      "{64}\n",
      "{64}\n",
      "{64}\n",
      "{64}\n",
      "{64}\n",
      "{64}\n",
      "{64}\n",
      "{64}\n",
      "{64}\n",
      "{64}\n",
      "{64}\n",
      "{64}\n",
      "{64}\n",
      "{64}\n",
      "{64}\n",
      "{64}\n",
      "{64}\n",
      "{64}\n",
      "{64}\n",
      "{64}\n",
      "{64}\n",
      "{64}\n",
      "{64}\n",
      "{64}\n",
      "{64}\n",
      "{64}\n",
      "{64}\n",
      "{64}\n",
      "{64}\n",
      "{64}\n",
      "{64}\n",
      "{64}\n",
      "{64}\n",
      "{64}\n",
      "{64}\n",
      "{64}\n",
      "{64}\n",
      "{64}\n",
      "{64}\n",
      "{64}\n",
      "{64}\n",
      "{64}\n",
      "{64}\n",
      "{64}\n",
      "{64}\n",
      "{64}\n",
      "{64}\n",
      "{64}\n",
      "{64}\n",
      "{64}\n",
      "{64}\n",
      "{64}\n",
      "{64}\n",
      "{64}\n",
      "{64}\n",
      "{64}\n",
      "{64}\n",
      "{64}\n",
      "{64}\n",
      "{64}\n",
      "{64}\n",
      "{64}\n",
      "{64}\n",
      "{64}\n",
      "{64}\n",
      "{64}\n",
      "{64}\n",
      "{64}\n",
      "{64}\n",
      "{64}\n",
      "{64}\n",
      "{64}\n",
      "{64}\n",
      "{64}\n",
      "{64}\n",
      "{64}\n",
      "{64}\n",
      "{64}\n",
      "{64}\n",
      "{64}\n",
      "{64}\n",
      "{64}\n",
      "{64}\n",
      "{64}\n",
      "{64}\n",
      "{64}\n",
      "{64}\n",
      "{64}\n",
      "{64}\n",
      "{64}\n",
      "{64}\n",
      "{64}\n",
      "{64}\n",
      "{64}\n",
      "{64}\n",
      "{64}\n",
      "{64}\n",
      "{64}\n",
      "{64}\n",
      "{64}\n",
      "{64}\n",
      "{64}\n",
      "{64}\n",
      "{64}\n",
      "{64}\n",
      "{64}\n",
      "{64}\n",
      "{64}\n",
      "{64}\n",
      "{64}\n",
      "{64}\n",
      "{64}\n",
      "{64}\n",
      "{64}\n",
      "{64}\n",
      "{64}\n",
      "{64}\n",
      "{64}\n",
      "{64}\n",
      "{64}\n",
      "{64}\n",
      "{64}\n",
      "{64}\n",
      "{64}\n",
      "{64}\n",
      "{64}\n",
      "{64}\n",
      "{64}\n",
      "{64}\n",
      "{64}\n",
      "{64}\n",
      "{64}\n",
      "{64}\n",
      "{64}\n",
      "{64}\n",
      "{64}\n",
      "{64}\n",
      "{64}\n",
      "{64}\n",
      "{64}\n",
      "{64}\n",
      "{64}\n",
      "{64}\n",
      "{64}\n",
      "{64}\n",
      "{64}\n",
      "{64}\n",
      "{64}\n",
      "{64}\n",
      "{64}\n",
      "{64}\n",
      "{64}\n",
      "{64}\n",
      "{64}\n",
      "{64}\n",
      "{64}\n",
      "{64}\n",
      "{64}\n",
      "{64}\n",
      "{64}\n",
      "{64}\n",
      "{64}\n",
      "{64}\n",
      "{64}\n",
      "{64}\n",
      "{64}\n",
      "{64}\n",
      "{64}\n",
      "{64}\n",
      "{64}\n",
      "{64}\n",
      "{64}\n",
      "{64}\n",
      "{64}\n",
      "{64}\n",
      "{64}\n",
      "{64}\n",
      "{64}\n",
      "{64}\n",
      "{64}\n",
      "{64}\n",
      "{64}\n",
      "{64}\n",
      "{64}\n",
      "{64}\n",
      "{64}\n",
      "{64}\n",
      "{64}\n",
      "{64}\n",
      "{64}\n",
      "{64}\n",
      "{64}\n",
      "{64}\n",
      "{64}\n",
      "{64}\n",
      "{64}\n",
      "{64}\n",
      "{64}\n",
      "{64}\n",
      "{64}\n",
      "{64}\n",
      "{64}\n",
      "{64}\n",
      "{64}\n",
      "{64}\n",
      "{64}\n",
      "{64}\n",
      "{64}\n",
      "{64}\n",
      "{64}\n",
      "{64}\n",
      "{64}\n",
      "{64}\n",
      "{64}\n",
      "{64}\n",
      "{64}\n",
      "{64}\n",
      "{64}\n",
      "{64}\n",
      "{64}\n",
      "{64}\n",
      "{64}\n",
      "{64}\n",
      "{64}\n",
      "{64}\n",
      "{64}\n",
      "{64}\n",
      "{64}\n",
      "{64}\n",
      "{64}\n",
      "{64}\n",
      "{64}\n",
      "{64}\n",
      "{64}\n",
      "{64}\n",
      "{64}\n",
      "{64}\n",
      "{64}\n",
      "{64}\n",
      "{64}\n",
      "{64}\n",
      "{64}\n",
      "{64}\n",
      "{64}\n",
      "{64}\n",
      "{64}\n",
      "{64}\n",
      "{64}\n",
      "{64}\n",
      "{64}\n",
      "{64}\n",
      "{64}\n",
      "{64}\n",
      "{64}\n",
      "{64}\n",
      "{64}\n",
      "{64}\n",
      "{64}\n",
      "{64}\n",
      "{64}\n",
      "{64}\n",
      "{64}\n",
      "{64}\n",
      "{64}\n",
      "{64}\n",
      "{64}\n",
      "{64}\n",
      "{64}\n",
      "{64}\n",
      "{64}\n",
      "{64}\n",
      "{64}\n",
      "{64}\n",
      "{64}\n",
      "{64}\n",
      "{64}\n",
      "{64}\n",
      "{64}\n",
      "{64}\n",
      "{64}\n",
      "{64}\n",
      "{64}\n",
      "{64}\n",
      "{64}\n",
      "{64}\n",
      "{64}\n",
      "{64}\n",
      "{64}\n",
      "{64}\n",
      "{64}\n",
      "{64}\n",
      "{64}\n",
      "{64}\n",
      "{64}\n",
      "{64}\n",
      "{64}\n",
      "{64}\n",
      "{64}\n",
      "{64}\n",
      "{64}\n"
     ]
    },
    {
     "name": "stderr",
     "output_type": "stream",
     "text": [
      "/Library/Frameworks/Python.framework/Versions/3.11/lib/python3.11/site-packages/sklearn/model_selection/_validation.py:425: FitFailedWarning: \n",
      "90 fits failed out of a total of 270.\n",
      "The score on these train-test partitions for these parameters will be set to nan.\n",
      "If these failures are not expected, you can try to debug them by setting error_score='raise'.\n",
      "\n",
      "Below are more details about the failures:\n",
      "--------------------------------------------------------------------------------\n",
      "50 fits failed with the following error:\n",
      "Traceback (most recent call last):\n",
      "  File \"/Library/Frameworks/Python.framework/Versions/3.11/lib/python3.11/site-packages/sklearn/model_selection/_validation.py\", line 732, in _fit_and_score\n",
      "    estimator.fit(X_train, y_train, **fit_params)\n",
      "  File \"/Library/Frameworks/Python.framework/Versions/3.11/lib/python3.11/site-packages/sklearn/base.py\", line 1151, in wrapper\n",
      "    return fit_method(estimator, *args, **kwargs)\n",
      "           ^^^^^^^^^^^^^^^^^^^^^^^^^^^^^^^^^^^^^^\n",
      "  File \"/Library/Frameworks/Python.framework/Versions/3.11/lib/python3.11/site-packages/sklearn/pipeline.py\", line 420, in fit\n",
      "    self._final_estimator.fit(Xt, y, **fit_params_last_step)\n",
      "  File \"/Library/Frameworks/Python.framework/Versions/3.11/lib/python3.11/site-packages/sklearn/base.py\", line 1144, in wrapper\n",
      "    estimator._validate_params()\n",
      "  File \"/Library/Frameworks/Python.framework/Versions/3.11/lib/python3.11/site-packages/sklearn/base.py\", line 637, in _validate_params\n",
      "    validate_parameter_constraints(\n",
      "  File \"/Library/Frameworks/Python.framework/Versions/3.11/lib/python3.11/site-packages/sklearn/utils/_param_validation.py\", line 95, in validate_parameter_constraints\n",
      "    raise InvalidParameterError(\n",
      "sklearn.utils._param_validation.InvalidParameterError: The 'max_features' parameter of RandomForestClassifier must be an int in the range [1, inf), a float in the range (0.0, 1.0], a str among {'sqrt', 'log2'} or None. Got 'auto' instead.\n",
      "\n",
      "--------------------------------------------------------------------------------\n",
      "40 fits failed with the following error:\n",
      "Traceback (most recent call last):\n",
      "  File \"/Library/Frameworks/Python.framework/Versions/3.11/lib/python3.11/site-packages/sklearn/model_selection/_validation.py\", line 732, in _fit_and_score\n",
      "    estimator.fit(X_train, y_train, **fit_params)\n",
      "  File \"/Library/Frameworks/Python.framework/Versions/3.11/lib/python3.11/site-packages/sklearn/base.py\", line 1151, in wrapper\n",
      "    return fit_method(estimator, *args, **kwargs)\n",
      "           ^^^^^^^^^^^^^^^^^^^^^^^^^^^^^^^^^^^^^^\n",
      "  File \"/Library/Frameworks/Python.framework/Versions/3.11/lib/python3.11/site-packages/sklearn/pipeline.py\", line 420, in fit\n",
      "    self._final_estimator.fit(Xt, y, **fit_params_last_step)\n",
      "  File \"/Library/Frameworks/Python.framework/Versions/3.11/lib/python3.11/site-packages/sklearn/base.py\", line 1144, in wrapper\n",
      "    estimator._validate_params()\n",
      "  File \"/Library/Frameworks/Python.framework/Versions/3.11/lib/python3.11/site-packages/sklearn/base.py\", line 637, in _validate_params\n",
      "    validate_parameter_constraints(\n",
      "  File \"/Library/Frameworks/Python.framework/Versions/3.11/lib/python3.11/site-packages/sklearn/utils/_param_validation.py\", line 95, in validate_parameter_constraints\n",
      "    raise InvalidParameterError(\n",
      "sklearn.utils._param_validation.InvalidParameterError: The 'max_features' parameter of RandomForestClassifier must be an int in the range [1, inf), a float in the range (0.0, 1.0], a str among {'log2', 'sqrt'} or None. Got 'auto' instead.\n",
      "\n",
      "  warnings.warn(some_fits_failed_message, FitFailedWarning)\n",
      "/Library/Frameworks/Python.framework/Versions/3.11/lib/python3.11/site-packages/sklearn/model_selection/_search.py:976: UserWarning: One or more of the test scores are non-finite: [       nan        nan        nan        nan        nan        nan\n",
      "        nan        nan        nan 0.28777789 0.29820018 0.29193838\n",
      " 0.29379855 0.28707539 0.29078634 0.28962893 0.29124662 0.29402574\n",
      " 0.30283437 0.29703714 0.29726997 0.29379184 0.2921763  0.29078258\n",
      " 0.288004   0.2893945  0.29425829        nan        nan        nan\n",
      "        nan        nan        nan        nan        nan        nan\n",
      " 0.28452642 0.29217255 0.2956453  0.28430218 0.29402708 0.29171092\n",
      " 0.288004   0.29124287 0.2868474  0.29912557 0.29356412 0.28800454\n",
      " 0.29148025 0.29379667 0.29495381 0.29171039 0.28615    0.29194294]\n",
      "  warnings.warn(\n"
     ]
    },
    {
     "name": "stdout",
     "output_type": "stream",
     "text": [
      "{64}\n",
      "done in 57.094s\n",
      "\n",
      "Best score: 0.303\n",
      "Best parameters set:\n",
      "\trf__criterion: 'gini'\n",
      "\trf__max_features: 'log2'\n",
      "\trf__min_samples_split: 2\n",
      "\trf__n_estimators: 30\n"
     ]
    }
   ],
   "source": [
    "if __name__ == \"__main__\":\n",
    "    # multiprocessing requires the fork to happen in a __main__ protected\n",
    "    # block\n",
    "\n",
    "    # find the best parameters for both the feature extraction and the\n",
    "    # classifier\n",
    "    grid_search = GridSearchCV(pipeline, parameters, n_jobs=-1, verbose=1)\n",
    "\n",
    "    print(\"Performing grid search...\")\n",
    "    print(\"pipeline:\", [name for name, _ in pipeline.steps])\n",
    "    print(\"parameters:\")\n",
    "    pprint(parameters)\n",
    "    t0 = time()\n",
    "    grid_search.fit(data, target_class)\n",
    "    print(\"done in %0.3fs\" % (time() - t0))\n",
    "    print()\n",
    "\n",
    "    print(\"Best score: %0.3f\" % grid_search.best_score_)\n",
    "    print(\"Best parameters set:\")\n",
    "    best_parameters = grid_search.best_estimator_.get_params()\n",
    "    for param_name in sorted(parameters.keys()):\n",
    "        print(\"\\t%s: %r\" % (param_name, best_parameters[param_name]))"
   ]
  },
  {
   "cell_type": "code",
   "execution_count": 57,
   "metadata": {},
   "outputs": [
    {
     "name": "stdout",
     "output_type": "stream",
     "text": [
      "{64}\n"
     ]
    },
    {
     "data": {
      "text/html": [
       "<style>#sk-container-id-2 {color: black;}#sk-container-id-2 pre{padding: 0;}#sk-container-id-2 div.sk-toggleable {background-color: white;}#sk-container-id-2 label.sk-toggleable__label {cursor: pointer;display: block;width: 100%;margin-bottom: 0;padding: 0.3em;box-sizing: border-box;text-align: center;}#sk-container-id-2 label.sk-toggleable__label-arrow:before {content: \"▸\";float: left;margin-right: 0.25em;color: #696969;}#sk-container-id-2 label.sk-toggleable__label-arrow:hover:before {color: black;}#sk-container-id-2 div.sk-estimator:hover label.sk-toggleable__label-arrow:before {color: black;}#sk-container-id-2 div.sk-toggleable__content {max-height: 0;max-width: 0;overflow: hidden;text-align: left;background-color: #f0f8ff;}#sk-container-id-2 div.sk-toggleable__content pre {margin: 0.2em;color: black;border-radius: 0.25em;background-color: #f0f8ff;}#sk-container-id-2 input.sk-toggleable__control:checked~div.sk-toggleable__content {max-height: 200px;max-width: 100%;overflow: auto;}#sk-container-id-2 input.sk-toggleable__control:checked~label.sk-toggleable__label-arrow:before {content: \"▾\";}#sk-container-id-2 div.sk-estimator input.sk-toggleable__control:checked~label.sk-toggleable__label {background-color: #d4ebff;}#sk-container-id-2 div.sk-label input.sk-toggleable__control:checked~label.sk-toggleable__label {background-color: #d4ebff;}#sk-container-id-2 input.sk-hidden--visually {border: 0;clip: rect(1px 1px 1px 1px);clip: rect(1px, 1px, 1px, 1px);height: 1px;margin: -1px;overflow: hidden;padding: 0;position: absolute;width: 1px;}#sk-container-id-2 div.sk-estimator {font-family: monospace;background-color: #f0f8ff;border: 1px dotted black;border-radius: 0.25em;box-sizing: border-box;margin-bottom: 0.5em;}#sk-container-id-2 div.sk-estimator:hover {background-color: #d4ebff;}#sk-container-id-2 div.sk-parallel-item::after {content: \"\";width: 100%;border-bottom: 1px solid gray;flex-grow: 1;}#sk-container-id-2 div.sk-label:hover label.sk-toggleable__label {background-color: #d4ebff;}#sk-container-id-2 div.sk-serial::before {content: \"\";position: absolute;border-left: 1px solid gray;box-sizing: border-box;top: 0;bottom: 0;left: 50%;z-index: 0;}#sk-container-id-2 div.sk-serial {display: flex;flex-direction: column;align-items: center;background-color: white;padding-right: 0.2em;padding-left: 0.2em;position: relative;}#sk-container-id-2 div.sk-item {position: relative;z-index: 1;}#sk-container-id-2 div.sk-parallel {display: flex;align-items: stretch;justify-content: center;background-color: white;position: relative;}#sk-container-id-2 div.sk-item::before, #sk-container-id-2 div.sk-parallel-item::before {content: \"\";position: absolute;border-left: 1px solid gray;box-sizing: border-box;top: 0;bottom: 0;left: 50%;z-index: -1;}#sk-container-id-2 div.sk-parallel-item {display: flex;flex-direction: column;z-index: 1;position: relative;background-color: white;}#sk-container-id-2 div.sk-parallel-item:first-child::after {align-self: flex-end;width: 50%;}#sk-container-id-2 div.sk-parallel-item:last-child::after {align-self: flex-start;width: 50%;}#sk-container-id-2 div.sk-parallel-item:only-child::after {width: 0;}#sk-container-id-2 div.sk-dashed-wrapped {border: 1px dashed gray;margin: 0 0.4em 0.5em 0.4em;box-sizing: border-box;padding-bottom: 0.4em;background-color: white;}#sk-container-id-2 div.sk-label label {font-family: monospace;font-weight: bold;display: inline-block;line-height: 1.2em;}#sk-container-id-2 div.sk-label-container {text-align: center;}#sk-container-id-2 div.sk-container {/* jupyter's `normalize.less` sets `[hidden] { display: none; }` but bootstrap.min.css set `[hidden] { display: none !important; }` so we also need the `!important` here to be able to override the default hidden behavior on the sphinx rendered scikit-learn.org. See: https://github.com/scikit-learn/scikit-learn/issues/21755 */display: inline-block !important;position: relative;}#sk-container-id-2 div.sk-text-repr-fallback {display: none;}</style><div id=\"sk-container-id-2\" class=\"sk-top-container\"><div class=\"sk-text-repr-fallback\"><pre>Pipeline(steps=[(&#x27;Word2Vec Vectorizer&#x27;,\n",
       "                 &lt;__main__.MeanEmbeddingVectorizer object at 0x2b7d56790&gt;),\n",
       "                (&#x27;Random Forest&#x27;,\n",
       "                 RandomForestClassifier(min_samples_split=6, n_estimators=40,\n",
       "                                        n_jobs=3))])</pre><b>In a Jupyter environment, please rerun this cell to show the HTML representation or trust the notebook. <br />On GitHub, the HTML representation is unable to render, please try loading this page with nbviewer.org.</b></div><div class=\"sk-container\" hidden><div class=\"sk-item sk-dashed-wrapped\"><div class=\"sk-label-container\"><div class=\"sk-label sk-toggleable\"><input class=\"sk-toggleable__control sk-hidden--visually\" id=\"sk-estimator-id-4\" type=\"checkbox\" ><label for=\"sk-estimator-id-4\" class=\"sk-toggleable__label sk-toggleable__label-arrow\">Pipeline</label><div class=\"sk-toggleable__content\"><pre>Pipeline(steps=[(&#x27;Word2Vec Vectorizer&#x27;,\n",
       "                 &lt;__main__.MeanEmbeddingVectorizer object at 0x2b7d56790&gt;),\n",
       "                (&#x27;Random Forest&#x27;,\n",
       "                 RandomForestClassifier(min_samples_split=6, n_estimators=40,\n",
       "                                        n_jobs=3))])</pre></div></div></div><div class=\"sk-serial\"><div class=\"sk-item\"><div class=\"sk-estimator sk-toggleable\"><input class=\"sk-toggleable__control sk-hidden--visually\" id=\"sk-estimator-id-5\" type=\"checkbox\" ><label for=\"sk-estimator-id-5\" class=\"sk-toggleable__label sk-toggleable__label-arrow\">MeanEmbeddingVectorizer</label><div class=\"sk-toggleable__content\"><pre>&lt;__main__.MeanEmbeddingVectorizer object at 0x2b7d56790&gt;</pre></div></div></div><div class=\"sk-item\"><div class=\"sk-estimator sk-toggleable\"><input class=\"sk-toggleable__control sk-hidden--visually\" id=\"sk-estimator-id-6\" type=\"checkbox\" ><label for=\"sk-estimator-id-6\" class=\"sk-toggleable__label sk-toggleable__label-arrow\">RandomForestClassifier</label><div class=\"sk-toggleable__content\"><pre>RandomForestClassifier(min_samples_split=6, n_estimators=40, n_jobs=3)</pre></div></div></div></div></div></div></div>"
      ],
      "text/plain": [
       "Pipeline(steps=[('Word2Vec Vectorizer',\n",
       "                 <__main__.MeanEmbeddingVectorizer object at 0x2b7d56790>),\n",
       "                ('Random Forest',\n",
       "                 RandomForestClassifier(min_samples_split=6, n_estimators=40,\n",
       "                                        n_jobs=3))])"
      ]
     },
     "execution_count": 57,
     "metadata": {},
     "output_type": "execute_result"
    }
   ],
   "source": [
    "best_rf = RandomForestClassifier(criterion='gini', max_features='sqrt', min_samples_split=6, n_estimators=40, n_jobs=3)\n",
    "pipeline_best = Pipeline([('Word2Vec Vectorizer', MeanEmbeddingVectorizer(w2v)), ('Random Forest', best_rf)])\n",
    "pipeline_best.fit(X_train, y_train)"
   ]
  },
  {
   "cell_type": "code",
   "execution_count": 58,
   "metadata": {},
   "outputs": [
    {
     "name": "stdout",
     "output_type": "stream",
     "text": [
      "{64}\n",
      "Test Set Accuracy: 47.69%\n"
     ]
    }
   ],
   "source": [
    "y_pred = pipeline_best.predict(X_test)\n",
    "accuracy = accuracy_score(y_test, y_pred)\n",
    "print(f\"Test Set Accuracy: {accuracy*100:.2f}%\")"
   ]
  },
  {
   "cell_type": "code",
   "execution_count": 59,
   "metadata": {},
   "outputs": [],
   "source": [
    "#Grid Search: Word2Vec with Random Forest Classifier\n",
    "pipeline =  Pipeline([('Word2Vec Vectorizer', MeanEmbeddingVectorizer(w2v)),\n",
    "              ('rf', RandomForestClassifier(n_estimators = 30, criterion='gini', n_jobs=3, max_features='sqrt'))])\n",
    "parameters = {\n",
    "    'rf__class_weight':(\"balanced\",None),\n",
    "    'rf__min_samples_split':(4,6),\n",
    "    'rf__max_samples':(None, 0.5,0.8,1)   \n",
    "}"
   ]
  },
  {
   "cell_type": "code",
   "execution_count": 60,
   "metadata": {},
   "outputs": [
    {
     "name": "stdout",
     "output_type": "stream",
     "text": [
      "Performing grid search...\n",
      "pipeline: ['Word2Vec Vectorizer', 'rf']\n",
      "parameters:\n",
      "{'rf__class_weight': ('balanced', None),\n",
      " 'rf__max_samples': (None, 0.5, 0.8, 1),\n",
      " 'rf__min_samples_split': (4, 6)}\n",
      "Fitting 5 folds for each of 16 candidates, totalling 80 fits\n",
      "{64}\n",
      "{64}\n",
      "{64}\n",
      "{64}\n",
      "{64}\n",
      "{64}\n",
      "{64}\n",
      "{64}\n",
      "{64}\n",
      "{64}\n",
      "{64}\n",
      "{64}\n",
      "{64}\n",
      "{64}\n",
      "{64}\n",
      "{64}\n",
      "{64}\n",
      "{64}\n",
      "{64}\n",
      "{64}\n",
      "{64}\n",
      "{64}\n",
      "{64}\n",
      "{64}\n",
      "{64}\n",
      "{64}\n",
      "{64}\n",
      "{64}\n",
      "{64}\n",
      "{64}\n",
      "{64}\n",
      "{64}\n",
      "{64}\n",
      "{64}\n",
      "{64}\n",
      "{64}\n",
      "{64}\n",
      "{64}\n",
      "{64}\n",
      "{64}\n",
      "{64}\n",
      "{64}\n",
      "{64}\n",
      "{64}\n",
      "{64}\n",
      "{64}\n",
      "{64}\n",
      "{64}\n",
      "{64}\n",
      "{64}\n",
      "{64}\n",
      "{64}\n",
      "{64}\n",
      "{64}\n",
      "{64}\n",
      "{64}\n",
      "{64}\n",
      "{64}\n",
      "{64}\n",
      "{64}\n",
      "{64}\n",
      "{64}\n",
      "{64}\n",
      "{64}\n",
      "{64}\n",
      "{64}\n",
      "{64}\n",
      "{64}\n",
      "{64}\n",
      "{64}\n",
      "{64}\n",
      "{64}\n",
      "{64}\n",
      "{64}\n",
      "{64}\n",
      "{64}\n",
      "{64}\n",
      "{64}\n",
      "{64}\n",
      "{64}\n",
      "{64}\n",
      "{64}\n",
      "{64}\n",
      "{64}\n",
      "{64}\n",
      "{64}\n",
      "{64}\n",
      "{64}\n",
      "{64}\n",
      "{64}\n",
      "{64}\n",
      "{64}\n",
      "{64}\n",
      "{64}\n",
      "{64}\n",
      "{64}\n",
      "{64}\n",
      "{64}\n",
      "{64}\n",
      "{64}\n",
      "{64}\n",
      "{64}\n",
      "{64}\n",
      "{64}\n",
      "{64}\n",
      "{64}\n",
      "{64}\n",
      "{64}\n",
      "{64}\n",
      "{64}\n",
      "{64}\n",
      "{64}\n",
      "{64}\n",
      "{64}\n",
      "{64}\n",
      "{64}\n",
      "{64}\n",
      "{64}\n",
      "{64}\n",
      "{64}\n",
      "{64}\n",
      "{64}\n",
      "{64}\n",
      "{64}\n",
      "{64}\n",
      "{64}\n",
      "{64}\n",
      "{64}\n",
      "{64}\n",
      "{64}\n",
      "{64}\n",
      "{64}\n",
      "{64}\n",
      "{64}\n",
      "{64}\n",
      "{64}\n",
      "{64}\n",
      "{64}\n",
      "{64}\n",
      "{64}\n",
      "{64}\n",
      "{64}\n",
      "{64}\n",
      "{64}\n",
      "{64}\n",
      "{64}\n",
      "{64}\n",
      "{64}\n",
      "{64}\n",
      "{64}\n",
      "{64}\n",
      "{64}\n",
      "{64}\n",
      "{64}\n",
      "{64}\n",
      "{64}\n",
      "{64}\n",
      "{64}\n",
      "{64}\n",
      "{64}\n",
      "{64}\n",
      "done in 16.690s\n",
      "\n",
      "Best score: 0.354\n",
      "Best parameters set:\n",
      "\trf__class_weight: 'balanced'\n",
      "\trf__max_samples: 0.8\n",
      "\trf__min_samples_split: 6\n"
     ]
    }
   ],
   "source": [
    "if __name__ == \"__main__\":\n",
    "    # multiprocessing requires the fork to happen in a __main__ protected\n",
    "    # block\n",
    "\n",
    "    # find the best parameters for both the feature extraction and the\n",
    "    # classifier\n",
    "    grid_search = GridSearchCV(pipeline, parameters, n_jobs=-1, verbose=1)\n",
    "\n",
    "    print(\"Performing grid search...\")\n",
    "    print(\"pipeline:\", [name for name, _ in pipeline.steps])\n",
    "    print(\"parameters:\")\n",
    "    pprint(parameters)\n",
    "    t0 = time()\n",
    "    grid_search.fit(X_train, y_train)\n",
    "    print(\"done in %0.3fs\" % (time() - t0))\n",
    "    print()\n",
    "\n",
    "    print(\"Best score: %0.3f\" % grid_search.best_score_)\n",
    "    print(\"Best parameters set:\")\n",
    "    best_parameters = grid_search.best_estimator_.get_params()\n",
    "    for param_name in sorted(parameters.keys()):\n",
    "        print(\"\\t%s: %r\" % (param_name, best_parameters[param_name]))"
   ]
  },
  {
   "cell_type": "code",
   "execution_count": 61,
   "metadata": {},
   "outputs": [
    {
     "name": "stdout",
     "output_type": "stream",
     "text": [
      "{64}\n",
      "Test Set Accuracy with Best Parameters: 49.07%\n"
     ]
    }
   ],
   "source": [
    "y_pred_best = grid_search.best_estimator_.predict(X_test)\n",
    "accuracy_best = accuracy_score(y_test, y_pred_best)\n",
    "print(f\"Test Set Accuracy with Best Parameters: {accuracy_best*100:.2f}%\")"
   ]
  },
  {
   "cell_type": "markdown",
   "metadata": {},
   "source": [
    "## Using SGD with Grid Search"
   ]
  },
  {
   "cell_type": "code",
   "execution_count": 62,
   "metadata": {},
   "outputs": [],
   "source": [
    "#Try SGDClassifier \n",
    "pipeline = Pipeline([\n",
    "    ('Word2Vec Vectorizer', MeanEmbeddingVectorizer(w2v)),\n",
    "    ('clf', SGDClassifier(n_jobs=3, early_stopping=True, validation_fraction=0.2))\n",
    "])\n",
    "\n",
    "# uncommenting more parameters will give better exploring power but will\n",
    "# increase processing time in a combinatorial way\n",
    "parameters = {\n",
    "    \n",
    "    'clf__alpha': (0.0001, 0.001, 0.01),\n",
    "    'clf__penalty': ('l2', 'elasticnet'),\n",
    "    'clf__l1_ratio':(0, 0.1, 0.3, 0.5),\n",
    "    'clf__max_iter': (100,200,300)\n",
    "}"
   ]
  },
  {
   "cell_type": "code",
   "execution_count": 63,
   "metadata": {},
   "outputs": [
    {
     "name": "stdout",
     "output_type": "stream",
     "text": [
      "Performing grid search...\n",
      "pipeline: ['Word2Vec Vectorizer', 'clf']\n",
      "parameters:\n",
      "{'clf__alpha': (0.0001, 0.001, 0.01),\n",
      " 'clf__l1_ratio': (0, 0.1, 0.3, 0.5),\n",
      " 'clf__max_iter': (100, 200, 300),\n",
      " 'clf__penalty': ('l2', 'elasticnet')}\n",
      "Fitting 5 folds for each of 72 candidates, totalling 360 fits\n",
      "{64}\n",
      "{64}\n",
      "{64}\n",
      "{64}\n",
      "{64}\n",
      "{64}\n",
      "{64}\n",
      "{64}\n",
      "{64}\n",
      "{64}\n",
      "{64}\n",
      "{64}\n",
      "{64}\n",
      "{64}\n",
      "{64}\n",
      "{64}\n",
      "{64}\n",
      "{64}\n",
      "{64}\n",
      "{64}\n",
      "{64}\n",
      "{64}\n",
      "{64}\n",
      "{64}\n",
      "{64}\n",
      "{64}\n",
      "{64}\n",
      "{64}\n",
      "{64}\n",
      "{64}\n",
      "{64}\n",
      "{64}\n",
      "{64}\n",
      "{64}\n",
      "{64}\n",
      "{64}\n",
      "{64}\n",
      "{64}\n",
      "{64}\n",
      "{64}\n",
      "{64}\n",
      "{64}\n",
      "{64}\n",
      "{64}\n",
      "{64}\n",
      "{64}\n",
      "{64}\n",
      "{64}\n",
      "{64}\n",
      "{64}\n",
      "{64}\n",
      "{64}\n",
      "{64}\n",
      "{64}\n",
      "{64}\n",
      "{64}\n",
      "{64}\n",
      "{64}\n",
      "{64}\n",
      "{64}\n",
      "{64}\n",
      "{64}\n",
      "{64}\n",
      "{64}\n",
      "{64}\n",
      "{64}\n",
      "{64}\n",
      "{64}\n",
      "{64}\n",
      "{64}\n",
      "{64}\n",
      "{64}\n",
      "{64}\n",
      "{64}\n",
      "{64}\n",
      "{64}\n",
      "{64}\n",
      "{64}\n",
      "{64}\n",
      "{64}\n",
      "{64}\n",
      "{64}\n",
      "{64}\n",
      "{64}\n",
      "{64}\n",
      "{64}\n",
      "{64}\n",
      "{64}\n",
      "{64}\n",
      "{64}\n",
      "{64}\n",
      "{64}\n",
      "{64}\n",
      "{64}\n",
      "{64}\n",
      "{64}\n",
      "{64}\n",
      "{64}\n",
      "{64}\n",
      "{64}\n",
      "{64}\n",
      "{64}\n",
      "{64}\n",
      "{64}\n",
      "{64}\n",
      "{64}\n",
      "{64}\n",
      "{64}\n",
      "{64}\n",
      "{64}\n",
      "{64}\n",
      "{64}\n",
      "{64}\n",
      "{64}\n",
      "{64}\n",
      "{64}\n",
      "{64}\n",
      "{64}\n",
      "{64}\n",
      "{64}\n",
      "{64}\n",
      "{64}\n",
      "{64}\n",
      "{64}\n",
      "{64}\n",
      "{64}\n",
      "{64}\n",
      "{64}\n",
      "{64}\n",
      "{64}\n",
      "{64}\n",
      "{64}\n",
      "{64}\n",
      "{64}\n",
      "{64}\n",
      "{64}\n",
      "{64}\n",
      "{64}\n",
      "{64}\n",
      "{64}\n",
      "{64}\n",
      "{64}\n",
      "{64}\n",
      "{64}\n",
      "{64}\n",
      "{64}\n",
      "{64}\n",
      "{64}\n",
      "{64}\n",
      "{64}\n",
      "{64}\n",
      "{64}\n",
      "{64}\n",
      "{64}\n",
      "{64}\n",
      "{64}\n",
      "{64}\n",
      "{64}\n",
      "{64}\n",
      "{64}\n",
      "{64}\n",
      "{64}\n",
      "{64}\n",
      "{64}\n",
      "{64}\n",
      "{64}\n",
      "{64}\n",
      "{64}\n",
      "{64}\n",
      "{64}\n",
      "{64}\n",
      "{64}\n",
      "{64}\n",
      "{64}\n",
      "{64}\n",
      "{64}\n",
      "{64}\n",
      "{64}\n",
      "{64}\n",
      "{64}\n",
      "{64}\n",
      "{64}\n",
      "{64}\n",
      "{64}\n",
      "{64}\n",
      "{64}\n",
      "{64}\n",
      "{64}\n",
      "{64}\n",
      "{64}\n",
      "{64}\n",
      "{64}\n",
      "{64}\n",
      "{64}\n",
      "{64}\n",
      "{64}\n",
      "{64}\n",
      "{64}\n",
      "{64}\n",
      "{64}\n",
      "{64}\n",
      "{64}\n",
      "{64}\n",
      "{64}\n",
      "{64}\n",
      "{64}\n",
      "{64}\n",
      "{64}\n",
      "{64}\n",
      "{64}\n",
      "{64}\n",
      "{64}\n",
      "{64}\n",
      "{64}\n",
      "{64}\n",
      "{64}\n",
      "{64}\n",
      "{64}\n",
      "{64}\n",
      "{64}\n",
      "{64}\n",
      "{64}\n",
      "{64}\n",
      "{64}\n",
      "{64}\n",
      "{64}\n",
      "{64}\n",
      "{64}\n",
      "{64}\n",
      "{64}\n",
      "{64}\n",
      "{64}\n",
      "{64}\n",
      "{64}\n",
      "{64}\n",
      "{64}\n",
      "{64}\n",
      "{64}\n",
      "{64}\n",
      "{64}\n",
      "{64}\n",
      "{64}\n",
      "{64}\n",
      "{64}\n",
      "{64}\n",
      "{64}\n",
      "{64}\n",
      "{64}\n",
      "{64}\n",
      "{64}\n",
      "{64}\n",
      "{64}\n",
      "{64}\n",
      "{64}\n",
      "{64}\n",
      "{64}\n",
      "{64}\n",
      "{64}\n",
      "{64}\n",
      "{64}\n",
      "{64}\n",
      "{64}\n",
      "{64}\n",
      "{64}\n",
      "{64}\n",
      "{64}\n",
      "{64}\n",
      "{64}\n",
      "{64}\n",
      "{64}\n",
      "{64}\n",
      "{64}\n",
      "{64}\n",
      "{64}\n",
      "{64}\n",
      "{64}\n",
      "{64}\n",
      "{64}\n",
      "{64}\n",
      "{64}\n",
      "{64}\n",
      "{64}\n",
      "{64}\n",
      "{64}\n",
      "{64}\n",
      "{64}\n",
      "{64}\n",
      "{64}\n",
      "{64}\n",
      "{64}\n",
      "{64}\n",
      "{64}\n",
      "{64}\n",
      "{64}\n",
      "{64}\n",
      "{64}\n",
      "{64}\n",
      "{64}\n",
      "{64}\n",
      "{64}\n",
      "{64}\n",
      "{64}\n",
      "{64}\n",
      "{64}\n",
      "{64}\n",
      "{64}\n",
      "{64}\n",
      "{64}\n",
      "{64}\n",
      "{64}\n",
      "{64}\n",
      "{64}\n",
      "{64}\n",
      "{64}\n",
      "{64}\n",
      "{64}\n",
      "{64}\n",
      "{64}\n",
      "{64}\n",
      "{64}\n",
      "{64}\n",
      "{64}\n",
      "{64}\n",
      "{64}\n",
      "{64}\n",
      "{64}\n",
      "{64}\n",
      "{64}\n",
      "{64}\n",
      "{64}\n",
      "{64}\n",
      "{64}\n",
      "{64}\n",
      "{64}\n",
      "{64}\n",
      "{64}\n",
      "{64}\n",
      "{64}\n",
      "{64}\n",
      "{64}\n",
      "{64}\n",
      "{64}\n",
      "{64}\n",
      "{64}\n",
      "{64}\n",
      "{64}\n",
      "{64}\n",
      "{64}\n",
      "{64}\n",
      "{64}\n",
      "{64}\n",
      "{64}\n",
      "{64}\n",
      "{64}\n",
      "{64}\n",
      "{64}\n",
      "{64}\n",
      "{64}\n",
      "{64}\n",
      "{64}\n",
      "{64}\n",
      "{64}\n",
      "{64}\n",
      "{64}\n",
      "{64}\n",
      "{64}\n",
      "{64}\n",
      "{64}\n",
      "{64}\n",
      "{64}\n",
      "{64}\n",
      "{64}\n",
      "{64}\n",
      "{64}\n",
      "{64}\n",
      "{64}\n",
      "{64}\n",
      "{64}\n",
      "{64}\n",
      "{64}\n",
      "{64}\n",
      "{64}\n",
      "{64}\n",
      "{64}\n",
      "{64}\n",
      "{64}\n",
      "{64}\n",
      "{64}\n",
      "{64}\n",
      "{64}\n",
      "{64}\n",
      "{64}\n",
      "{64}\n",
      "{64}\n",
      "{64}\n",
      "{64}\n",
      "{64}\n",
      "{64}\n",
      "{64}\n",
      "{64}\n",
      "{64}\n",
      "{64}\n",
      "{64}\n",
      "{64}\n",
      "{64}\n",
      "{64}\n",
      "{64}\n",
      "{64}\n",
      "{64}\n",
      "{64}\n",
      "{64}\n",
      "{64}\n",
      "{64}\n",
      "{64}\n",
      "{64}\n",
      "{64}\n",
      "{64}\n",
      "{64}\n",
      "{64}\n",
      "{64}\n",
      "{64}\n",
      "{64}\n",
      "{64}\n",
      "{64}\n",
      "{64}\n",
      "{64}\n",
      "{64}\n",
      "{64}\n",
      "{64}\n",
      "{64}\n",
      "{64}\n",
      "{64}\n",
      "{64}\n",
      "{64}\n",
      "{64}\n",
      "{64}\n",
      "{64}\n",
      "{64}\n",
      "{64}\n",
      "{64}\n",
      "{64}\n",
      "{64}\n",
      "{64}\n",
      "{64}\n",
      "{64}\n",
      "{64}\n",
      "{64}\n",
      "{64}\n",
      "{64}\n",
      "{64}\n",
      "{64}\n",
      "{64}\n",
      "{64}\n",
      "{64}\n",
      "{64}\n",
      "{64}\n",
      "{64}\n",
      "{64}\n",
      "{64}\n",
      "{64}\n",
      "{64}\n",
      "{64}\n",
      "{64}\n",
      "{64}\n",
      "{64}\n",
      "{64}\n",
      "{64}\n",
      "{64}\n",
      "{64}\n",
      "{64}\n",
      "{64}\n",
      "{64}\n",
      "{64}\n",
      "{64}\n",
      "{64}\n",
      "{64}\n",
      "{64}\n",
      "{64}\n",
      "{64}\n",
      "{64}\n",
      "{64}\n",
      "{64}\n",
      "{64}\n",
      "{64}\n",
      "{64}\n",
      "{64}\n",
      "{64}\n",
      "{64}\n",
      "{64}\n",
      "{64}\n",
      "{64}\n",
      "{64}\n",
      "{64}\n",
      "{64}\n",
      "{64}\n",
      "{64}\n",
      "{64}\n",
      "{64}\n",
      "{64}\n",
      "{64}\n",
      "{64}\n",
      "{64}\n",
      "{64}\n",
      "{64}\n",
      "{64}\n",
      "{64}\n",
      "{64}\n",
      "{64}\n",
      "{64}\n",
      "{64}\n",
      "{64}\n",
      "{64}\n",
      "{64}\n",
      "{64}\n",
      "{64}\n",
      "{64}\n",
      "{64}\n",
      "{64}\n",
      "{64}\n",
      "{64}\n",
      "{64}\n",
      "{64}\n",
      "{64}\n",
      "{64}\n",
      "{64}\n",
      "{64}\n",
      "{64}\n",
      "{64}\n",
      "{64}\n",
      "{64}\n",
      "{64}\n",
      "{64}\n",
      "{64}\n",
      "{64}\n",
      "{64}\n",
      "{64}\n",
      "{64}\n",
      "{64}\n",
      "{64}\n",
      "{64}\n",
      "{64}\n",
      "{64}\n",
      "{64}\n",
      "{64}\n",
      "{64}\n",
      "{64}\n",
      "{64}\n",
      "{64}\n",
      "{64}\n",
      "{64}\n",
      "{64}\n",
      "{64}\n",
      "{64}\n",
      "{64}\n",
      "{64}\n",
      "{64}\n",
      "{64}\n",
      "{64}\n",
      "{64}\n",
      "{64}\n",
      "{64}\n",
      "{64}\n",
      "{64}\n",
      "{64}\n",
      "{64}\n",
      "{64}\n",
      "{64}\n",
      "{64}\n",
      "{64}\n",
      "{64}\n",
      "{64}\n",
      "{64}\n",
      "{64}\n",
      "{64}\n",
      "{64}\n",
      "{64}\n",
      "{64}\n",
      "{64}\n",
      "{64}\n",
      "{64}\n",
      "{64}\n",
      "{64}\n",
      "{64}\n",
      "{64}\n",
      "{64}\n",
      "{64}\n",
      "{64}\n",
      "{64}\n",
      "{64}\n",
      "{64}\n",
      "{64}\n",
      "{64}\n",
      "{64}\n",
      "{64}\n",
      "{64}\n",
      "{64}\n",
      "{64}\n",
      "{64}\n",
      "{64}\n",
      "{64}\n",
      "{64}\n",
      "{64}\n",
      "{64}\n",
      "{64}\n",
      "{64}\n",
      "{64}\n",
      "{64}\n",
      "{64}\n",
      "{64}\n",
      "{64}\n",
      "{64}\n",
      "{64}\n",
      "{64}\n",
      "{64}\n",
      "{64}\n",
      "{64}\n",
      "{64}\n",
      "{64}\n",
      "{64}\n",
      "{64}\n",
      "{64}\n",
      "{64}\n",
      "{64}\n",
      "{64}\n",
      "{64}\n",
      "{64}\n",
      "{64}\n",
      "{64}\n",
      "{64}\n",
      "{64}\n",
      "{64}\n",
      "{64}\n",
      "{64}\n",
      "{64}\n",
      "{64}\n",
      "{64}\n",
      "{64}\n",
      "{64}\n",
      "{64}\n",
      "{64}\n",
      "{64}\n",
      "{64}\n",
      "{64}\n",
      "{64}\n",
      "{64}\n",
      "{64}\n",
      "{64}\n",
      "{64}\n",
      "{64}\n",
      "{64}\n",
      "{64}\n",
      "{64}\n",
      "{64}\n",
      "{64}\n",
      "{64}\n",
      "{64}\n",
      "{64}\n",
      "{64}\n",
      "{64}\n",
      "{64}\n",
      "{64}\n",
      "{64}\n",
      "{64}\n",
      "{64}\n",
      "{64}\n",
      "{64}\n",
      "{64}\n",
      "{64}\n",
      "{64}\n",
      "{64}\n",
      "{64}\n",
      "{64}\n",
      "{64}\n",
      "{64}\n",
      "{64}\n",
      "{64}\n",
      "{64}\n",
      "{64}\n",
      "{64}\n",
      "{64}\n",
      "{64}\n",
      "{64}\n",
      "{64}\n",
      "{64}\n",
      "{64}\n",
      "{64}\n",
      "{64}\n",
      "{64}\n",
      "{64}\n",
      "{64}\n",
      "{64}\n",
      "{64}\n",
      "{64}\n",
      "{64}\n",
      "{64}\n",
      "{64}\n",
      "{64}\n",
      "{64}\n",
      "{64}\n",
      "{64}\n",
      "{64}\n",
      "{64}\n",
      "{64}\n",
      "{64}\n",
      "{64}\n",
      "{64}\n",
      "{64}\n",
      "{64}\n",
      "{64}\n",
      "{64}\n",
      "{64}\n",
      "{64}\n",
      "{64}\n",
      "{64}\n",
      "{64}\n",
      "{64}\n",
      "{64}\n",
      "{64}\n",
      "{64}\n",
      "{64}\n",
      "{64}\n",
      "done in 70.913s\n",
      "\n",
      "Best score: 0.305\n",
      "Best parameters set:\n",
      "\tclf__alpha: 0.01\n",
      "\tclf__l1_ratio: 0\n",
      "\tclf__max_iter: 300\n",
      "\tclf__penalty: 'elasticnet'\n"
     ]
    }
   ],
   "source": [
    "if __name__ == \"__main__\":\n",
    "    # multiprocessing requires the fork to happen in a __main__ protected\n",
    "    # block\n",
    "\n",
    "    # find the best parameters for both the feature extraction and the\n",
    "    # classifier\n",
    "    grid_search = GridSearchCV(pipeline, parameters, n_jobs=-1, verbose=1)\n",
    "\n",
    "    print(\"Performing grid search...\")\n",
    "    print(\"pipeline:\", [name for name, _ in pipeline.steps])\n",
    "    print(\"parameters:\")\n",
    "    pprint(parameters)\n",
    "    t0 = time()\n",
    "    grid_search.fit(X_train, y_train)\n",
    "    print(\"done in %0.3fs\" % (time() - t0))\n",
    "    print()\n",
    "\n",
    "    print(\"Best score: %0.3f\" % grid_search.best_score_)\n",
    "    print(\"Best parameters set:\")\n",
    "    best_parameters = grid_search.best_estimator_.get_params()\n",
    "    for param_name in sorted(parameters.keys()):\n",
    "        print(\"\\t%s: %r\" % (param_name, best_parameters[param_name]))"
   ]
  },
  {
   "cell_type": "code",
   "execution_count": 64,
   "metadata": {},
   "outputs": [
    {
     "name": "stdout",
     "output_type": "stream",
     "text": [
      "{64}\n",
      "SGDClassifier Test Accuracy: 30.324\n"
     ]
    }
   ],
   "source": [
    "# Use the best estimator from the SGD grid search\n",
    "best_sgd_model = grid_search.best_estimator_\n",
    "\n",
    "# Predict on test data\n",
    "sgd_predictions = best_sgd_model.predict(X_test)\n",
    "\n",
    "# Calculate the accuracy\n",
    "sgd_accuracy = accuracy_score(y_test, sgd_predictions)\n",
    "print(f\"SGDClassifier Test Accuracy: {sgd_accuracy*100:.3f}\")\n"
   ]
  },
  {
   "cell_type": "code",
   "execution_count": 65,
   "metadata": {},
   "outputs": [
    {
     "name": "stdout",
     "output_type": "stream",
     "text": [
      "Fitting 5 folds for each of 9 candidates, totalling 45 fits\n"
     ]
    },
    {
     "name": "stdout",
     "output_type": "stream",
     "text": [
      "{64}\n",
      "{64}\n",
      "{64}\n",
      "{64}\n",
      "{64}\n",
      "{64}\n",
      "{64}\n",
      "{64}\n",
      "{64}\n",
      "{64}\n",
      "{64}\n",
      "{64}\n",
      "{64}\n",
      "{64}\n",
      "{64}\n",
      "{64}\n",
      "{64}\n",
      "{64}\n",
      "{64}\n",
      "{64}\n",
      "{64}\n",
      "{64}\n",
      "{64}\n",
      "{64}\n",
      "{64}\n",
      "{64}\n",
      "{64}\n",
      "{64}\n",
      "{64}\n",
      "{64}\n",
      "{64}\n",
      "{64}\n",
      "{64}\n",
      "{64}\n",
      "{64}\n",
      "{64}\n",
      "{64}\n",
      "{64}\n",
      "{64}\n",
      "{64}\n",
      "{64}\n",
      "{64}\n",
      "{64}\n",
      "{64}\n",
      "{64}\n",
      "{64}\n",
      "{64}\n",
      "{64}\n",
      "{64}\n",
      "{64}\n",
      "{64}\n",
      "{64}\n",
      "{64}\n",
      "{64}\n",
      "{64}\n",
      "{64}\n",
      "{64}\n",
      "{64}\n",
      "{64}\n",
      "{64}\n",
      "{64}\n",
      "{64}\n",
      "{64}\n",
      "{64}\n",
      "{64}\n",
      "{64}\n",
      "{64}\n",
      "{64}\n",
      "{64}\n",
      "{64}\n",
      "{64}\n",
      "{64}\n",
      "{64}\n",
      "{64}\n",
      "{64}\n",
      "{64}\n",
      "{64}\n",
      "{64}\n",
      "{64}\n",
      "{64}\n",
      "{64}\n",
      "{64}\n",
      "{64}\n",
      "{64}\n",
      "{64}\n",
      "{64}\n",
      "{64}\n",
      "{64}\n",
      "{64}\n",
      "{64}\n",
      "{64}\n"
     ]
    },
    {
     "data": {
      "text/html": [
       "<style>#sk-container-id-3 {color: black;}#sk-container-id-3 pre{padding: 0;}#sk-container-id-3 div.sk-toggleable {background-color: white;}#sk-container-id-3 label.sk-toggleable__label {cursor: pointer;display: block;width: 100%;margin-bottom: 0;padding: 0.3em;box-sizing: border-box;text-align: center;}#sk-container-id-3 label.sk-toggleable__label-arrow:before {content: \"▸\";float: left;margin-right: 0.25em;color: #696969;}#sk-container-id-3 label.sk-toggleable__label-arrow:hover:before {color: black;}#sk-container-id-3 div.sk-estimator:hover label.sk-toggleable__label-arrow:before {color: black;}#sk-container-id-3 div.sk-toggleable__content {max-height: 0;max-width: 0;overflow: hidden;text-align: left;background-color: #f0f8ff;}#sk-container-id-3 div.sk-toggleable__content pre {margin: 0.2em;color: black;border-radius: 0.25em;background-color: #f0f8ff;}#sk-container-id-3 input.sk-toggleable__control:checked~div.sk-toggleable__content {max-height: 200px;max-width: 100%;overflow: auto;}#sk-container-id-3 input.sk-toggleable__control:checked~label.sk-toggleable__label-arrow:before {content: \"▾\";}#sk-container-id-3 div.sk-estimator input.sk-toggleable__control:checked~label.sk-toggleable__label {background-color: #d4ebff;}#sk-container-id-3 div.sk-label input.sk-toggleable__control:checked~label.sk-toggleable__label {background-color: #d4ebff;}#sk-container-id-3 input.sk-hidden--visually {border: 0;clip: rect(1px 1px 1px 1px);clip: rect(1px, 1px, 1px, 1px);height: 1px;margin: -1px;overflow: hidden;padding: 0;position: absolute;width: 1px;}#sk-container-id-3 div.sk-estimator {font-family: monospace;background-color: #f0f8ff;border: 1px dotted black;border-radius: 0.25em;box-sizing: border-box;margin-bottom: 0.5em;}#sk-container-id-3 div.sk-estimator:hover {background-color: #d4ebff;}#sk-container-id-3 div.sk-parallel-item::after {content: \"\";width: 100%;border-bottom: 1px solid gray;flex-grow: 1;}#sk-container-id-3 div.sk-label:hover label.sk-toggleable__label {background-color: #d4ebff;}#sk-container-id-3 div.sk-serial::before {content: \"\";position: absolute;border-left: 1px solid gray;box-sizing: border-box;top: 0;bottom: 0;left: 50%;z-index: 0;}#sk-container-id-3 div.sk-serial {display: flex;flex-direction: column;align-items: center;background-color: white;padding-right: 0.2em;padding-left: 0.2em;position: relative;}#sk-container-id-3 div.sk-item {position: relative;z-index: 1;}#sk-container-id-3 div.sk-parallel {display: flex;align-items: stretch;justify-content: center;background-color: white;position: relative;}#sk-container-id-3 div.sk-item::before, #sk-container-id-3 div.sk-parallel-item::before {content: \"\";position: absolute;border-left: 1px solid gray;box-sizing: border-box;top: 0;bottom: 0;left: 50%;z-index: -1;}#sk-container-id-3 div.sk-parallel-item {display: flex;flex-direction: column;z-index: 1;position: relative;background-color: white;}#sk-container-id-3 div.sk-parallel-item:first-child::after {align-self: flex-end;width: 50%;}#sk-container-id-3 div.sk-parallel-item:last-child::after {align-self: flex-start;width: 50%;}#sk-container-id-3 div.sk-parallel-item:only-child::after {width: 0;}#sk-container-id-3 div.sk-dashed-wrapped {border: 1px dashed gray;margin: 0 0.4em 0.5em 0.4em;box-sizing: border-box;padding-bottom: 0.4em;background-color: white;}#sk-container-id-3 div.sk-label label {font-family: monospace;font-weight: bold;display: inline-block;line-height: 1.2em;}#sk-container-id-3 div.sk-label-container {text-align: center;}#sk-container-id-3 div.sk-container {/* jupyter's `normalize.less` sets `[hidden] { display: none; }` but bootstrap.min.css set `[hidden] { display: none !important; }` so we also need the `!important` here to be able to override the default hidden behavior on the sphinx rendered scikit-learn.org. See: https://github.com/scikit-learn/scikit-learn/issues/21755 */display: inline-block !important;position: relative;}#sk-container-id-3 div.sk-text-repr-fallback {display: none;}</style><div id=\"sk-container-id-3\" class=\"sk-top-container\"><div class=\"sk-text-repr-fallback\"><pre>GridSearchCV(estimator=Pipeline(steps=[(&#x27;Word2Vec Vectorizer&#x27;,\n",
       "                                        &lt;__main__.MeanEmbeddingVectorizer object at 0x2b8a76510&gt;),\n",
       "                                       (&#x27;clf&#x27;,\n",
       "                                        SGDClassifier(early_stopping=True,\n",
       "                                                      n_jobs=3,\n",
       "                                                      validation_fraction=0.2))]),\n",
       "             n_jobs=-1,\n",
       "             param_grid={&#x27;clf__alpha&#x27;: (0.005, 0.01, 0.02),\n",
       "                         &#x27;clf__max_iter&#x27;: (150, 200, 250)},\n",
       "             verbose=1)</pre><b>In a Jupyter environment, please rerun this cell to show the HTML representation or trust the notebook. <br />On GitHub, the HTML representation is unable to render, please try loading this page with nbviewer.org.</b></div><div class=\"sk-container\" hidden><div class=\"sk-item sk-dashed-wrapped\"><div class=\"sk-label-container\"><div class=\"sk-label sk-toggleable\"><input class=\"sk-toggleable__control sk-hidden--visually\" id=\"sk-estimator-id-7\" type=\"checkbox\" ><label for=\"sk-estimator-id-7\" class=\"sk-toggleable__label sk-toggleable__label-arrow\">GridSearchCV</label><div class=\"sk-toggleable__content\"><pre>GridSearchCV(estimator=Pipeline(steps=[(&#x27;Word2Vec Vectorizer&#x27;,\n",
       "                                        &lt;__main__.MeanEmbeddingVectorizer object at 0x2b8a76510&gt;),\n",
       "                                       (&#x27;clf&#x27;,\n",
       "                                        SGDClassifier(early_stopping=True,\n",
       "                                                      n_jobs=3,\n",
       "                                                      validation_fraction=0.2))]),\n",
       "             n_jobs=-1,\n",
       "             param_grid={&#x27;clf__alpha&#x27;: (0.005, 0.01, 0.02),\n",
       "                         &#x27;clf__max_iter&#x27;: (150, 200, 250)},\n",
       "             verbose=1)</pre></div></div></div><div class=\"sk-parallel\"><div class=\"sk-parallel-item\"><div class=\"sk-item\"><div class=\"sk-label-container\"><div class=\"sk-label sk-toggleable\"><input class=\"sk-toggleable__control sk-hidden--visually\" id=\"sk-estimator-id-8\" type=\"checkbox\" ><label for=\"sk-estimator-id-8\" class=\"sk-toggleable__label sk-toggleable__label-arrow\">estimator: Pipeline</label><div class=\"sk-toggleable__content\"><pre>Pipeline(steps=[(&#x27;Word2Vec Vectorizer&#x27;,\n",
       "                 &lt;__main__.MeanEmbeddingVectorizer object at 0x2b8a76510&gt;),\n",
       "                (&#x27;clf&#x27;,\n",
       "                 SGDClassifier(early_stopping=True, n_jobs=3,\n",
       "                               validation_fraction=0.2))])</pre></div></div></div><div class=\"sk-serial\"><div class=\"sk-item\"><div class=\"sk-serial\"><div class=\"sk-item\"><div class=\"sk-estimator sk-toggleable\"><input class=\"sk-toggleable__control sk-hidden--visually\" id=\"sk-estimator-id-9\" type=\"checkbox\" ><label for=\"sk-estimator-id-9\" class=\"sk-toggleable__label sk-toggleable__label-arrow\">MeanEmbeddingVectorizer</label><div class=\"sk-toggleable__content\"><pre>&lt;__main__.MeanEmbeddingVectorizer object at 0x2b8a76510&gt;</pre></div></div></div><div class=\"sk-item\"><div class=\"sk-estimator sk-toggleable\"><input class=\"sk-toggleable__control sk-hidden--visually\" id=\"sk-estimator-id-10\" type=\"checkbox\" ><label for=\"sk-estimator-id-10\" class=\"sk-toggleable__label sk-toggleable__label-arrow\">SGDClassifier</label><div class=\"sk-toggleable__content\"><pre>SGDClassifier(early_stopping=True, n_jobs=3, validation_fraction=0.2)</pre></div></div></div></div></div></div></div></div></div></div></div></div>"
      ],
      "text/plain": [
       "GridSearchCV(estimator=Pipeline(steps=[('Word2Vec Vectorizer',\n",
       "                                        <__main__.MeanEmbeddingVectorizer object at 0x2b8a76510>),\n",
       "                                       ('clf',\n",
       "                                        SGDClassifier(early_stopping=True,\n",
       "                                                      n_jobs=3,\n",
       "                                                      validation_fraction=0.2))]),\n",
       "             n_jobs=-1,\n",
       "             param_grid={'clf__alpha': (0.005, 0.01, 0.02),\n",
       "                         'clf__max_iter': (150, 200, 250)},\n",
       "             verbose=1)"
      ]
     },
     "execution_count": 65,
     "metadata": {},
     "output_type": "execute_result"
    }
   ],
   "source": [
    "# Adjusting parameters for a refined grid search\n",
    "pipeline = Pipeline([\n",
    "    ('Word2Vec Vectorizer', MeanEmbeddingVectorizer(w2v)),\n",
    "    ('clf', SGDClassifier(n_jobs=3, early_stopping=True, validation_fraction=0.2))\n",
    "])\n",
    "\n",
    "parameters = {\n",
    "    'clf__alpha': (0.005, 0.01, 0.02),\n",
    "    'clf__max_iter': (150, 200, 250)\n",
    "}\n",
    "\n",
    "grid_search_refined = GridSearchCV(pipeline, parameters, n_jobs=-1, verbose=1)\n",
    "grid_search_refined.fit(X_train, y_train)\n"
   ]
  },
  {
   "cell_type": "code",
   "execution_count": 66,
   "metadata": {},
   "outputs": [],
   "source": [
    "from gensim.models import Word2Vec\n",
    "\n",
    "model = Word2Vec(data, vector_size=100, window=5, min_count=1, workers=4)\n",
    "model.save(\"word2vec.model\")"
   ]
  },
  {
   "cell_type": "markdown",
   "metadata": {},
   "source": [
    "## Model 2: Count vectorizer + TF-IDF with GridSearch"
   ]
  },
  {
   "cell_type": "code",
   "execution_count": 67,
   "metadata": {},
   "outputs": [],
   "source": [
    "from pprint import pprint\n",
    "from time import time\n",
    "import logging\n",
    "\n",
    "from sklearn.feature_extraction.text import CountVectorizer\n",
    "from sklearn.feature_extraction.text import TfidfTransformer\n",
    "from sklearn.linear_model import SGDClassifier\n",
    "from sklearn.ensemble import RandomForestClassifier\n",
    "from sklearn.model_selection import GridSearchCV\n",
    "from sklearn.pipeline import Pipeline"
   ]
  },
  {
   "cell_type": "code",
   "execution_count": 68,
   "metadata": {},
   "outputs": [],
   "source": [
    "#The input needs to be raw text\n",
    "text = df['description']"
   ]
  },
  {
   "cell_type": "code",
   "execution_count": 69,
   "metadata": {},
   "outputs": [
    {
     "data": {
      "text/plain": [
       "0    3.0\n",
       "1    1.0\n",
       "2    1.0\n",
       "3    1.0\n",
       "4    2.0\n",
       "Name: Salary_Bins, dtype: category\n",
       "Categories (6, float64): [0.0, 1.0, 2.0, 3.0, 4.0, 5.0]"
      ]
     },
     "execution_count": 69,
     "metadata": {},
     "output_type": "execute_result"
    }
   ],
   "source": [
    "target_class.head()"
   ]
  },
  {
   "cell_type": "markdown",
   "metadata": {},
   "source": [
    "### Train-Test Split"
   ]
  },
  {
   "cell_type": "code",
   "execution_count": 70,
   "metadata": {},
   "outputs": [
    {
     "name": "stdout",
     "output_type": "stream",
     "text": [
      "(4320,)\n",
      "(4316,)\n"
     ]
    }
   ],
   "source": [
    "print(text.shape)\n",
    "print(target_class.shape)"
   ]
  },
  {
   "cell_type": "code",
   "execution_count": 71,
   "metadata": {},
   "outputs": [],
   "source": [
    "text = text.iloc[:len(target_class)]"
   ]
  },
  {
   "cell_type": "code",
   "execution_count": 72,
   "metadata": {},
   "outputs": [],
   "source": [
    "target_class = target_class.iloc[:len(text)]"
   ]
  },
  {
   "cell_type": "code",
   "execution_count": 73,
   "metadata": {},
   "outputs": [],
   "source": [
    "X_train, X_test, y_train, y_test = train_test_split(text, target_class, test_size=0.1, random_state=4)"
   ]
  },
  {
   "cell_type": "markdown",
   "metadata": {},
   "source": [
    "### SGD Classifier with Grid Search"
   ]
  },
  {
   "cell_type": "code",
   "execution_count": 74,
   "metadata": {},
   "outputs": [],
   "source": [
    "#Try SGDClassifier \n",
    "pipeline = Pipeline([\n",
    "    ('vect', CountVectorizer(max_df=0.5, min_df = 5, ngram_range=(1,2), stop_words='english')),\n",
    "    ('tfidf', TfidfTransformer()),\n",
    "    ('clf', SGDClassifier(n_jobs=3))\n",
    "])\n",
    "\n",
    "# uncommenting more parameters will give better exploring power but will\n",
    "# increase processing time in a combinatorial way\n",
    "parameters = {\n",
    "    'vect__max_df':(0.2,0.5),\n",
    "    'vect__min_df':(0.01,0.05),\n",
    "    #'tfidf__use_idf':(True, False),\n",
    "    #'tfidf__smooth_idf':(True, False),\n",
    "    'clf__alpha': (0.0001,0.001),\n",
    "    'clf__loss': ('hinge', 'log'), \n",
    "    #'clf__penalty': ('l2', 'elasticnet'),\n",
    "    'clf__max_iter': (100,200,500)\n",
    "}"
   ]
  },
  {
   "cell_type": "code",
   "execution_count": 75,
   "metadata": {},
   "outputs": [
    {
     "name": "stdout",
     "output_type": "stream",
     "text": [
      "Performing grid search...\n",
      "pipeline: ['vect', 'tfidf', 'clf']\n",
      "parameters:\n",
      "{'clf__alpha': (0.0001, 0.001),\n",
      " 'clf__loss': ('hinge', 'log'),\n",
      " 'clf__max_iter': (100, 200, 500),\n",
      " 'vect__max_df': (0.2, 0.5),\n",
      " 'vect__min_df': (0.01, 0.05)}\n",
      "Fitting 5 folds for each of 48 candidates, totalling 240 fits\n"
     ]
    },
    {
     "name": "stderr",
     "output_type": "stream",
     "text": [
      "/Library/Frameworks/Python.framework/Versions/3.11/lib/python3.11/site-packages/sklearn/model_selection/_validation.py:425: FitFailedWarning: \n",
      "120 fits failed out of a total of 240.\n",
      "The score on these train-test partitions for these parameters will be set to nan.\n",
      "If these failures are not expected, you can try to debug them by setting error_score='raise'.\n",
      "\n",
      "Below are more details about the failures:\n",
      "--------------------------------------------------------------------------------\n",
      "11 fits failed with the following error:\n",
      "Traceback (most recent call last):\n",
      "  File \"/Library/Frameworks/Python.framework/Versions/3.11/lib/python3.11/site-packages/sklearn/model_selection/_validation.py\", line 732, in _fit_and_score\n",
      "    estimator.fit(X_train, y_train, **fit_params)\n",
      "  File \"/Library/Frameworks/Python.framework/Versions/3.11/lib/python3.11/site-packages/sklearn/base.py\", line 1151, in wrapper\n",
      "    return fit_method(estimator, *args, **kwargs)\n",
      "           ^^^^^^^^^^^^^^^^^^^^^^^^^^^^^^^^^^^^^^\n",
      "  File \"/Library/Frameworks/Python.framework/Versions/3.11/lib/python3.11/site-packages/sklearn/pipeline.py\", line 420, in fit\n",
      "    self._final_estimator.fit(Xt, y, **fit_params_last_step)\n",
      "  File \"/Library/Frameworks/Python.framework/Versions/3.11/lib/python3.11/site-packages/sklearn/base.py\", line 1144, in wrapper\n",
      "    estimator._validate_params()\n",
      "  File \"/Library/Frameworks/Python.framework/Versions/3.11/lib/python3.11/site-packages/sklearn/base.py\", line 637, in _validate_params\n",
      "    validate_parameter_constraints(\n",
      "  File \"/Library/Frameworks/Python.framework/Versions/3.11/lib/python3.11/site-packages/sklearn/utils/_param_validation.py\", line 95, in validate_parameter_constraints\n",
      "    raise InvalidParameterError(\n",
      "sklearn.utils._param_validation.InvalidParameterError: The 'loss' parameter of SGDClassifier must be a str among {'squared_epsilon_insensitive', 'epsilon_insensitive', 'squared_error', 'hinge', 'perceptron', 'modified_huber', 'log_loss', 'squared_hinge', 'huber'}. Got 'log' instead.\n",
      "\n",
      "--------------------------------------------------------------------------------\n",
      "11 fits failed with the following error:\n",
      "Traceback (most recent call last):\n",
      "  File \"/Library/Frameworks/Python.framework/Versions/3.11/lib/python3.11/site-packages/sklearn/model_selection/_validation.py\", line 732, in _fit_and_score\n",
      "    estimator.fit(X_train, y_train, **fit_params)\n",
      "  File \"/Library/Frameworks/Python.framework/Versions/3.11/lib/python3.11/site-packages/sklearn/base.py\", line 1151, in wrapper\n",
      "    return fit_method(estimator, *args, **kwargs)\n",
      "           ^^^^^^^^^^^^^^^^^^^^^^^^^^^^^^^^^^^^^^\n",
      "  File \"/Library/Frameworks/Python.framework/Versions/3.11/lib/python3.11/site-packages/sklearn/pipeline.py\", line 420, in fit\n",
      "    self._final_estimator.fit(Xt, y, **fit_params_last_step)\n",
      "  File \"/Library/Frameworks/Python.framework/Versions/3.11/lib/python3.11/site-packages/sklearn/base.py\", line 1144, in wrapper\n",
      "    estimator._validate_params()\n",
      "  File \"/Library/Frameworks/Python.framework/Versions/3.11/lib/python3.11/site-packages/sklearn/base.py\", line 637, in _validate_params\n",
      "    validate_parameter_constraints(\n",
      "  File \"/Library/Frameworks/Python.framework/Versions/3.11/lib/python3.11/site-packages/sklearn/utils/_param_validation.py\", line 95, in validate_parameter_constraints\n",
      "    raise InvalidParameterError(\n",
      "sklearn.utils._param_validation.InvalidParameterError: The 'loss' parameter of SGDClassifier must be a str among {'hinge', 'epsilon_insensitive', 'perceptron', 'huber', 'squared_epsilon_insensitive', 'squared_error', 'squared_hinge', 'log_loss', 'modified_huber'}. Got 'log' instead.\n",
      "\n",
      "--------------------------------------------------------------------------------\n",
      "10 fits failed with the following error:\n",
      "Traceback (most recent call last):\n",
      "  File \"/Library/Frameworks/Python.framework/Versions/3.11/lib/python3.11/site-packages/sklearn/model_selection/_validation.py\", line 732, in _fit_and_score\n",
      "    estimator.fit(X_train, y_train, **fit_params)\n",
      "  File \"/Library/Frameworks/Python.framework/Versions/3.11/lib/python3.11/site-packages/sklearn/base.py\", line 1151, in wrapper\n",
      "    return fit_method(estimator, *args, **kwargs)\n",
      "           ^^^^^^^^^^^^^^^^^^^^^^^^^^^^^^^^^^^^^^\n",
      "  File \"/Library/Frameworks/Python.framework/Versions/3.11/lib/python3.11/site-packages/sklearn/pipeline.py\", line 420, in fit\n",
      "    self._final_estimator.fit(Xt, y, **fit_params_last_step)\n",
      "  File \"/Library/Frameworks/Python.framework/Versions/3.11/lib/python3.11/site-packages/sklearn/base.py\", line 1144, in wrapper\n",
      "    estimator._validate_params()\n",
      "  File \"/Library/Frameworks/Python.framework/Versions/3.11/lib/python3.11/site-packages/sklearn/base.py\", line 637, in _validate_params\n",
      "    validate_parameter_constraints(\n",
      "  File \"/Library/Frameworks/Python.framework/Versions/3.11/lib/python3.11/site-packages/sklearn/utils/_param_validation.py\", line 95, in validate_parameter_constraints\n",
      "    raise InvalidParameterError(\n",
      "sklearn.utils._param_validation.InvalidParameterError: The 'loss' parameter of SGDClassifier must be a str among {'hinge', 'epsilon_insensitive', 'squared_error', 'huber', 'squared_epsilon_insensitive', 'squared_hinge', 'modified_huber', 'log_loss', 'perceptron'}. Got 'log' instead.\n",
      "\n",
      "--------------------------------------------------------------------------------\n",
      "10 fits failed with the following error:\n",
      "Traceback (most recent call last):\n",
      "  File \"/Library/Frameworks/Python.framework/Versions/3.11/lib/python3.11/site-packages/sklearn/model_selection/_validation.py\", line 732, in _fit_and_score\n",
      "    estimator.fit(X_train, y_train, **fit_params)\n",
      "  File \"/Library/Frameworks/Python.framework/Versions/3.11/lib/python3.11/site-packages/sklearn/base.py\", line 1151, in wrapper\n",
      "    return fit_method(estimator, *args, **kwargs)\n",
      "           ^^^^^^^^^^^^^^^^^^^^^^^^^^^^^^^^^^^^^^\n",
      "  File \"/Library/Frameworks/Python.framework/Versions/3.11/lib/python3.11/site-packages/sklearn/pipeline.py\", line 420, in fit\n",
      "    self._final_estimator.fit(Xt, y, **fit_params_last_step)\n",
      "  File \"/Library/Frameworks/Python.framework/Versions/3.11/lib/python3.11/site-packages/sklearn/base.py\", line 1144, in wrapper\n",
      "    estimator._validate_params()\n",
      "  File \"/Library/Frameworks/Python.framework/Versions/3.11/lib/python3.11/site-packages/sklearn/base.py\", line 637, in _validate_params\n",
      "    validate_parameter_constraints(\n",
      "  File \"/Library/Frameworks/Python.framework/Versions/3.11/lib/python3.11/site-packages/sklearn/utils/_param_validation.py\", line 95, in validate_parameter_constraints\n",
      "    raise InvalidParameterError(\n",
      "sklearn.utils._param_validation.InvalidParameterError: The 'loss' parameter of SGDClassifier must be a str among {'squared_error', 'squared_epsilon_insensitive', 'epsilon_insensitive', 'log_loss', 'perceptron', 'modified_huber', 'hinge', 'squared_hinge', 'huber'}. Got 'log' instead.\n",
      "\n",
      "--------------------------------------------------------------------------------\n",
      "10 fits failed with the following error:\n",
      "Traceback (most recent call last):\n",
      "  File \"/Library/Frameworks/Python.framework/Versions/3.11/lib/python3.11/site-packages/sklearn/model_selection/_validation.py\", line 732, in _fit_and_score\n",
      "    estimator.fit(X_train, y_train, **fit_params)\n",
      "  File \"/Library/Frameworks/Python.framework/Versions/3.11/lib/python3.11/site-packages/sklearn/base.py\", line 1151, in wrapper\n",
      "    return fit_method(estimator, *args, **kwargs)\n",
      "           ^^^^^^^^^^^^^^^^^^^^^^^^^^^^^^^^^^^^^^\n",
      "  File \"/Library/Frameworks/Python.framework/Versions/3.11/lib/python3.11/site-packages/sklearn/pipeline.py\", line 420, in fit\n",
      "    self._final_estimator.fit(Xt, y, **fit_params_last_step)\n",
      "  File \"/Library/Frameworks/Python.framework/Versions/3.11/lib/python3.11/site-packages/sklearn/base.py\", line 1144, in wrapper\n",
      "    estimator._validate_params()\n",
      "  File \"/Library/Frameworks/Python.framework/Versions/3.11/lib/python3.11/site-packages/sklearn/base.py\", line 637, in _validate_params\n",
      "    validate_parameter_constraints(\n",
      "  File \"/Library/Frameworks/Python.framework/Versions/3.11/lib/python3.11/site-packages/sklearn/utils/_param_validation.py\", line 95, in validate_parameter_constraints\n",
      "    raise InvalidParameterError(\n",
      "sklearn.utils._param_validation.InvalidParameterError: The 'loss' parameter of SGDClassifier must be a str among {'perceptron', 'log_loss', 'huber', 'hinge', 'squared_epsilon_insensitive', 'squared_error', 'modified_huber', 'epsilon_insensitive', 'squared_hinge'}. Got 'log' instead.\n",
      "\n",
      "--------------------------------------------------------------------------------\n",
      "10 fits failed with the following error:\n",
      "Traceback (most recent call last):\n",
      "  File \"/Library/Frameworks/Python.framework/Versions/3.11/lib/python3.11/site-packages/sklearn/model_selection/_validation.py\", line 732, in _fit_and_score\n",
      "    estimator.fit(X_train, y_train, **fit_params)\n",
      "  File \"/Library/Frameworks/Python.framework/Versions/3.11/lib/python3.11/site-packages/sklearn/base.py\", line 1151, in wrapper\n",
      "    return fit_method(estimator, *args, **kwargs)\n",
      "           ^^^^^^^^^^^^^^^^^^^^^^^^^^^^^^^^^^^^^^\n",
      "  File \"/Library/Frameworks/Python.framework/Versions/3.11/lib/python3.11/site-packages/sklearn/pipeline.py\", line 420, in fit\n",
      "    self._final_estimator.fit(Xt, y, **fit_params_last_step)\n",
      "  File \"/Library/Frameworks/Python.framework/Versions/3.11/lib/python3.11/site-packages/sklearn/base.py\", line 1144, in wrapper\n",
      "    estimator._validate_params()\n",
      "  File \"/Library/Frameworks/Python.framework/Versions/3.11/lib/python3.11/site-packages/sklearn/base.py\", line 637, in _validate_params\n",
      "    validate_parameter_constraints(\n",
      "  File \"/Library/Frameworks/Python.framework/Versions/3.11/lib/python3.11/site-packages/sklearn/utils/_param_validation.py\", line 95, in validate_parameter_constraints\n",
      "    raise InvalidParameterError(\n",
      "sklearn.utils._param_validation.InvalidParameterError: The 'loss' parameter of SGDClassifier must be a str among {'huber', 'modified_huber', 'squared_error', 'squared_hinge', 'epsilon_insensitive', 'squared_epsilon_insensitive', 'perceptron', 'hinge', 'log_loss'}. Got 'log' instead.\n",
      "\n",
      "--------------------------------------------------------------------------------\n",
      "10 fits failed with the following error:\n",
      "Traceback (most recent call last):\n",
      "  File \"/Library/Frameworks/Python.framework/Versions/3.11/lib/python3.11/site-packages/sklearn/model_selection/_validation.py\", line 732, in _fit_and_score\n",
      "    estimator.fit(X_train, y_train, **fit_params)\n",
      "  File \"/Library/Frameworks/Python.framework/Versions/3.11/lib/python3.11/site-packages/sklearn/base.py\", line 1151, in wrapper\n",
      "    return fit_method(estimator, *args, **kwargs)\n",
      "           ^^^^^^^^^^^^^^^^^^^^^^^^^^^^^^^^^^^^^^\n",
      "  File \"/Library/Frameworks/Python.framework/Versions/3.11/lib/python3.11/site-packages/sklearn/pipeline.py\", line 420, in fit\n",
      "    self._final_estimator.fit(Xt, y, **fit_params_last_step)\n",
      "  File \"/Library/Frameworks/Python.framework/Versions/3.11/lib/python3.11/site-packages/sklearn/base.py\", line 1144, in wrapper\n",
      "    estimator._validate_params()\n",
      "  File \"/Library/Frameworks/Python.framework/Versions/3.11/lib/python3.11/site-packages/sklearn/base.py\", line 637, in _validate_params\n",
      "    validate_parameter_constraints(\n",
      "  File \"/Library/Frameworks/Python.framework/Versions/3.11/lib/python3.11/site-packages/sklearn/utils/_param_validation.py\", line 95, in validate_parameter_constraints\n",
      "    raise InvalidParameterError(\n",
      "sklearn.utils._param_validation.InvalidParameterError: The 'loss' parameter of SGDClassifier must be a str among {'squared_error', 'epsilon_insensitive', 'squared_epsilon_insensitive', 'squared_hinge', 'huber', 'log_loss', 'hinge', 'perceptron', 'modified_huber'}. Got 'log' instead.\n",
      "\n",
      "--------------------------------------------------------------------------------\n",
      "10 fits failed with the following error:\n",
      "Traceback (most recent call last):\n",
      "  File \"/Library/Frameworks/Python.framework/Versions/3.11/lib/python3.11/site-packages/sklearn/model_selection/_validation.py\", line 732, in _fit_and_score\n",
      "    estimator.fit(X_train, y_train, **fit_params)\n",
      "  File \"/Library/Frameworks/Python.framework/Versions/3.11/lib/python3.11/site-packages/sklearn/base.py\", line 1151, in wrapper\n",
      "    return fit_method(estimator, *args, **kwargs)\n",
      "           ^^^^^^^^^^^^^^^^^^^^^^^^^^^^^^^^^^^^^^\n",
      "  File \"/Library/Frameworks/Python.framework/Versions/3.11/lib/python3.11/site-packages/sklearn/pipeline.py\", line 420, in fit\n",
      "    self._final_estimator.fit(Xt, y, **fit_params_last_step)\n",
      "  File \"/Library/Frameworks/Python.framework/Versions/3.11/lib/python3.11/site-packages/sklearn/base.py\", line 1144, in wrapper\n",
      "    estimator._validate_params()\n",
      "  File \"/Library/Frameworks/Python.framework/Versions/3.11/lib/python3.11/site-packages/sklearn/base.py\", line 637, in _validate_params\n",
      "    validate_parameter_constraints(\n",
      "  File \"/Library/Frameworks/Python.framework/Versions/3.11/lib/python3.11/site-packages/sklearn/utils/_param_validation.py\", line 95, in validate_parameter_constraints\n",
      "    raise InvalidParameterError(\n",
      "sklearn.utils._param_validation.InvalidParameterError: The 'loss' parameter of SGDClassifier must be a str among {'hinge', 'squared_error', 'squared_epsilon_insensitive', 'modified_huber', 'squared_hinge', 'perceptron', 'epsilon_insensitive', 'huber', 'log_loss'}. Got 'log' instead.\n",
      "\n",
      "--------------------------------------------------------------------------------\n",
      "10 fits failed with the following error:\n",
      "Traceback (most recent call last):\n",
      "  File \"/Library/Frameworks/Python.framework/Versions/3.11/lib/python3.11/site-packages/sklearn/model_selection/_validation.py\", line 732, in _fit_and_score\n",
      "    estimator.fit(X_train, y_train, **fit_params)\n",
      "  File \"/Library/Frameworks/Python.framework/Versions/3.11/lib/python3.11/site-packages/sklearn/base.py\", line 1151, in wrapper\n",
      "    return fit_method(estimator, *args, **kwargs)\n",
      "           ^^^^^^^^^^^^^^^^^^^^^^^^^^^^^^^^^^^^^^\n",
      "  File \"/Library/Frameworks/Python.framework/Versions/3.11/lib/python3.11/site-packages/sklearn/pipeline.py\", line 420, in fit\n",
      "    self._final_estimator.fit(Xt, y, **fit_params_last_step)\n",
      "  File \"/Library/Frameworks/Python.framework/Versions/3.11/lib/python3.11/site-packages/sklearn/base.py\", line 1144, in wrapper\n",
      "    estimator._validate_params()\n",
      "  File \"/Library/Frameworks/Python.framework/Versions/3.11/lib/python3.11/site-packages/sklearn/base.py\", line 637, in _validate_params\n",
      "    validate_parameter_constraints(\n",
      "  File \"/Library/Frameworks/Python.framework/Versions/3.11/lib/python3.11/site-packages/sklearn/utils/_param_validation.py\", line 95, in validate_parameter_constraints\n",
      "    raise InvalidParameterError(\n",
      "sklearn.utils._param_validation.InvalidParameterError: The 'loss' parameter of SGDClassifier must be a str among {'squared_hinge', 'huber', 'modified_huber', 'squared_epsilon_insensitive', 'hinge', 'squared_error', 'epsilon_insensitive', 'perceptron', 'log_loss'}. Got 'log' instead.\n",
      "\n",
      "--------------------------------------------------------------------------------\n",
      "9 fits failed with the following error:\n",
      "Traceback (most recent call last):\n",
      "  File \"/Library/Frameworks/Python.framework/Versions/3.11/lib/python3.11/site-packages/sklearn/model_selection/_validation.py\", line 732, in _fit_and_score\n",
      "    estimator.fit(X_train, y_train, **fit_params)\n",
      "  File \"/Library/Frameworks/Python.framework/Versions/3.11/lib/python3.11/site-packages/sklearn/base.py\", line 1151, in wrapper\n",
      "    return fit_method(estimator, *args, **kwargs)\n",
      "           ^^^^^^^^^^^^^^^^^^^^^^^^^^^^^^^^^^^^^^\n",
      "  File \"/Library/Frameworks/Python.framework/Versions/3.11/lib/python3.11/site-packages/sklearn/pipeline.py\", line 420, in fit\n",
      "    self._final_estimator.fit(Xt, y, **fit_params_last_step)\n",
      "  File \"/Library/Frameworks/Python.framework/Versions/3.11/lib/python3.11/site-packages/sklearn/base.py\", line 1144, in wrapper\n",
      "    estimator._validate_params()\n",
      "  File \"/Library/Frameworks/Python.framework/Versions/3.11/lib/python3.11/site-packages/sklearn/base.py\", line 637, in _validate_params\n",
      "    validate_parameter_constraints(\n",
      "  File \"/Library/Frameworks/Python.framework/Versions/3.11/lib/python3.11/site-packages/sklearn/utils/_param_validation.py\", line 95, in validate_parameter_constraints\n",
      "    raise InvalidParameterError(\n",
      "sklearn.utils._param_validation.InvalidParameterError: The 'loss' parameter of SGDClassifier must be a str among {'hinge', 'squared_hinge', 'perceptron', 'huber', 'epsilon_insensitive', 'squared_epsilon_insensitive', 'squared_error', 'log_loss', 'modified_huber'}. Got 'log' instead.\n",
      "\n",
      "--------------------------------------------------------------------------------\n",
      "9 fits failed with the following error:\n",
      "Traceback (most recent call last):\n",
      "  File \"/Library/Frameworks/Python.framework/Versions/3.11/lib/python3.11/site-packages/sklearn/model_selection/_validation.py\", line 732, in _fit_and_score\n",
      "    estimator.fit(X_train, y_train, **fit_params)\n",
      "  File \"/Library/Frameworks/Python.framework/Versions/3.11/lib/python3.11/site-packages/sklearn/base.py\", line 1151, in wrapper\n",
      "    return fit_method(estimator, *args, **kwargs)\n",
      "           ^^^^^^^^^^^^^^^^^^^^^^^^^^^^^^^^^^^^^^\n",
      "  File \"/Library/Frameworks/Python.framework/Versions/3.11/lib/python3.11/site-packages/sklearn/pipeline.py\", line 420, in fit\n",
      "    self._final_estimator.fit(Xt, y, **fit_params_last_step)\n",
      "  File \"/Library/Frameworks/Python.framework/Versions/3.11/lib/python3.11/site-packages/sklearn/base.py\", line 1144, in wrapper\n",
      "    estimator._validate_params()\n",
      "  File \"/Library/Frameworks/Python.framework/Versions/3.11/lib/python3.11/site-packages/sklearn/base.py\", line 637, in _validate_params\n",
      "    validate_parameter_constraints(\n",
      "  File \"/Library/Frameworks/Python.framework/Versions/3.11/lib/python3.11/site-packages/sklearn/utils/_param_validation.py\", line 95, in validate_parameter_constraints\n",
      "    raise InvalidParameterError(\n",
      "sklearn.utils._param_validation.InvalidParameterError: The 'loss' parameter of SGDClassifier must be a str among {'huber', 'perceptron', 'squared_epsilon_insensitive', 'squared_error', 'hinge', 'log_loss', 'squared_hinge', 'modified_huber', 'epsilon_insensitive'}. Got 'log' instead.\n",
      "\n",
      "--------------------------------------------------------------------------------\n",
      "10 fits failed with the following error:\n",
      "Traceback (most recent call last):\n",
      "  File \"/Library/Frameworks/Python.framework/Versions/3.11/lib/python3.11/site-packages/sklearn/model_selection/_validation.py\", line 732, in _fit_and_score\n",
      "    estimator.fit(X_train, y_train, **fit_params)\n",
      "  File \"/Library/Frameworks/Python.framework/Versions/3.11/lib/python3.11/site-packages/sklearn/base.py\", line 1151, in wrapper\n",
      "    return fit_method(estimator, *args, **kwargs)\n",
      "           ^^^^^^^^^^^^^^^^^^^^^^^^^^^^^^^^^^^^^^\n",
      "  File \"/Library/Frameworks/Python.framework/Versions/3.11/lib/python3.11/site-packages/sklearn/pipeline.py\", line 420, in fit\n",
      "    self._final_estimator.fit(Xt, y, **fit_params_last_step)\n",
      "  File \"/Library/Frameworks/Python.framework/Versions/3.11/lib/python3.11/site-packages/sklearn/base.py\", line 1144, in wrapper\n",
      "    estimator._validate_params()\n",
      "  File \"/Library/Frameworks/Python.framework/Versions/3.11/lib/python3.11/site-packages/sklearn/base.py\", line 637, in _validate_params\n",
      "    validate_parameter_constraints(\n",
      "  File \"/Library/Frameworks/Python.framework/Versions/3.11/lib/python3.11/site-packages/sklearn/utils/_param_validation.py\", line 95, in validate_parameter_constraints\n",
      "    raise InvalidParameterError(\n",
      "sklearn.utils._param_validation.InvalidParameterError: The 'loss' parameter of SGDClassifier must be a str among {'epsilon_insensitive', 'huber', 'log_loss', 'modified_huber', 'hinge', 'squared_epsilon_insensitive', 'perceptron', 'squared_error', 'squared_hinge'}. Got 'log' instead.\n",
      "\n",
      "  warnings.warn(some_fits_failed_message, FitFailedWarning)\n",
      "/Library/Frameworks/Python.framework/Versions/3.11/lib/python3.11/site-packages/sklearn/model_selection/_search.py:976: UserWarning: One or more of the test scores are non-finite: [0.35865343 0.33830952 0.36277382 0.3406291  0.36200195 0.33830985\n",
      " 0.36354602 0.34474983 0.35788122 0.34114192 0.36637842 0.3416607\n",
      "        nan        nan        nan        nan        nan        nan\n",
      "        nan        nan        nan        nan        nan        nan\n",
      " 0.35787857 0.33238533 0.36638107 0.34166003 0.36199996 0.33341526\n",
      " 0.36689421 0.33805444 0.35659256 0.33624899 0.36586561 0.3437199\n",
      "        nan        nan        nan        nan        nan        nan\n",
      "        nan        nan        nan        nan        nan        nan]\n",
      "  warnings.warn(\n"
     ]
    },
    {
     "name": "stdout",
     "output_type": "stream",
     "text": [
      "done in 27.375s\n",
      "\n",
      "Best score: 0.367\n",
      "Best parameters set:\n",
      "\tclf__alpha: 0.001\n",
      "\tclf__loss: 'hinge'\n",
      "\tclf__max_iter: 200\n",
      "\tvect__max_df: 0.5\n",
      "\tvect__min_df: 0.01\n"
     ]
    }
   ],
   "source": [
    "if __name__ == \"__main__\":\n",
    "    # multiprocessing requires the fork to happen in a __main__ protected\n",
    "    # block\n",
    "\n",
    "    # find the best parameters for both the feature extraction and the\n",
    "    # classifier\n",
    "    grid_search = GridSearchCV(pipeline, parameters, n_jobs=-1, verbose=1)\n",
    "\n",
    "    print(\"Performing grid search...\")\n",
    "    print(\"pipeline:\", [name for name, _ in pipeline.steps])\n",
    "    print(\"parameters:\")\n",
    "    pprint(parameters)\n",
    "    t0 = time()\n",
    "    grid_search.fit(X_train, y_train)\n",
    "    print(\"done in %0.3fs\" % (time() - t0))\n",
    "    print()\n",
    "\n",
    "    print(\"Best score: %0.3f\" % grid_search.best_score_)\n",
    "    print(\"Best parameters set:\")\n",
    "    best_parameters = grid_search.best_estimator_.get_params()\n",
    "    for param_name in sorted(parameters.keys()):\n",
    "        print(\"\\t%s: %r\" % (param_name, best_parameters[param_name]))"
   ]
  },
  {
   "cell_type": "code",
   "execution_count": 76,
   "metadata": {},
   "outputs": [],
   "source": [
    "SGD = Pipeline([\n",
    "    ('vect', CountVectorizer(max_df=0.5, min_df=0.01, ngram_range=(1,3), stop_words='english')),\n",
    "    ('tfidf', TfidfTransformer()),\n",
    "    ('clf', SGDClassifier(alpha=0.001, max_iter=500, n_jobs=3))\n",
    "])"
   ]
  },
  {
   "cell_type": "code",
   "execution_count": 77,
   "metadata": {},
   "outputs": [],
   "source": [
    "classifier = SGD.fit(X_train, y_train)"
   ]
  },
  {
   "cell_type": "code",
   "execution_count": 78,
   "metadata": {},
   "outputs": [],
   "source": [
    "y_pred = SGD.predict(X_test)"
   ]
  },
  {
   "cell_type": "markdown",
   "metadata": {},
   "source": [
    "### Confusion Matrix"
   ]
  },
  {
   "cell_type": "code",
   "execution_count": 79,
   "metadata": {},
   "outputs": [
    {
     "data": {
      "text/plain": [
       "array([[12, 12,  3, 17,  1,  0],\n",
       "       [16, 27, 11, 22,  7,  6],\n",
       "       [ 3,  6, 25, 24, 12,  1],\n",
       "       [ 9, 20, 18, 80,  9,  5],\n",
       "       [ 3,  8,  2, 21, 18,  7],\n",
       "       [ 6,  6,  4,  8,  2,  1]])"
      ]
     },
     "execution_count": 79,
     "metadata": {},
     "output_type": "execute_result"
    }
   ],
   "source": [
    "confusion_matrix(y_test, y_pred)"
   ]
  },
  {
   "cell_type": "code",
   "execution_count": 80,
   "metadata": {},
   "outputs": [
    {
     "data": {
      "image/png": "[encoded data removed]",
      "text/plain": [
       "<Figure size 1000x1000 with 2 Axes>"
      ]
     },
     "metadata": {},
     "output_type": "display_data"
    }
   ],
   "source": [
    "from sklearn.metrics import confusion_matrix, ConfusionMatrixDisplay\n",
    "\n",
    "# Assuming `classifier` is your trained model\n",
    "y_pred = classifier.predict(X_test)\n",
    "\n",
    "# Compute the confusion matrix\n",
    "cm = confusion_matrix(y_test, y_pred)\n",
    "\n",
    "# Using the ConfusionMatrixDisplay class to display the confusion matrix\n",
    "display_labels = [\"0-50K\",\"50K-70K\",\"70K-90K\",\"90K-120K\",'120K-150K','150K and above']\n",
    "fig, ax = plt.subplots(figsize=(10, 10))\n",
    "\n",
    "# Set title for the axis\n",
    "ax.set_title(\"Confusion matrix, without normalization\")\n",
    "\n",
    "disp = ConfusionMatrixDisplay(confusion_matrix=cm, display_labels=display_labels)\n",
    "disp.plot(ax=ax, cmap=plt.cm.Blues)\n",
    "\n",
    "plt.show()"
   ]
  },
  {
   "cell_type": "code",
   "execution_count": 81,
   "metadata": {},
   "outputs": [
    {
     "data": {
      "image/png": "[encoded data removed]",
      "text/plain": [
       "<Figure size 1000x1000 with 2 Axes>"
      ]
     },
     "metadata": {},
     "output_type": "display_data"
    }
   ],
   "source": [
    "# Normalize the confusion matrix\n",
    "cm_normalized = cm.astype('float') / cm.sum(axis=1)[:, np.newaxis]\n",
    "\n",
    "fig, ax = plt.subplots(figsize=(10, 10))\n",
    "\n",
    "# Set title for the axis\n",
    "ax.set_title(\"Confusion matrix, with normalization\")\n",
    "\n",
    "disp = ConfusionMatrixDisplay(confusion_matrix=cm_normalized, display_labels=display_labels)\n",
    "disp.plot(ax=ax, cmap=plt.cm.Blues, values_format=\".2f\")\n",
    "\n",
    "plt.show()"
   ]
  },
  {
   "cell_type": "code",
   "execution_count": 82,
   "metadata": {},
   "outputs": [
    {
     "data": {
      "text/plain": [
       "0.3773148148148148"
      ]
     },
     "execution_count": 82,
     "metadata": {},
     "output_type": "execute_result"
    }
   ],
   "source": [
    "#Mean accuracy on the given test data and labels\n",
    "SGD.score(X_test, y_test)"
   ]
  },
  {
   "cell_type": "code",
   "execution_count": 83,
   "metadata": {},
   "outputs": [],
   "source": [
    "#save the model to disk\n",
    "filename='finalized_model.sav'\n",
    "pickle.dump(SGD, open(filename, 'wb'))"
   ]
  },
  {
   "cell_type": "code",
   "execution_count": 84,
   "metadata": {},
   "outputs": [
    {
     "name": "stdout",
     "output_type": "stream",
     "text": [
      "0.3773148148148148\n"
     ]
    }
   ],
   "source": [
    "#load the model from disk\n",
    "loaded_model = pickle.load(open(filename, 'rb'))\n",
    "result = loaded_model.score(X_test, y_test)\n",
    "print(result)"
   ]
  },
  {
   "cell_type": "markdown",
   "metadata": {},
   "source": [
    "### Random Forest Classifier with Grid Search"
   ]
  },
  {
   "cell_type": "code",
   "execution_count": 85,
   "metadata": {},
   "outputs": [
    {
     "name": "stdout",
     "output_type": "stream",
     "text": [
      "Performing grid search...\n",
      "pipeline: ['vect', 'tfidf', 'rf']\n",
      "parameters:\n",
      "{'rf__criterion': ('gini', 'entropy'),\n",
      " 'rf__max_features': ('auto', 'sqrt', 'log2'),\n",
      " 'rf__min_samples_split': (2, 6, 8),\n",
      " 'rf__n_estimators': (30, 40, 50),\n",
      " 'tfidf__smooth_idf': (True, False),\n",
      " 'tfidf__use_idf': (True, False)}\n",
      "Fitting 5 folds for each of 216 candidates, totalling 1080 fits\n"
     ]
    },
    {
     "name": "stderr",
     "output_type": "stream",
     "text": [
      "/Library/Frameworks/Python.framework/Versions/3.11/lib/python3.11/site-packages/sklearn/model_selection/_validation.py:425: FitFailedWarning: \n",
      "360 fits failed out of a total of 1080.\n",
      "The score on these train-test partitions for these parameters will be set to nan.\n",
      "If these failures are not expected, you can try to debug them by setting error_score='raise'.\n",
      "\n",
      "Below are more details about the failures:\n",
      "--------------------------------------------------------------------------------\n",
      "150 fits failed with the following error:\n",
      "Traceback (most recent call last):\n",
      "  File \"/Library/Frameworks/Python.framework/Versions/3.11/lib/python3.11/site-packages/sklearn/model_selection/_validation.py\", line 732, in _fit_and_score\n",
      "    estimator.fit(X_train, y_train, **fit_params)\n",
      "  File \"/Library/Frameworks/Python.framework/Versions/3.11/lib/python3.11/site-packages/sklearn/base.py\", line 1151, in wrapper\n",
      "    return fit_method(estimator, *args, **kwargs)\n",
      "           ^^^^^^^^^^^^^^^^^^^^^^^^^^^^^^^^^^^^^^\n",
      "  File \"/Library/Frameworks/Python.framework/Versions/3.11/lib/python3.11/site-packages/sklearn/pipeline.py\", line 420, in fit\n",
      "    self._final_estimator.fit(Xt, y, **fit_params_last_step)\n",
      "  File \"/Library/Frameworks/Python.framework/Versions/3.11/lib/python3.11/site-packages/sklearn/base.py\", line 1144, in wrapper\n",
      "    estimator._validate_params()\n",
      "  File \"/Library/Frameworks/Python.framework/Versions/3.11/lib/python3.11/site-packages/sklearn/base.py\", line 637, in _validate_params\n",
      "    validate_parameter_constraints(\n",
      "  File \"/Library/Frameworks/Python.framework/Versions/3.11/lib/python3.11/site-packages/sklearn/utils/_param_validation.py\", line 95, in validate_parameter_constraints\n",
      "    raise InvalidParameterError(\n",
      "sklearn.utils._param_validation.InvalidParameterError: The 'max_features' parameter of RandomForestClassifier must be an int in the range [1, inf), a float in the range (0.0, 1.0], a str among {'log2', 'sqrt'} or None. Got 'auto' instead.\n",
      "\n",
      "--------------------------------------------------------------------------------\n",
      "210 fits failed with the following error:\n",
      "Traceback (most recent call last):\n",
      "  File \"/Library/Frameworks/Python.framework/Versions/3.11/lib/python3.11/site-packages/sklearn/model_selection/_validation.py\", line 732, in _fit_and_score\n",
      "    estimator.fit(X_train, y_train, **fit_params)\n",
      "  File \"/Library/Frameworks/Python.framework/Versions/3.11/lib/python3.11/site-packages/sklearn/base.py\", line 1151, in wrapper\n",
      "    return fit_method(estimator, *args, **kwargs)\n",
      "           ^^^^^^^^^^^^^^^^^^^^^^^^^^^^^^^^^^^^^^\n",
      "  File \"/Library/Frameworks/Python.framework/Versions/3.11/lib/python3.11/site-packages/sklearn/pipeline.py\", line 420, in fit\n",
      "    self._final_estimator.fit(Xt, y, **fit_params_last_step)\n",
      "  File \"/Library/Frameworks/Python.framework/Versions/3.11/lib/python3.11/site-packages/sklearn/base.py\", line 1144, in wrapper\n",
      "    estimator._validate_params()\n",
      "  File \"/Library/Frameworks/Python.framework/Versions/3.11/lib/python3.11/site-packages/sklearn/base.py\", line 637, in _validate_params\n",
      "    validate_parameter_constraints(\n",
      "  File \"/Library/Frameworks/Python.framework/Versions/3.11/lib/python3.11/site-packages/sklearn/utils/_param_validation.py\", line 95, in validate_parameter_constraints\n",
      "    raise InvalidParameterError(\n",
      "sklearn.utils._param_validation.InvalidParameterError: The 'max_features' parameter of RandomForestClassifier must be an int in the range [1, inf), a float in the range (0.0, 1.0], a str among {'sqrt', 'log2'} or None. Got 'auto' instead.\n",
      "\n",
      "  warnings.warn(some_fits_failed_message, FitFailedWarning)\n",
      "/Library/Frameworks/Python.framework/Versions/3.11/lib/python3.11/site-packages/sklearn/model_selection/_search.py:976: UserWarning: One or more of the test scores are non-finite: [       nan        nan        nan        nan        nan        nan\n",
      "        nan        nan        nan        nan        nan        nan\n",
      "        nan        nan        nan        nan        nan        nan\n",
      "        nan        nan        nan        nan        nan        nan\n",
      "        nan        nan        nan        nan        nan        nan\n",
      "        nan        nan        nan        nan        nan        nan\n",
      " 0.39392489 0.38645398 0.39109481 0.38671702 0.38722917 0.38439843\n",
      " 0.39341108 0.39444168 0.38620056 0.40190894 0.39598542 0.39521687\n",
      " 0.39933096 0.39418594 0.38543168 0.39701303 0.40087669 0.39547095\n",
      " 0.39418494 0.39881881 0.40062294 0.39212276 0.39701601 0.39444035\n",
      " 0.39984974 0.38800369 0.39598476 0.38362987 0.3903246  0.39753048\n",
      " 0.39469576 0.39984709 0.39289463 0.39315733 0.39547062 0.39521653\n",
      " 0.39495781 0.38568476 0.38002196 0.38851849 0.39032162 0.3872285\n",
      " 0.38414567 0.39546962 0.39444102 0.38928837 0.39031896 0.38851749\n",
      " 0.3998451  0.39521123 0.39469742 0.38800701 0.40370842 0.39083609\n",
      " 0.3926349  0.38928804 0.39495913 0.39315402 0.39392887 0.39933494\n",
      " 0.39599238 0.38903727 0.39675729 0.39366782 0.39624481 0.39830899\n",
      " 0.39109714 0.39470273 0.3972701  0.40551454 0.38980748 0.39418428\n",
      "        nan        nan        nan        nan        nan        nan\n",
      "        nan        nan        nan        nan        nan        nan\n",
      "        nan        nan        nan        nan        nan        nan\n",
      "        nan        nan        nan        nan        nan        nan\n",
      "        nan        nan        nan        nan        nan        nan\n",
      "        nan        nan        nan        nan        nan        nan\n",
      " 0.38671337 0.39109183 0.38645896 0.39598409 0.39032129 0.38955108\n",
      " 0.38903263 0.38929235 0.4088614  0.39366616 0.40241777 0.39752882\n",
      " 0.39135752 0.39263557 0.38439577 0.39315335 0.39495648 0.39830666\n",
      " 0.39804462 0.40113508 0.3916063  0.39546995 0.40087702 0.39237883\n",
      " 0.39161094 0.39933693 0.39264087 0.39032394 0.39392754 0.39650287\n",
      " 0.39804595 0.39418561 0.39701237 0.39650088 0.39753015 0.39676127\n",
      " 0.38002262 0.3898045  0.39444301 0.38414335 0.3905767  0.38337082\n",
      " 0.38981013 0.39547161 0.39058167 0.39598343 0.39263623 0.39289662\n",
      " 0.39263888 0.39032062 0.39650121 0.39057736 0.39830368 0.39031764\n",
      " 0.38929168 0.38955174 0.39778888 0.39830202 0.39418461 0.40113674\n",
      " 0.38929003 0.39212276 0.38388628 0.38955307 0.39753048 0.39392787\n",
      " 0.38903727 0.38723049 0.40062194 0.39547029 0.39701635 0.39109515]\n",
      "  warnings.warn(\n"
     ]
    },
    {
     "name": "stdout",
     "output_type": "stream",
     "text": [
      "done in 210.132s\n",
      "\n",
      "Best score: 0.409\n",
      "Best parameters set:\n",
      "\trf__criterion: 'entropy'\n",
      "\trf__max_features: 'sqrt'\n",
      "\trf__min_samples_split: 2\n",
      "\trf__n_estimators: 50\n",
      "\ttfidf__smooth_idf: True\n",
      "\ttfidf__use_idf: True\n"
     ]
    }
   ],
   "source": [
    "pipeline = Pipeline([\n",
    "    ('vect', CountVectorizer(max_df=0.5, min_df=0.01, ngram_range=(1,2), stop_words='english')),\n",
    "    ('tfidf', TfidfTransformer()),\n",
    "    ('rf', RandomForestClassifier(n_jobs=3))\n",
    "])\n",
    "\n",
    "# uncommenting more parameters will give better exploring power but will\n",
    "# increase processing time in a combinatorial way\n",
    "parameters = {\n",
    "    \n",
    "    'tfidf__use_idf':(True, False),\n",
    "    'tfidf__smooth_idf':(True, False),\n",
    "    'rf__n_estimators':(30,40,50),\n",
    "    'rf__criterion':(\"gini\",\"entropy\"),\n",
    "    'rf__min_samples_split':(2,6,8),\n",
    "    'rf__max_features':(\"auto\",\"sqrt\",\"log2\")\n",
    "    \n",
    "}\n",
    "\n",
    "if __name__ == \"__main__\":\n",
    "    # multiprocessing requires the fork to happen in a __main__ protected\n",
    "    # block\n",
    "\n",
    "    # find the best parameters for both the feature extraction and the\n",
    "    # classifier\n",
    "    grid_search = GridSearchCV(pipeline, parameters, n_jobs=-1, verbose=1)\n",
    "\n",
    "    print(\"Performing grid search...\")\n",
    "    print(\"pipeline:\", [name for name, _ in pipeline.steps])\n",
    "    print(\"parameters:\")\n",
    "    pprint(parameters)\n",
    "    t0 = time()\n",
    "    grid_search.fit(X_train, y_train)\n",
    "    print(\"done in %0.3fs\" % (time() - t0))\n",
    "    print()\n",
    "\n",
    "    print(\"Best score: %0.3f\" % grid_search.best_score_)\n",
    "    print(\"Best parameters set:\")\n",
    "    best_parameters = grid_search.best_estimator_.get_params()\n",
    "    for param_name in sorted(parameters.keys()):\n",
    "        print(\"\\t%s: %r\" % (param_name, best_parameters[param_name]))"
   ]
  },
  {
   "cell_type": "code",
   "execution_count": 86,
   "metadata": {},
   "outputs": [],
   "source": [
    "rf = Pipeline([\n",
    "    ('vect', CountVectorizer(max_df=0.5, min_df=0.03, ngram_range=(1,3), stop_words='english')),\n",
    "    ('tfidf', TfidfTransformer()),\n",
    "    ('rf', RandomForestClassifier(max_features='sqrt', min_samples_split=8, n_estimators=50, n_jobs=3))\n",
    "])"
   ]
  },
  {
   "cell_type": "code",
   "execution_count": 87,
   "metadata": {},
   "outputs": [
    {
     "data": {
      "text/html": [
       "<style>#sk-container-id-4 {color: black;}#sk-container-id-4 pre{padding: 0;}#sk-container-id-4 div.sk-toggleable {background-color: white;}#sk-container-id-4 label.sk-toggleable__label {cursor: pointer;display: block;width: 100%;margin-bottom: 0;padding: 0.3em;box-sizing: border-box;text-align: center;}#sk-container-id-4 label.sk-toggleable__label-arrow:before {content: \"▸\";float: left;margin-right: 0.25em;color: #696969;}#sk-container-id-4 label.sk-toggleable__label-arrow:hover:before {color: black;}#sk-container-id-4 div.sk-estimator:hover label.sk-toggleable__label-arrow:before {color: black;}#sk-container-id-4 div.sk-toggleable__content {max-height: 0;max-width: 0;overflow: hidden;text-align: left;background-color: #f0f8ff;}#sk-container-id-4 div.sk-toggleable__content pre {margin: 0.2em;color: black;border-radius: 0.25em;background-color: #f0f8ff;}#sk-container-id-4 input.sk-toggleable__control:checked~div.sk-toggleable__content {max-height: 200px;max-width: 100%;overflow: auto;}#sk-container-id-4 input.sk-toggleable__control:checked~label.sk-toggleable__label-arrow:before {content: \"▾\";}#sk-container-id-4 div.sk-estimator input.sk-toggleable__control:checked~label.sk-toggleable__label {background-color: #d4ebff;}#sk-container-id-4 div.sk-label input.sk-toggleable__control:checked~label.sk-toggleable__label {background-color: #d4ebff;}#sk-container-id-4 input.sk-hidden--visually {border: 0;clip: rect(1px 1px 1px 1px);clip: rect(1px, 1px, 1px, 1px);height: 1px;margin: -1px;overflow: hidden;padding: 0;position: absolute;width: 1px;}#sk-container-id-4 div.sk-estimator {font-family: monospace;background-color: #f0f8ff;border: 1px dotted black;border-radius: 0.25em;box-sizing: border-box;margin-bottom: 0.5em;}#sk-container-id-4 div.sk-estimator:hover {background-color: #d4ebff;}#sk-container-id-4 div.sk-parallel-item::after {content: \"\";width: 100%;border-bottom: 1px solid gray;flex-grow: 1;}#sk-container-id-4 div.sk-label:hover label.sk-toggleable__label {background-color: #d4ebff;}#sk-container-id-4 div.sk-serial::before {content: \"\";position: absolute;border-left: 1px solid gray;box-sizing: border-box;top: 0;bottom: 0;left: 50%;z-index: 0;}#sk-container-id-4 div.sk-serial {display: flex;flex-direction: column;align-items: center;background-color: white;padding-right: 0.2em;padding-left: 0.2em;position: relative;}#sk-container-id-4 div.sk-item {position: relative;z-index: 1;}#sk-container-id-4 div.sk-parallel {display: flex;align-items: stretch;justify-content: center;background-color: white;position: relative;}#sk-container-id-4 div.sk-item::before, #sk-container-id-4 div.sk-parallel-item::before {content: \"\";position: absolute;border-left: 1px solid gray;box-sizing: border-box;top: 0;bottom: 0;left: 50%;z-index: -1;}#sk-container-id-4 div.sk-parallel-item {display: flex;flex-direction: column;z-index: 1;position: relative;background-color: white;}#sk-container-id-4 div.sk-parallel-item:first-child::after {align-self: flex-end;width: 50%;}#sk-container-id-4 div.sk-parallel-item:last-child::after {align-self: flex-start;width: 50%;}#sk-container-id-4 div.sk-parallel-item:only-child::after {width: 0;}#sk-container-id-4 div.sk-dashed-wrapped {border: 1px dashed gray;margin: 0 0.4em 0.5em 0.4em;box-sizing: border-box;padding-bottom: 0.4em;background-color: white;}#sk-container-id-4 div.sk-label label {font-family: monospace;font-weight: bold;display: inline-block;line-height: 1.2em;}#sk-container-id-4 div.sk-label-container {text-align: center;}#sk-container-id-4 div.sk-container {/* jupyter's `normalize.less` sets `[hidden] { display: none; }` but bootstrap.min.css set `[hidden] { display: none !important; }` so we also need the `!important` here to be able to override the default hidden behavior on the sphinx rendered scikit-learn.org. See: https://github.com/scikit-learn/scikit-learn/issues/21755 */display: inline-block !important;position: relative;}#sk-container-id-4 div.sk-text-repr-fallback {display: none;}</style><div id=\"sk-container-id-4\" class=\"sk-top-container\"><div class=\"sk-text-repr-fallback\"><pre>Pipeline(steps=[(&#x27;vect&#x27;,\n",
       "                 CountVectorizer(max_df=0.5, min_df=0.03, ngram_range=(1, 3),\n",
       "                                 stop_words=&#x27;english&#x27;)),\n",
       "                (&#x27;tfidf&#x27;, TfidfTransformer()),\n",
       "                (&#x27;rf&#x27;,\n",
       "                 RandomForestClassifier(min_samples_split=8, n_estimators=50,\n",
       "                                        n_jobs=3))])</pre><b>In a Jupyter environment, please rerun this cell to show the HTML representation or trust the notebook. <br />On GitHub, the HTML representation is unable to render, please try loading this page with nbviewer.org.</b></div><div class=\"sk-container\" hidden><div class=\"sk-item sk-dashed-wrapped\"><div class=\"sk-label-container\"><div class=\"sk-label sk-toggleable\"><input class=\"sk-toggleable__control sk-hidden--visually\" id=\"sk-estimator-id-11\" type=\"checkbox\" ><label for=\"sk-estimator-id-11\" class=\"sk-toggleable__label sk-toggleable__label-arrow\">Pipeline</label><div class=\"sk-toggleable__content\"><pre>Pipeline(steps=[(&#x27;vect&#x27;,\n",
       "                 CountVectorizer(max_df=0.5, min_df=0.03, ngram_range=(1, 3),\n",
       "                                 stop_words=&#x27;english&#x27;)),\n",
       "                (&#x27;tfidf&#x27;, TfidfTransformer()),\n",
       "                (&#x27;rf&#x27;,\n",
       "                 RandomForestClassifier(min_samples_split=8, n_estimators=50,\n",
       "                                        n_jobs=3))])</pre></div></div></div><div class=\"sk-serial\"><div class=\"sk-item\"><div class=\"sk-estimator sk-toggleable\"><input class=\"sk-toggleable__control sk-hidden--visually\" id=\"sk-estimator-id-12\" type=\"checkbox\" ><label for=\"sk-estimator-id-12\" class=\"sk-toggleable__label sk-toggleable__label-arrow\">CountVectorizer</label><div class=\"sk-toggleable__content\"><pre>CountVectorizer(max_df=0.5, min_df=0.03, ngram_range=(1, 3),\n",
       "                stop_words=&#x27;english&#x27;)</pre></div></div></div><div class=\"sk-item\"><div class=\"sk-estimator sk-toggleable\"><input class=\"sk-toggleable__control sk-hidden--visually\" id=\"sk-estimator-id-13\" type=\"checkbox\" ><label for=\"sk-estimator-id-13\" class=\"sk-toggleable__label sk-toggleable__label-arrow\">TfidfTransformer</label><div class=\"sk-toggleable__content\"><pre>TfidfTransformer()</pre></div></div></div><div class=\"sk-item\"><div class=\"sk-estimator sk-toggleable\"><input class=\"sk-toggleable__control sk-hidden--visually\" id=\"sk-estimator-id-14\" type=\"checkbox\" ><label for=\"sk-estimator-id-14\" class=\"sk-toggleable__label sk-toggleable__label-arrow\">RandomForestClassifier</label><div class=\"sk-toggleable__content\"><pre>RandomForestClassifier(min_samples_split=8, n_estimators=50, n_jobs=3)</pre></div></div></div></div></div></div></div>"
      ],
      "text/plain": [
       "Pipeline(steps=[('vect',\n",
       "                 CountVectorizer(max_df=0.5, min_df=0.03, ngram_range=(1, 3),\n",
       "                                 stop_words='english')),\n",
       "                ('tfidf', TfidfTransformer()),\n",
       "                ('rf',\n",
       "                 RandomForestClassifier(min_samples_split=8, n_estimators=50,\n",
       "                                        n_jobs=3))])"
      ]
     },
     "execution_count": 87,
     "metadata": {},
     "output_type": "execute_result"
    }
   ],
   "source": [
    "rf.fit(X_train, y_train)"
   ]
  },
  {
   "cell_type": "code",
   "execution_count": 88,
   "metadata": {},
   "outputs": [],
   "source": [
    "y_pred = rf.predict(X_test)"
   ]
  },
  {
   "cell_type": "code",
   "execution_count": 89,
   "metadata": {},
   "outputs": [
    {
     "data": {
      "text/plain": [
       "0.37037037037037035"
      ]
     },
     "execution_count": 89,
     "metadata": {},
     "output_type": "execute_result"
    }
   ],
   "source": [
    "rf.score(X_test, y_test)"
   ]
  },
  {
   "cell_type": "markdown",
   "metadata": {},
   "source": [
    "## Model 3: Use Pretrained GloVe Model"
   ]
  },
  {
   "cell_type": "code",
   "execution_count": 90,
   "metadata": {},
   "outputs": [],
   "source": [
    "total_vocabulary = set(word for jd in data for word in jd)\n",
    "\n",
    "#get glove for the limit_vocabulary "
   ]
  },
  {
   "cell_type": "code",
   "execution_count": 91,
   "metadata": {},
   "outputs": [
    {
     "name": "stdout",
     "output_type": "stream",
     "text": [
      "There are 16982 unique tokens in the dataset.\n"
     ]
    }
   ],
   "source": [
    "max_length=len(total_vocabulary)\n",
    "print('There are {} unique tokens in the dataset.'.format(len(total_vocabulary)))"
   ]
  },
  {
   "cell_type": "code",
   "execution_count": 92,
   "metadata": {},
   "outputs": [],
   "source": [
    "#Get the appropriate vectors out of the GloVe file\n",
    "glove = {}\n",
    "with open('glove.6B.50d.txt', 'rb') as f:\n",
    "    for line in f:\n",
    "        parts = line.split()\n",
    "        word = parts[0].decode('utf-8')\n",
    "        if word in total_vocabulary:   \n",
    "            vector = np.array(parts[1:], dtype=np.float32)\n",
    "            glove[word] = vector"
   ]
  },
  {
   "cell_type": "code",
   "execution_count": 93,
   "metadata": {},
   "outputs": [
    {
     "data": {
      "text/plain": [
       "array([ 5.3101e-01, -5.5869e-01,  1.7674e+00,  4.4824e-01,  2.2341e-01,\n",
       "       -3.4559e-01, -7.7679e-01, -9.6117e-01,  1.1669e+00,  7.4279e-02,\n",
       "        8.1470e-01, -5.9428e-02,  6.4599e-02,  1.5176e-03,  9.9179e-02,\n",
       "        3.6602e-01, -9.8724e-01, -8.3913e-01,  1.5917e-01, -7.7603e-01,\n",
       "        7.3474e-01, -6.4861e-01,  4.6174e-01,  8.8162e-03,  5.1738e-01,\n",
       "       -6.5976e-01, -7.4010e-01, -1.3928e-01,  8.1094e-02,  2.0657e-01,\n",
       "        3.5652e+00, -8.2264e-01,  5.7360e-01, -1.7268e+00,  6.2356e-03,\n",
       "        6.7672e-02, -2.3411e-01,  3.5163e-02,  2.6507e-01, -2.9966e-01,\n",
       "        7.4323e-01, -4.5027e-01,  1.9406e-01,  4.8611e-01, -4.3075e-01,\n",
       "       -2.5210e-01,  1.2774e+00,  1.5815e+00,  6.5838e-01, -2.0978e-01],\n",
       "      dtype=float32)"
      ]
     },
     "execution_count": 93,
     "metadata": {},
     "output_type": "execute_result"
    }
   ],
   "source": [
    "#Each word has a 50 dimension vector space\n",
    "glove['data']"
   ]
  },
  {
   "cell_type": "code",
   "execution_count": 94,
   "metadata": {},
   "outputs": [
    {
     "data": {
      "text/plain": [
       "4"
      ]
     },
     "execution_count": 94,
     "metadata": {},
     "output_type": "execute_result"
    }
   ],
   "source": [
    "len(next(iter(glove)))"
   ]
  },
  {
   "cell_type": "code",
   "execution_count": 95,
   "metadata": {},
   "outputs": [],
   "source": [
    "class W2vVectorizer(object):\n",
    "    \n",
    "    def __init__(self, w2v):\n",
    "        # Takes in a dictionary of words and vectors as input\n",
    "        self.w2v = w2v\n",
    "        if len(w2v) == 0:\n",
    "            self.dimensions = 0\n",
    "        else:\n",
    "            self.dimensions = len(w2v[next(iter(glove))])\n",
    "    \n",
    "    # Note: Even though it doesn't do anything, it's required that this object implement a fit method or else\n",
    "    # it can't be used in a scikit-learn pipeline  \n",
    "    def fit(self, X, y):\n",
    "        return self\n",
    "            \n",
    "    def transform(self, X):\n",
    "        return np.array([\n",
    "            np.mean([self.w2v[w] for w in words if w in self.w2v]\n",
    "                   or [np.zeros(self.dimensions)], axis=0) for words in X])"
   ]
  },
  {
   "cell_type": "markdown",
   "metadata": {},
   "source": [
    "### Random Forest with Grid Search"
   ]
  },
  {
   "cell_type": "code",
   "execution_count": 96,
   "metadata": {},
   "outputs": [],
   "source": [
    "X_train, X_test, y_train, y_test = train_test_split(data, target_class, test_size=0.1, random_state=4)"
   ]
  },
  {
   "cell_type": "code",
   "execution_count": 97,
   "metadata": {},
   "outputs": [],
   "source": [
    "#Use pipeline\n",
    "from sklearn.ensemble import RandomForestRegressor, RandomForestClassifier\n",
    "from sklearn.svm import SVC\n",
    "from sklearn.svm import SVR\n",
    "from sklearn.linear_model import LinearRegression, SGDClassifier\n",
    "from sklearn.pipeline import Pipeline\n",
    "from sklearn.model_selection import cross_val_score"
   ]
  },
  {
   "cell_type": "code",
   "execution_count": 98,
   "metadata": {},
   "outputs": [
    {
     "name": "stdout",
     "output_type": "stream",
     "text": [
      "1.3.0\n"
     ]
    }
   ],
   "source": [
    "import sklearn\n",
    "print(sklearn.__version__)"
   ]
  },
  {
   "cell_type": "code",
   "execution_count": 99,
   "metadata": {},
   "outputs": [
    {
     "name": "stdout",
     "output_type": "stream",
     "text": [
      "Performing grid search...\n",
      "pipeline: ['Word2Vec Vectorizer', 'rf']\n",
      "parameters:\n",
      "{'rf__criterion': ('gini', 'entropy'),\n",
      " 'rf__max_features': ('auto', 'sqrt', 'log2'),\n",
      " 'rf__min_samples_split': (4, 6, 8),\n",
      " 'rf__n_estimators': (30, 50, 80)}\n",
      "Fitting 5 folds for each of 54 candidates, totalling 270 fits\n"
     ]
    },
    {
     "name": "stderr",
     "output_type": "stream",
     "text": [
      "/Library/Frameworks/Python.framework/Versions/3.11/lib/python3.11/site-packages/sklearn/model_selection/_validation.py:425: FitFailedWarning: \n",
      "90 fits failed out of a total of 270.\n",
      "The score on these train-test partitions for these parameters will be set to nan.\n",
      "If these failures are not expected, you can try to debug them by setting error_score='raise'.\n",
      "\n",
      "Below are more details about the failures:\n",
      "--------------------------------------------------------------------------------\n",
      "36 fits failed with the following error:\n",
      "Traceback (most recent call last):\n",
      "  File \"/Library/Frameworks/Python.framework/Versions/3.11/lib/python3.11/site-packages/sklearn/model_selection/_validation.py\", line 732, in _fit_and_score\n",
      "    estimator.fit(X_train, y_train, **fit_params)\n",
      "  File \"/Library/Frameworks/Python.framework/Versions/3.11/lib/python3.11/site-packages/sklearn/base.py\", line 1151, in wrapper\n",
      "    return fit_method(estimator, *args, **kwargs)\n",
      "           ^^^^^^^^^^^^^^^^^^^^^^^^^^^^^^^^^^^^^^\n",
      "  File \"/Library/Frameworks/Python.framework/Versions/3.11/lib/python3.11/site-packages/sklearn/pipeline.py\", line 420, in fit\n",
      "    self._final_estimator.fit(Xt, y, **fit_params_last_step)\n",
      "  File \"/Library/Frameworks/Python.framework/Versions/3.11/lib/python3.11/site-packages/sklearn/base.py\", line 1144, in wrapper\n",
      "    estimator._validate_params()\n",
      "  File \"/Library/Frameworks/Python.framework/Versions/3.11/lib/python3.11/site-packages/sklearn/base.py\", line 637, in _validate_params\n",
      "    validate_parameter_constraints(\n",
      "  File \"/Library/Frameworks/Python.framework/Versions/3.11/lib/python3.11/site-packages/sklearn/utils/_param_validation.py\", line 95, in validate_parameter_constraints\n",
      "    raise InvalidParameterError(\n",
      "sklearn.utils._param_validation.InvalidParameterError: The 'max_features' parameter of RandomForestClassifier must be an int in the range [1, inf), a float in the range (0.0, 1.0], a str among {'log2', 'sqrt'} or None. Got 'auto' instead.\n",
      "\n",
      "--------------------------------------------------------------------------------\n",
      "54 fits failed with the following error:\n",
      "Traceback (most recent call last):\n",
      "  File \"/Library/Frameworks/Python.framework/Versions/3.11/lib/python3.11/site-packages/sklearn/model_selection/_validation.py\", line 732, in _fit_and_score\n",
      "    estimator.fit(X_train, y_train, **fit_params)\n",
      "  File \"/Library/Frameworks/Python.framework/Versions/3.11/lib/python3.11/site-packages/sklearn/base.py\", line 1151, in wrapper\n",
      "    return fit_method(estimator, *args, **kwargs)\n",
      "           ^^^^^^^^^^^^^^^^^^^^^^^^^^^^^^^^^^^^^^\n",
      "  File \"/Library/Frameworks/Python.framework/Versions/3.11/lib/python3.11/site-packages/sklearn/pipeline.py\", line 420, in fit\n",
      "    self._final_estimator.fit(Xt, y, **fit_params_last_step)\n",
      "  File \"/Library/Frameworks/Python.framework/Versions/3.11/lib/python3.11/site-packages/sklearn/base.py\", line 1144, in wrapper\n",
      "    estimator._validate_params()\n",
      "  File \"/Library/Frameworks/Python.framework/Versions/3.11/lib/python3.11/site-packages/sklearn/base.py\", line 637, in _validate_params\n",
      "    validate_parameter_constraints(\n",
      "  File \"/Library/Frameworks/Python.framework/Versions/3.11/lib/python3.11/site-packages/sklearn/utils/_param_validation.py\", line 95, in validate_parameter_constraints\n",
      "    raise InvalidParameterError(\n",
      "sklearn.utils._param_validation.InvalidParameterError: The 'max_features' parameter of RandomForestClassifier must be an int in the range [1, inf), a float in the range (0.0, 1.0], a str among {'sqrt', 'log2'} or None. Got 'auto' instead.\n",
      "\n",
      "  warnings.warn(some_fits_failed_message, FitFailedWarning)\n",
      "/Library/Frameworks/Python.framework/Versions/3.11/lib/python3.11/site-packages/sklearn/model_selection/_search.py:976: UserWarning: One or more of the test scores are non-finite: [       nan        nan        nan        nan        nan        nan\n",
      "        nan        nan        nan 0.39109183 0.39958836 0.39392522\n",
      " 0.39418295 0.3856851  0.39598343 0.39470041 0.39984742 0.40319594\n",
      " 0.39058101 0.39546995 0.38852114 0.38414268 0.4026838  0.40191292\n",
      " 0.39006488 0.39341506 0.39727408        nan        nan        nan\n",
      "        nan        nan        nan        nan        nan        nan\n",
      " 0.38543134 0.39263922 0.39366384 0.39109282 0.39521322 0.3949598\n",
      " 0.39135188 0.3905757  0.39649922 0.38672166 0.38980649 0.3898035\n",
      " 0.38285668 0.3998441  0.39624315 0.3931507  0.39495648 0.39959134]\n",
      "  warnings.warn(\n"
     ]
    },
    {
     "name": "stdout",
     "output_type": "stream",
     "text": [
      "done in 92.776s\n",
      "\n",
      "Best score: 0.403\n",
      "Best parameters set:\n",
      "\trf__criterion: 'gini'\n",
      "\trf__max_features: 'sqrt'\n",
      "\trf__min_samples_split: 8\n",
      "\trf__n_estimators: 80\n"
     ]
    }
   ],
   "source": [
    "pipeline =  Pipeline([('Word2Vec Vectorizer', W2vVectorizer(glove)),\n",
    "              ('rf', RandomForestClassifier(n_jobs=3))])\n",
    "\n",
    "parameters = {\n",
    "    'rf__n_estimators':(30,50,80),\n",
    "    'rf__criterion':(\"gini\",\"entropy\"),\n",
    "    'rf__min_samples_split':(4,6,8),\n",
    "    'rf__max_features':(\"auto\",\"sqrt\",\"log2\")\n",
    "    \n",
    "}\n",
    "\n",
    "if __name__ == \"__main__\":\n",
    "    # multiprocessing requires the fork to happen in a __main__ protected\n",
    "    # block\n",
    "\n",
    "    # find the best parameters for both the feature extraction and the\n",
    "    # classifier\n",
    "    grid_search = GridSearchCV(pipeline, parameters, n_jobs=-1, verbose=1)\n",
    "\n",
    "    print(\"Performing grid search...\")\n",
    "    print(\"pipeline:\", [name for name, _ in pipeline.steps])\n",
    "    print(\"parameters:\")\n",
    "    pprint(parameters)\n",
    "    t0 = time()\n",
    "    grid_search.fit(X_train, y_train)\n",
    "    print(\"done in %0.3fs\" % (time() - t0))\n",
    "    print()\n",
    "\n",
    "    print(\"Best score: %0.3f\" % grid_search.best_score_)\n",
    "    print(\"Best parameters set:\")\n",
    "    best_parameters = grid_search.best_estimator_.get_params()\n",
    "    for param_name in sorted(parameters.keys()):\n",
    "        print(\"\\t%s: %r\" % (param_name, best_parameters[param_name]))"
   ]
  },
  {
   "cell_type": "code",
   "execution_count": 101,
   "metadata": {},
   "outputs": [],
   "source": [
    "rf = Pipeline([('Word2Vec Vectorizer', W2vVectorizer(glove)),\n",
    "              ('rf', RandomForestClassifier(n_jobs=3, criterion='gini',  max_features='sqrt', min_samples_split=8, n_estimators=80))])"
   ]
  },
  {
   "cell_type": "code",
   "execution_count": 102,
   "metadata": {},
   "outputs": [
    {
     "data": {
      "text/html": [
       "<style>#sk-container-id-5 {color: black;}#sk-container-id-5 pre{padding: 0;}#sk-container-id-5 div.sk-toggleable {background-color: white;}#sk-container-id-5 label.sk-toggleable__label {cursor: pointer;display: block;width: 100%;margin-bottom: 0;padding: 0.3em;box-sizing: border-box;text-align: center;}#sk-container-id-5 label.sk-toggleable__label-arrow:before {content: \"▸\";float: left;margin-right: 0.25em;color: #696969;}#sk-container-id-5 label.sk-toggleable__label-arrow:hover:before {color: black;}#sk-container-id-5 div.sk-estimator:hover label.sk-toggleable__label-arrow:before {color: black;}#sk-container-id-5 div.sk-toggleable__content {max-height: 0;max-width: 0;overflow: hidden;text-align: left;background-color: #f0f8ff;}#sk-container-id-5 div.sk-toggleable__content pre {margin: 0.2em;color: black;border-radius: 0.25em;background-color: #f0f8ff;}#sk-container-id-5 input.sk-toggleable__control:checked~div.sk-toggleable__content {max-height: 200px;max-width: 100%;overflow: auto;}#sk-container-id-5 input.sk-toggleable__control:checked~label.sk-toggleable__label-arrow:before {content: \"▾\";}#sk-container-id-5 div.sk-estimator input.sk-toggleable__control:checked~label.sk-toggleable__label {background-color: #d4ebff;}#sk-container-id-5 div.sk-label input.sk-toggleable__control:checked~label.sk-toggleable__label {background-color: #d4ebff;}#sk-container-id-5 input.sk-hidden--visually {border: 0;clip: rect(1px 1px 1px 1px);clip: rect(1px, 1px, 1px, 1px);height: 1px;margin: -1px;overflow: hidden;padding: 0;position: absolute;width: 1px;}#sk-container-id-5 div.sk-estimator {font-family: monospace;background-color: #f0f8ff;border: 1px dotted black;border-radius: 0.25em;box-sizing: border-box;margin-bottom: 0.5em;}#sk-container-id-5 div.sk-estimator:hover {background-color: #d4ebff;}#sk-container-id-5 div.sk-parallel-item::after {content: \"\";width: 100%;border-bottom: 1px solid gray;flex-grow: 1;}#sk-container-id-5 div.sk-label:hover label.sk-toggleable__label {background-color: #d4ebff;}#sk-container-id-5 div.sk-serial::before {content: \"\";position: absolute;border-left: 1px solid gray;box-sizing: border-box;top: 0;bottom: 0;left: 50%;z-index: 0;}#sk-container-id-5 div.sk-serial {display: flex;flex-direction: column;align-items: center;background-color: white;padding-right: 0.2em;padding-left: 0.2em;position: relative;}#sk-container-id-5 div.sk-item {position: relative;z-index: 1;}#sk-container-id-5 div.sk-parallel {display: flex;align-items: stretch;justify-content: center;background-color: white;position: relative;}#sk-container-id-5 div.sk-item::before, #sk-container-id-5 div.sk-parallel-item::before {content: \"\";position: absolute;border-left: 1px solid gray;box-sizing: border-box;top: 0;bottom: 0;left: 50%;z-index: -1;}#sk-container-id-5 div.sk-parallel-item {display: flex;flex-direction: column;z-index: 1;position: relative;background-color: white;}#sk-container-id-5 div.sk-parallel-item:first-child::after {align-self: flex-end;width: 50%;}#sk-container-id-5 div.sk-parallel-item:last-child::after {align-self: flex-start;width: 50%;}#sk-container-id-5 div.sk-parallel-item:only-child::after {width: 0;}#sk-container-id-5 div.sk-dashed-wrapped {border: 1px dashed gray;margin: 0 0.4em 0.5em 0.4em;box-sizing: border-box;padding-bottom: 0.4em;background-color: white;}#sk-container-id-5 div.sk-label label {font-family: monospace;font-weight: bold;display: inline-block;line-height: 1.2em;}#sk-container-id-5 div.sk-label-container {text-align: center;}#sk-container-id-5 div.sk-container {/* jupyter's `normalize.less` sets `[hidden] { display: none; }` but bootstrap.min.css set `[hidden] { display: none !important; }` so we also need the `!important` here to be able to override the default hidden behavior on the sphinx rendered scikit-learn.org. See: https://github.com/scikit-learn/scikit-learn/issues/21755 */display: inline-block !important;position: relative;}#sk-container-id-5 div.sk-text-repr-fallback {display: none;}</style><div id=\"sk-container-id-5\" class=\"sk-top-container\"><div class=\"sk-text-repr-fallback\"><pre>Pipeline(steps=[(&#x27;Word2Vec Vectorizer&#x27;,\n",
       "                 &lt;__main__.W2vVectorizer object at 0x3079b2710&gt;),\n",
       "                (&#x27;rf&#x27;,\n",
       "                 RandomForestClassifier(min_samples_split=8, n_estimators=80,\n",
       "                                        n_jobs=3))])</pre><b>In a Jupyter environment, please rerun this cell to show the HTML representation or trust the notebook. <br />On GitHub, the HTML representation is unable to render, please try loading this page with nbviewer.org.</b></div><div class=\"sk-container\" hidden><div class=\"sk-item sk-dashed-wrapped\"><div class=\"sk-label-container\"><div class=\"sk-label sk-toggleable\"><input class=\"sk-toggleable__control sk-hidden--visually\" id=\"sk-estimator-id-15\" type=\"checkbox\" ><label for=\"sk-estimator-id-15\" class=\"sk-toggleable__label sk-toggleable__label-arrow\">Pipeline</label><div class=\"sk-toggleable__content\"><pre>Pipeline(steps=[(&#x27;Word2Vec Vectorizer&#x27;,\n",
       "                 &lt;__main__.W2vVectorizer object at 0x3079b2710&gt;),\n",
       "                (&#x27;rf&#x27;,\n",
       "                 RandomForestClassifier(min_samples_split=8, n_estimators=80,\n",
       "                                        n_jobs=3))])</pre></div></div></div><div class=\"sk-serial\"><div class=\"sk-item\"><div class=\"sk-estimator sk-toggleable\"><input class=\"sk-toggleable__control sk-hidden--visually\" id=\"sk-estimator-id-16\" type=\"checkbox\" ><label for=\"sk-estimator-id-16\" class=\"sk-toggleable__label sk-toggleable__label-arrow\">W2vVectorizer</label><div class=\"sk-toggleable__content\"><pre>&lt;__main__.W2vVectorizer object at 0x3079b2710&gt;</pre></div></div></div><div class=\"sk-item\"><div class=\"sk-estimator sk-toggleable\"><input class=\"sk-toggleable__control sk-hidden--visually\" id=\"sk-estimator-id-17\" type=\"checkbox\" ><label for=\"sk-estimator-id-17\" class=\"sk-toggleable__label sk-toggleable__label-arrow\">RandomForestClassifier</label><div class=\"sk-toggleable__content\"><pre>RandomForestClassifier(min_samples_split=8, n_estimators=80, n_jobs=3)</pre></div></div></div></div></div></div></div>"
      ],
      "text/plain": [
       "Pipeline(steps=[('Word2Vec Vectorizer',\n",
       "                 <__main__.W2vVectorizer object at 0x3079b2710>),\n",
       "                ('rf',\n",
       "                 RandomForestClassifier(min_samples_split=8, n_estimators=80,\n",
       "                                        n_jobs=3))])"
      ]
     },
     "execution_count": 102,
     "metadata": {},
     "output_type": "execute_result"
    }
   ],
   "source": [
    "rf.fit(X_train, y_train)"
   ]
  },
  {
   "cell_type": "code",
   "execution_count": 103,
   "metadata": {},
   "outputs": [
    {
     "data": {
      "text/plain": [
       "0.3912037037037037"
      ]
     },
     "execution_count": 103,
     "metadata": {},
     "output_type": "execute_result"
    }
   ],
   "source": [
    "rf.score(X_test, y_test)"
   ]
  },
  {
   "cell_type": "markdown",
   "metadata": {},
   "source": [
    "### SGD Classifier in the pipeline"
   ]
  },
  {
   "cell_type": "code",
   "execution_count": 111,
   "metadata": {},
   "outputs": [],
   "source": [
    "SGD =  Pipeline([('Word2Vec Vectorizer', W2vVectorizer(glove)),\n",
    "              ('SGD', SGDClassifier(alpha=0.0001, max_iter=110, n_jobs=3))])"
   ]
  },
  {
   "cell_type": "code",
   "execution_count": 112,
   "metadata": {},
   "outputs": [
    {
     "data": {
      "text/html": [
       "<style>#sk-container-id-9 {color: black;}#sk-container-id-9 pre{padding: 0;}#sk-container-id-9 div.sk-toggleable {background-color: white;}#sk-container-id-9 label.sk-toggleable__label {cursor: pointer;display: block;width: 100%;margin-bottom: 0;padding: 0.3em;box-sizing: border-box;text-align: center;}#sk-container-id-9 label.sk-toggleable__label-arrow:before {content: \"▸\";float: left;margin-right: 0.25em;color: #696969;}#sk-container-id-9 label.sk-toggleable__label-arrow:hover:before {color: black;}#sk-container-id-9 div.sk-estimator:hover label.sk-toggleable__label-arrow:before {color: black;}#sk-container-id-9 div.sk-toggleable__content {max-height: 0;max-width: 0;overflow: hidden;text-align: left;background-color: #f0f8ff;}#sk-container-id-9 div.sk-toggleable__content pre {margin: 0.2em;color: black;border-radius: 0.25em;background-color: #f0f8ff;}#sk-container-id-9 input.sk-toggleable__control:checked~div.sk-toggleable__content {max-height: 200px;max-width: 100%;overflow: auto;}#sk-container-id-9 input.sk-toggleable__control:checked~label.sk-toggleable__label-arrow:before {content: \"▾\";}#sk-container-id-9 div.sk-estimator input.sk-toggleable__control:checked~label.sk-toggleable__label {background-color: #d4ebff;}#sk-container-id-9 div.sk-label input.sk-toggleable__control:checked~label.sk-toggleable__label {background-color: #d4ebff;}#sk-container-id-9 input.sk-hidden--visually {border: 0;clip: rect(1px 1px 1px 1px);clip: rect(1px, 1px, 1px, 1px);height: 1px;margin: -1px;overflow: hidden;padding: 0;position: absolute;width: 1px;}#sk-container-id-9 div.sk-estimator {font-family: monospace;background-color: #f0f8ff;border: 1px dotted black;border-radius: 0.25em;box-sizing: border-box;margin-bottom: 0.5em;}#sk-container-id-9 div.sk-estimator:hover {background-color: #d4ebff;}#sk-container-id-9 div.sk-parallel-item::after {content: \"\";width: 100%;border-bottom: 1px solid gray;flex-grow: 1;}#sk-container-id-9 div.sk-label:hover label.sk-toggleable__label {background-color: #d4ebff;}#sk-container-id-9 div.sk-serial::before {content: \"\";position: absolute;border-left: 1px solid gray;box-sizing: border-box;top: 0;bottom: 0;left: 50%;z-index: 0;}#sk-container-id-9 div.sk-serial {display: flex;flex-direction: column;align-items: center;background-color: white;padding-right: 0.2em;padding-left: 0.2em;position: relative;}#sk-container-id-9 div.sk-item {position: relative;z-index: 1;}#sk-container-id-9 div.sk-parallel {display: flex;align-items: stretch;justify-content: center;background-color: white;position: relative;}#sk-container-id-9 div.sk-item::before, #sk-container-id-9 div.sk-parallel-item::before {content: \"\";position: absolute;border-left: 1px solid gray;box-sizing: border-box;top: 0;bottom: 0;left: 50%;z-index: -1;}#sk-container-id-9 div.sk-parallel-item {display: flex;flex-direction: column;z-index: 1;position: relative;background-color: white;}#sk-container-id-9 div.sk-parallel-item:first-child::after {align-self: flex-end;width: 50%;}#sk-container-id-9 div.sk-parallel-item:last-child::after {align-self: flex-start;width: 50%;}#sk-container-id-9 div.sk-parallel-item:only-child::after {width: 0;}#sk-container-id-9 div.sk-dashed-wrapped {border: 1px dashed gray;margin: 0 0.4em 0.5em 0.4em;box-sizing: border-box;padding-bottom: 0.4em;background-color: white;}#sk-container-id-9 div.sk-label label {font-family: monospace;font-weight: bold;display: inline-block;line-height: 1.2em;}#sk-container-id-9 div.sk-label-container {text-align: center;}#sk-container-id-9 div.sk-container {/* jupyter's `normalize.less` sets `[hidden] { display: none; }` but bootstrap.min.css set `[hidden] { display: none !important; }` so we also need the `!important` here to be able to override the default hidden behavior on the sphinx rendered scikit-learn.org. See: https://github.com/scikit-learn/scikit-learn/issues/21755 */display: inline-block !important;position: relative;}#sk-container-id-9 div.sk-text-repr-fallback {display: none;}</style><div id=\"sk-container-id-9\" class=\"sk-top-container\"><div class=\"sk-text-repr-fallback\"><pre>Pipeline(steps=[(&#x27;Word2Vec Vectorizer&#x27;,\n",
       "                 &lt;__main__.W2vVectorizer object at 0x307a26790&gt;),\n",
       "                (&#x27;SGD&#x27;, SGDClassifier(max_iter=110, n_jobs=3))])</pre><b>In a Jupyter environment, please rerun this cell to show the HTML representation or trust the notebook. <br />On GitHub, the HTML representation is unable to render, please try loading this page with nbviewer.org.</b></div><div class=\"sk-container\" hidden><div class=\"sk-item sk-dashed-wrapped\"><div class=\"sk-label-container\"><div class=\"sk-label sk-toggleable\"><input class=\"sk-toggleable__control sk-hidden--visually\" id=\"sk-estimator-id-27\" type=\"checkbox\" ><label for=\"sk-estimator-id-27\" class=\"sk-toggleable__label sk-toggleable__label-arrow\">Pipeline</label><div class=\"sk-toggleable__content\"><pre>Pipeline(steps=[(&#x27;Word2Vec Vectorizer&#x27;,\n",
       "                 &lt;__main__.W2vVectorizer object at 0x307a26790&gt;),\n",
       "                (&#x27;SGD&#x27;, SGDClassifier(max_iter=110, n_jobs=3))])</pre></div></div></div><div class=\"sk-serial\"><div class=\"sk-item\"><div class=\"sk-estimator sk-toggleable\"><input class=\"sk-toggleable__control sk-hidden--visually\" id=\"sk-estimator-id-28\" type=\"checkbox\" ><label for=\"sk-estimator-id-28\" class=\"sk-toggleable__label sk-toggleable__label-arrow\">W2vVectorizer</label><div class=\"sk-toggleable__content\"><pre>&lt;__main__.W2vVectorizer object at 0x307a26790&gt;</pre></div></div></div><div class=\"sk-item\"><div class=\"sk-estimator sk-toggleable\"><input class=\"sk-toggleable__control sk-hidden--visually\" id=\"sk-estimator-id-29\" type=\"checkbox\" ><label for=\"sk-estimator-id-29\" class=\"sk-toggleable__label sk-toggleable__label-arrow\">SGDClassifier</label><div class=\"sk-toggleable__content\"><pre>SGDClassifier(max_iter=110, n_jobs=3)</pre></div></div></div></div></div></div></div>"
      ],
      "text/plain": [
       "Pipeline(steps=[('Word2Vec Vectorizer',\n",
       "                 <__main__.W2vVectorizer object at 0x307a26790>),\n",
       "                ('SGD', SGDClassifier(max_iter=110, n_jobs=3))])"
      ]
     },
     "execution_count": 112,
     "metadata": {},
     "output_type": "execute_result"
    }
   ],
   "source": [
    "SGD.fit(X_train, y_train)"
   ]
  },
  {
   "cell_type": "code",
   "execution_count": 113,
   "metadata": {},
   "outputs": [
    {
     "data": {
      "text/plain": [
       "0.33796296296296297"
      ]
     },
     "execution_count": 113,
     "metadata": {},
     "output_type": "execute_result"
    }
   ],
   "source": [
    "SGD.score(X_test, y_test)"
   ]
  },
  {
   "cell_type": "markdown",
   "metadata": {},
   "source": [
    "## Model 4: Deep Learning Models with Word Embeddings"
   ]
  },
  {
   "cell_type": "code",
   "execution_count": 115,
   "metadata": {},
   "outputs": [],
   "source": [
    "from keras.preprocessing.sequence import pad_sequences\n",
    "from keras.layers import Input, Dense, LSTM, Embedding\n",
    "from keras.layers import Dropout, Activation, Bidirectional, GlobalMaxPool1D\n",
    "from keras.layers  import Conv1D\n",
    "from keras.layers import MaxPooling1D\n",
    "\n",
    "from keras.models import Sequential\n",
    "from keras import initializers, regularizers, constraints, optimizers, layers\n",
    "from keras.preprocessing import text, sequence\n",
    "from keras.layers import Flatten\n",
    "\n",
    "from keras.utils import to_categorical\n",
    "\n",
    "import matplotlib.pyplot as plt"
   ]
  },
  {
   "cell_type": "code",
   "execution_count": 117,
   "metadata": {},
   "outputs": [],
   "source": [
    "tokenizer = text.Tokenizer() \n",
    "tokenizer.num_words = 1000  #limit the number of words to keep most common 1000 words\n",
    "tokenizer.fit_on_texts(list(df['description']))\n",
    "list_tokenized_jd = tokenizer.texts_to_sequences(df['description'])\n",
    "\n",
    "X_t = sequence.pad_sequences(list_tokenized_jd, maxlen=400, padding = 'post')"
   ]
  },
  {
   "cell_type": "code",
   "execution_count": 118,
   "metadata": {},
   "outputs": [
    {
     "data": {
      "text/plain": [
       "(4320, 400)"
      ]
     },
     "execution_count": 118,
     "metadata": {},
     "output_type": "execute_result"
    }
   ],
   "source": [
    "X_t.shape"
   ]
  },
  {
   "cell_type": "code",
   "execution_count": 119,
   "metadata": {},
   "outputs": [
    {
     "data": {
      "text/plain": [
       "4320"
      ]
     },
     "execution_count": 119,
     "metadata": {},
     "output_type": "execute_result"
    }
   ],
   "source": [
    "len(list_tokenized_jd)"
   ]
  },
  {
   "cell_type": "code",
   "execution_count": 120,
   "metadata": {},
   "outputs": [],
   "source": [
    "#Encoding to categorical classes\n",
    "y = to_categorical(target_class.values, num_classes=6, dtype=\"float32\")"
   ]
  },
  {
   "cell_type": "code",
   "execution_count": 121,
   "metadata": {},
   "outputs": [
    {
     "data": {
      "text/plain": [
       "(4316, 6)"
      ]
     },
     "execution_count": 121,
     "metadata": {},
     "output_type": "execute_result"
    }
   ],
   "source": [
    "y.shape"
   ]
  },
  {
   "cell_type": "markdown",
   "metadata": {},
   "source": [
    "### Train-Test Split"
   ]
  },
  {
   "cell_type": "code",
   "execution_count": 123,
   "metadata": {},
   "outputs": [
    {
     "name": "stdout",
     "output_type": "stream",
     "text": [
      "(4320, 400)\n",
      "4316\n"
     ]
    }
   ],
   "source": [
    "print(X_t.shape)\n",
    "print(len(y))"
   ]
  },
  {
   "cell_type": "code",
   "execution_count": 124,
   "metadata": {},
   "outputs": [],
   "source": [
    "n_samples = min(X_t.shape[0], len(y))\n",
    "X_t = X_t[:n_samples]\n",
    "y = y[:n_samples]\n"
   ]
  },
  {
   "cell_type": "code",
   "execution_count": 125,
   "metadata": {},
   "outputs": [],
   "source": [
    "X_train, X_test, y_train, y_test = train_test_split(X_t, y, test_size=0.2, random_state=4)"
   ]
  },
  {
   "cell_type": "code",
   "execution_count": 126,
   "metadata": {},
   "outputs": [
    {
     "data": {
      "text/plain": [
       "(864, 400)"
      ]
     },
     "execution_count": 126,
     "metadata": {},
     "output_type": "execute_result"
    }
   ],
   "source": [
    "X_test.shape"
   ]
  },
  {
   "cell_type": "code",
   "execution_count": 127,
   "metadata": {},
   "outputs": [
    {
     "data": {
      "text/plain": [
       "(864, 6)"
      ]
     },
     "execution_count": 127,
     "metadata": {},
     "output_type": "execute_result"
    }
   ],
   "source": [
    "y_test.shape"
   ]
  },
  {
   "cell_type": "markdown",
   "metadata": {},
   "source": [
    "### Create a base model"
   ]
  },
  {
   "cell_type": "code",
   "execution_count": 133,
   "metadata": {},
   "outputs": [],
   "source": [
    "model = Sequential()\n",
    "\n",
    "embedding_size = 64  #each word onto a 32 length real valued vector\n",
    "model.add(Embedding(input_dim = 1000, output_dim = embedding_size, input_length = 400)) #try 100, 200, single LSTM and single dense 100\n",
    "model.add(LSTM(100))\n",
    "#model.add(LSTM(64))\n",
    "#model.add(GlobalMaxPool1D())\n",
    "model.add(Dropout(0.5))\n",
    "model.add(Dense(64, activation='relu'))\n",
    "model.add(Dropout(0.5))\n",
    "model.add(Dense(16, activation='relu'))\n",
    "model.add(Flatten())   #add Flatten layer \n",
    "model.add(Dense(6, activation='softmax'))"
   ]
  },
  {
   "cell_type": "code",
   "execution_count": 134,
   "metadata": {},
   "outputs": [
    {
     "name": "stdout",
     "output_type": "stream",
     "text": [
      "Model: \"sequential_3\"\n",
      "_________________________________________________________________\n",
      " Layer (type)                Output Shape              Param #   \n",
      "=================================================================\n",
      " embedding_3 (Embedding)     (None, 400, 64)           64000     \n",
      "                                                                 \n",
      " lstm_4 (LSTM)               (None, 100)               66000     \n",
      "                                                                 \n",
      " dropout_1 (Dropout)         (None, 100)               0         \n",
      "                                                                 \n",
      " dense_3 (Dense)             (None, 64)                6464      \n",
      "                                                                 \n",
      " dropout_2 (Dropout)         (None, 64)                0         \n",
      "                                                                 \n",
      " dense_4 (Dense)             (None, 16)                1040      \n",
      "                                                                 \n",
      " flatten (Flatten)           (None, 16)                0         \n",
      "                                                                 \n",
      " dense_5 (Dense)             (None, 6)                 102       \n",
      "                                                                 \n",
      "=================================================================\n",
      "Total params: 137606 (537.52 KB)\n",
      "Trainable params: 137606 (537.52 KB)\n",
      "Non-trainable params: 0 (0.00 Byte)\n",
      "_________________________________________________________________\n"
     ]
    }
   ],
   "source": [
    "model.summary()\n"
   ]
  },
  {
   "cell_type": "code",
   "execution_count": 135,
   "metadata": {},
   "outputs": [],
   "source": [
    "model.compile(loss='categorical_crossentropy', optimizer='adam', metrics=['accuracy'])"
   ]
  },
  {
   "cell_type": "code",
   "execution_count": 136,
   "metadata": {},
   "outputs": [
    {
     "name": "stdout",
     "output_type": "stream",
     "text": [
      "Epoch 1/20\n",
      "70/70 [==============================] - 17s 228ms/step - loss: 1.7279 - accuracy: 0.3132 - val_loss: 1.5796 - val_accuracy: 0.3507\n",
      "Epoch 2/20\n",
      "70/70 [==============================] - 15s 221ms/step - loss: 1.5897 - accuracy: 0.3378 - val_loss: 1.5444 - val_accuracy: 0.3507\n",
      "Epoch 3/20\n",
      "70/70 [==============================] - 16s 224ms/step - loss: 1.5755 - accuracy: 0.3366 - val_loss: 1.5372 - val_accuracy: 0.3507\n",
      "Epoch 4/20\n",
      "70/70 [==============================] - 16s 228ms/step - loss: 1.5680 - accuracy: 0.3384 - val_loss: 1.5360 - val_accuracy: 0.3507\n",
      "Epoch 5/20\n",
      "70/70 [==============================] - 16s 225ms/step - loss: 1.5547 - accuracy: 0.3389 - val_loss: 1.5396 - val_accuracy: 0.3495\n",
      "Epoch 6/20\n",
      "70/70 [==============================] - 18s 264ms/step - loss: 1.5384 - accuracy: 0.3418 - val_loss: 1.5464 - val_accuracy: 0.3507\n",
      "Epoch 7/20\n",
      "70/70 [==============================] - 20s 285ms/step - loss: 1.5253 - accuracy: 0.3491 - val_loss: 1.5539 - val_accuracy: 0.3484\n",
      "Epoch 8/20\n",
      "70/70 [==============================] - 20s 286ms/step - loss: 1.5198 - accuracy: 0.3485 - val_loss: 1.5624 - val_accuracy: 0.3519\n",
      "Epoch 9/20\n",
      "70/70 [==============================] - 19s 272ms/step - loss: 1.5136 - accuracy: 0.3552 - val_loss: 1.5680 - val_accuracy: 0.3356\n",
      "Epoch 10/20\n",
      "70/70 [==============================] - 19s 278ms/step - loss: 1.4998 - accuracy: 0.3665 - val_loss: 1.5706 - val_accuracy: 0.3426\n",
      "Epoch 11/20\n",
      "70/70 [==============================] - 19s 277ms/step - loss: 1.4917 - accuracy: 0.3607 - val_loss: 1.5742 - val_accuracy: 0.3495\n",
      "Epoch 12/20\n",
      "70/70 [==============================] - 20s 279ms/step - loss: 1.4853 - accuracy: 0.3673 - val_loss: 1.6160 - val_accuracy: 0.3403\n",
      "Epoch 13/20\n",
      "70/70 [==============================] - 20s 286ms/step - loss: 1.4803 - accuracy: 0.3644 - val_loss: 1.5994 - val_accuracy: 0.3426\n",
      "Epoch 14/20\n",
      "70/70 [==============================] - 20s 281ms/step - loss: 1.4712 - accuracy: 0.3778 - val_loss: 1.6275 - val_accuracy: 0.3438\n",
      "Epoch 15/20\n",
      "70/70 [==============================] - 19s 278ms/step - loss: 1.4598 - accuracy: 0.3859 - val_loss: 1.6423 - val_accuracy: 0.3403\n",
      "Epoch 16/20\n",
      "70/70 [==============================] - 20s 291ms/step - loss: 1.4587 - accuracy: 0.3824 - val_loss: 1.6169 - val_accuracy: 0.3322\n",
      "Epoch 17/20\n",
      "70/70 [==============================] - 20s 282ms/step - loss: 1.4559 - accuracy: 0.3856 - val_loss: 1.6695 - val_accuracy: 0.3310\n",
      "Epoch 18/20\n",
      "70/70 [==============================] - 20s 286ms/step - loss: 1.4424 - accuracy: 0.3914 - val_loss: 1.6618 - val_accuracy: 0.3380\n",
      "Epoch 19/20\n",
      "70/70 [==============================] - 19s 273ms/step - loss: 1.4352 - accuracy: 0.3995 - val_loss: 1.7137 - val_accuracy: 0.3461\n",
      "Epoch 20/20\n",
      "70/70 [==============================] - 16s 223ms/step - loss: 1.4487 - accuracy: 0.3986 - val_loss: 1.6589 - val_accuracy: 0.3414\n"
     ]
    }
   ],
   "source": [
    "history = model.fit(X_train, y_train, epochs=20, batch_size=50, validation_data=[X_test, y_test])"
   ]
  },
  {
   "cell_type": "code",
   "execution_count": 137,
   "metadata": {},
   "outputs": [
    {
     "name": "stdout",
     "output_type": "stream",
     "text": [
      "Train: 0.412, Test: 0.341\n"
     ]
    },
    {
     "data": {
      "image/png": "[encoded data removed]",
      "text/plain": [
       "<Figure size 640x480 with 1 Axes>"
      ]
     },
     "metadata": {},
     "output_type": "display_data"
    }
   ],
   "source": [
    "# evaluate the model\n",
    "_, train_acc = model.evaluate(X_train, y_train, verbose=0)\n",
    "_, test_acc = model.evaluate(X_test, y_test, verbose=0)\n",
    "print('Train: %.3f, Test: %.3f' % (train_acc, test_acc))\n",
    "# plot training history\n",
    "plt.plot(history.history['loss'], label='train')\n",
    "plt.plot(history.history['val_loss'], label='test')\n",
    "plt.title('Training and test loss at each epoch', fontsize=14)\n",
    "plt.legend()\n",
    "plt.show()"
   ]
  },
  {
   "cell_type": "markdown",
   "metadata": {},
   "source": [
    "### Hyperparameter tuning on a regular embedding layer"
   ]
  },
  {
   "cell_type": "code",
   "execution_count": 138,
   "metadata": {},
   "outputs": [],
   "source": [
    "X_train, X_test, y_train, y_test = train_test_split(X_t, y, test_size=0.1, random_state=4)"
   ]
  },
  {
   "cell_type": "code",
   "execution_count": 139,
   "metadata": {},
   "outputs": [],
   "source": [
    "#Add Convolutional Layer and MaxPooling Layer\n",
    "model = Sequential()\n",
    "\n",
    "embedding_size = 128  #each word onto a 128 length real valued vector\n",
    "model.add(Embedding(input_dim = 1000, output_dim = embedding_size, input_length = 400)) #try 100, 200, single LSTM and single dense 100\n",
    "model.add(Conv1D(filters=32, kernel_size = 3, padding='same', activation='relu'))\n",
    "model.add(MaxPooling1D(pool_size=2))\n",
    "model.add(LSTM(64))\n",
    "#model.add(LSTM(64))\n",
    "#model.add(GlobalMaxPool1D())\n",
    "#model.add(Dropout(0.5))\n",
    "model.add(Dense(32, activation='relu'))\n",
    "model.add(Dropout(0.5))\n",
    "#model.add(Dense(32, activation='relu'))\n",
    "#model.add(Flatten())   #add Flatten layer \n",
    "model.add(Dense(6, activation='softmax'))"
   ]
  },
  {
   "cell_type": "code",
   "execution_count": 140,
   "metadata": {},
   "outputs": [],
   "source": [
    "model.compile(loss='categorical_crossentropy', optimizer='adam', metrics=['accuracy'])"
   ]
  },
  {
   "cell_type": "code",
   "execution_count": 141,
   "metadata": {},
   "outputs": [
    {
     "name": "stdout",
     "output_type": "stream",
     "text": [
      "Model: \"sequential_4\"\n",
      "_________________________________________________________________\n",
      " Layer (type)                Output Shape              Param #   \n",
      "=================================================================\n",
      " embedding_4 (Embedding)     (None, 400, 128)          128000    \n",
      "                                                                 \n",
      " conv1d (Conv1D)             (None, 400, 32)           12320     \n",
      "                                                                 \n",
      " max_pooling1d (MaxPooling1  (None, 200, 32)           0         \n",
      " D)                                                              \n",
      "                                                                 \n",
      " lstm_5 (LSTM)               (None, 64)                24832     \n",
      "                                                                 \n",
      " dense_6 (Dense)             (None, 32)                2080      \n",
      "                                                                 \n",
      " dropout_3 (Dropout)         (None, 32)                0         \n",
      "                                                                 \n",
      " dense_7 (Dense)             (None, 6)                 198       \n",
      "                                                                 \n",
      "=================================================================\n",
      "Total params: 167430 (654.02 KB)\n",
      "Trainable params: 167430 (654.02 KB)\n",
      "Non-trainable params: 0 (0.00 Byte)\n",
      "_________________________________________________________________\n"
     ]
    }
   ],
   "source": [
    "model.summary()"
   ]
  },
  {
   "cell_type": "code",
   "execution_count": 142,
   "metadata": {},
   "outputs": [
    {
     "name": "stdout",
     "output_type": "stream",
     "text": [
      "Epoch 1/20\n",
      "122/122 [==============================] - 8s 55ms/step - loss: 1.6331 - accuracy: 0.3208 - val_loss: 1.5700 - val_accuracy: 0.3194\n",
      "Epoch 2/20\n",
      "122/122 [==============================] - 6s 52ms/step - loss: 1.5726 - accuracy: 0.3332 - val_loss: 1.5585 - val_accuracy: 0.3403\n",
      "Epoch 3/20\n",
      "122/122 [==============================] - 7s 53ms/step - loss: 1.5574 - accuracy: 0.3465 - val_loss: 1.5527 - val_accuracy: 0.3380\n",
      "Epoch 4/20\n",
      "122/122 [==============================] - 7s 54ms/step - loss: 1.5391 - accuracy: 0.3545 - val_loss: 1.5599 - val_accuracy: 0.3310\n",
      "Epoch 5/20\n",
      "122/122 [==============================] - 7s 54ms/step - loss: 1.5221 - accuracy: 0.3697 - val_loss: 1.5831 - val_accuracy: 0.3333\n",
      "Epoch 6/20\n",
      "122/122 [==============================] - 6s 53ms/step - loss: 1.4963 - accuracy: 0.3829 - val_loss: 1.5911 - val_accuracy: 0.3310\n",
      "Epoch 7/20\n",
      "122/122 [==============================] - 6s 53ms/step - loss: 1.4777 - accuracy: 0.3924 - val_loss: 1.6162 - val_accuracy: 0.3264\n",
      "Epoch 8/20\n",
      "122/122 [==============================] - 6s 53ms/step - loss: 1.4628 - accuracy: 0.4016 - val_loss: 1.6494 - val_accuracy: 0.3241\n",
      "Epoch 9/20\n",
      "122/122 [==============================] - 6s 52ms/step - loss: 1.4491 - accuracy: 0.4037 - val_loss: 1.6810 - val_accuracy: 0.3079\n",
      "Epoch 10/20\n",
      "122/122 [==============================] - 6s 53ms/step - loss: 1.4374 - accuracy: 0.4114 - val_loss: 1.7042 - val_accuracy: 0.3287\n",
      "Epoch 11/20\n",
      "122/122 [==============================] - 6s 53ms/step - loss: 1.4175 - accuracy: 0.4135 - val_loss: 1.7115 - val_accuracy: 0.3264\n",
      "Epoch 12/20\n",
      "122/122 [==============================] - 6s 53ms/step - loss: 1.4196 - accuracy: 0.4125 - val_loss: 1.7247 - val_accuracy: 0.3310\n",
      "Epoch 13/20\n",
      "122/122 [==============================] - 6s 53ms/step - loss: 1.4086 - accuracy: 0.4194 - val_loss: 1.6539 - val_accuracy: 0.3519\n",
      "Epoch 14/20\n",
      "122/122 [==============================] - 6s 53ms/step - loss: 1.4019 - accuracy: 0.4132 - val_loss: 1.8052 - val_accuracy: 0.3310\n",
      "Epoch 15/20\n",
      "122/122 [==============================] - 6s 53ms/step - loss: 1.3948 - accuracy: 0.4210 - val_loss: 1.8317 - val_accuracy: 0.3333\n",
      "Epoch 16/20\n",
      "122/122 [==============================] - 7s 54ms/step - loss: 1.3899 - accuracy: 0.4253 - val_loss: 1.7963 - val_accuracy: 0.3287\n",
      "Epoch 17/20\n",
      "122/122 [==============================] - 7s 54ms/step - loss: 1.3771 - accuracy: 0.4264 - val_loss: 1.7830 - val_accuracy: 0.3449\n",
      "Epoch 18/20\n",
      "122/122 [==============================] - 7s 54ms/step - loss: 1.3687 - accuracy: 0.4338 - val_loss: 1.7837 - val_accuracy: 0.3495\n",
      "Epoch 19/20\n",
      "122/122 [==============================] - 7s 54ms/step - loss: 1.3587 - accuracy: 0.4380 - val_loss: 1.8756 - val_accuracy: 0.3333\n",
      "Epoch 20/20\n",
      "122/122 [==============================] - 7s 54ms/step - loss: 1.3525 - accuracy: 0.4346 - val_loss: 1.9111 - val_accuracy: 0.3148\n"
     ]
    }
   ],
   "source": [
    "history = model.fit(X_train, y_train, epochs=20, batch_size=32, validation_data=[X_test, y_test])"
   ]
  },
  {
   "cell_type": "code",
   "execution_count": 143,
   "metadata": {},
   "outputs": [
    {
     "name": "stdout",
     "output_type": "stream",
     "text": [
      "Train Accuracy: 0.454, Test Accuracy: 0.315\n"
     ]
    },
    {
     "data": {
      "image/png": "[encoded data removed]",
      "text/plain": [
       "<Figure size 640x480 with 1 Axes>"
      ]
     },
     "metadata": {},
     "output_type": "display_data"
    }
   ],
   "source": [
    "# evaluate the model\n",
    "_, train_acc = model.evaluate(X_train, y_train, verbose=0)\n",
    "_, test_acc = model.evaluate(X_test, y_test, verbose=0)\n",
    "print('Train Accuracy: %.3f, Test Accuracy: %.3f' % (train_acc, test_acc))\n",
    "\n",
    "plt.plot(history.history['loss'], label='train')\n",
    "plt.plot(history.history['val_loss'], label='test')\n",
    "plt.title(\"Train vs Test Loss at each epoch\")\n",
    "plt.legend()\n",
    "plt.show()"
   ]
  },
  {
   "cell_type": "code",
   "execution_count": 153,
   "metadata": {},
   "outputs": [],
   "source": [
    "#Add Early Stopping layer, L1 and L2 regularization\n",
    "from keras.callbacks import EarlyStopping\n",
    "from keras import regularizers\n",
    "\n",
    "\n",
    "model = Sequential()\n",
    "embedding_size = 64  \n",
    "model.add(Embedding(input_dim = 1000, output_dim = embedding_size, input_length = 400)) #try 100, 200, single LSTM and single dense 100\n",
    "#Take out conv1d and maxpooling\n",
    "model.add(Conv1D(filters=32, kernel_size = 3, padding='same', activation='relu'))\n",
    "model.add(MaxPooling1D(pool_size=2))\n",
    "model.add(LSTM(128, return_sequences=True)) #the last LSTM doesn't need  to return sequence\n",
    "#add LSTM\n",
    "\n",
    "#add dropout here\n",
    "model.add(Dense(100, activation='relu', input_shape=(400,)))\n",
    "model.add(Dropout(0.5))\n",
    "model.add(Flatten())   #add Flatten layer \n",
    "model.add(Dense(6, activation='softmax'))\n",
    "\n",
    "model.compile(loss='categorical_crossentropy', optimizer='Adam', metrics=['accuracy'])"
   ]
  },
  {
   "cell_type": "code",
   "execution_count": 154,
   "metadata": {},
   "outputs": [
    {
     "name": "stdout",
     "output_type": "stream",
     "text": [
      "Model: \"sequential_9\"\n",
      "_________________________________________________________________\n",
      " Layer (type)                Output Shape              Param #   \n",
      "=================================================================\n",
      " embedding_8 (Embedding)     (None, 400, 64)           64000     \n",
      "                                                                 \n",
      " conv1d_5 (Conv1D)           (None, 400, 32)           6176      \n",
      "                                                                 \n",
      " max_pooling1d_4 (MaxPoolin  (None, 200, 32)           0         \n",
      " g1D)                                                            \n",
      "                                                                 \n",
      " lstm_9 (LSTM)               (None, 200, 128)          82432     \n",
      "                                                                 \n",
      " dense_15 (Dense)            (None, 200, 100)          12900     \n",
      "                                                                 \n",
      " dropout_7 (Dropout)         (None, 200, 100)          0         \n",
      "                                                                 \n",
      " flatten_4 (Flatten)         (None, 20000)             0         \n",
      "                                                                 \n",
      " dense_16 (Dense)            (None, 6)                 120006    \n",
      "                                                                 \n",
      "=================================================================\n",
      "Total params: 285514 (1.09 MB)\n",
      "Trainable params: 285514 (1.09 MB)\n",
      "Non-trainable params: 0 (0.00 Byte)\n",
      "_________________________________________________________________\n"
     ]
    }
   ],
   "source": [
    "model.summary()"
   ]
  },
  {
   "cell_type": "code",
   "execution_count": 155,
   "metadata": {},
   "outputs": [
    {
     "name": "stdout",
     "output_type": "stream",
     "text": [
      "Epoch 1/30\n"
     ]
    },
    {
     "name": "stdout",
     "output_type": "stream",
     "text": [
      "122/122 [==============================] - 14s 109ms/step - loss: 1.5734 - accuracy: 0.3437 - val_loss: 1.5276 - val_accuracy: 0.3634\n",
      "Epoch 2/30\n",
      "122/122 [==============================] - 13s 109ms/step - loss: 1.5053 - accuracy: 0.3599 - val_loss: 1.5200 - val_accuracy: 0.3634\n",
      "Epoch 3/30\n",
      "122/122 [==============================] - 13s 110ms/step - loss: 1.4559 - accuracy: 0.3955 - val_loss: 1.6053 - val_accuracy: 0.3495\n",
      "Epoch 4/30\n",
      "122/122 [==============================] - 14s 113ms/step - loss: 1.3920 - accuracy: 0.4313 - val_loss: 1.5409 - val_accuracy: 0.3449\n",
      "Epoch 5/30\n",
      "122/122 [==============================] - 14s 111ms/step - loss: 1.2946 - accuracy: 0.4851 - val_loss: 1.6068 - val_accuracy: 0.3495\n",
      "Epoch 6/30\n",
      "122/122 [==============================] - 14s 114ms/step - loss: 1.1601 - accuracy: 0.5479 - val_loss: 1.7971 - val_accuracy: 0.3773\n",
      "Epoch 7/30\n",
      "122/122 [==============================] - 14s 113ms/step - loss: 0.9983 - accuracy: 0.6148 - val_loss: 1.8437 - val_accuracy: 0.3495\n",
      "Epoch 7: early stopping\n",
      "Train Accuracy: 0.710, Test Accuracy: 0.350\n"
     ]
    },
    {
     "data": {
      "image/png": "[encoded data removed]",
      "text/plain": [
       "<Figure size 640x480 with 1 Axes>"
      ]
     },
     "metadata": {},
     "output_type": "display_data"
    }
   ],
   "source": [
    "es = EarlyStopping(monitor='val_loss', patience = 5, mode='min', verbose=1)\n",
    "\n",
    "history = model.fit(X_train, y_train, epochs=30, batch_size=32, validation_data=[X_test, y_test], callbacks=[es])\n",
    "# evaluate the model\n",
    "_, train_acc = model.evaluate(X_train, y_train, verbose=0)\n",
    "_, test_acc = model.evaluate(X_test, y_test, verbose=0)\n",
    "print('Train Accuracy: %.3f, Test Accuracy: %.3f' % (train_acc, test_acc))\n",
    "# plot training history\n",
    "plt.plot(history.history['loss'], label='train')\n",
    "plt.plot(history.history['val_loss'], label='test')\n",
    "plt.title(\"Train vs Test Loss at each epoch\")\n",
    "plt.legend()\n",
    "plt.show()"
   ]
  },
  {
   "cell_type": "markdown",
   "metadata": {},
   "source": [
    "## Model 5: Use pre-trained Word2Vec as the embedding layer"
   ]
  },
  {
   "cell_type": "code",
   "execution_count": 157,
   "metadata": {},
   "outputs": [],
   "source": [
    "w2v_model2 = Word2Vec(data,\n",
    "                vector_size=100, #size is the number of dimensions of the N-dimensional space and Word2Vec maps the words into\n",
    "                window=5,\n",
    "                min_count=3, #min frequency appeared in the corpus\n",
    "                workers=4)"
   ]
  },
  {
   "cell_type": "code",
   "execution_count": 158,
   "metadata": {},
   "outputs": [
    {
     "data": {
      "text/plain": [
       "(9361007, 10210380)"
      ]
     },
     "execution_count": 158,
     "metadata": {},
     "output_type": "execute_result"
    }
   ],
   "source": [
    "w2v_model2.train(data,total_examples=w2v_model2.corpus_count, epochs=10)"
   ]
  },
  {
   "cell_type": "code",
   "execution_count": 159,
   "metadata": {},
   "outputs": [],
   "source": [
    "wv = w2v_model2.wv"
   ]
  },
  {
   "cell_type": "code",
   "execution_count": 160,
   "metadata": {},
   "outputs": [],
   "source": [
    "#save model to be used in deep learning step\n",
    "filename = 'jd_embedding_word2vec2.txt'\n",
    "w2v_model2.wv.save_word2vec_format(filename, binary=False)"
   ]
  },
  {
   "cell_type": "code",
   "execution_count": 161,
   "metadata": {},
   "outputs": [],
   "source": [
    "#load the word embedding as a directory of words to vectors\n",
    "\n",
    "import os\n",
    "\n",
    "embeddings_index = {}\n",
    "f = open(os.path.join('','jd_embedding_word2vec2.txt'), encoding = \"utf-8\")\n",
    "for line in f:\n",
    "    values = line.split()\n",
    "    word = values[0]\n",
    "    coefs = np.asarray(values[1:])\n",
    "    embeddings_index[word] = coefs\n",
    "f.close()"
   ]
  },
  {
   "cell_type": "code",
   "execution_count": 162,
   "metadata": {},
   "outputs": [
    {
     "name": "stdout",
     "output_type": "stream",
     "text": [
      "There are 16982 unique tokens in the dataset.\n"
     ]
    }
   ],
   "source": [
    "#Get the total_vocabulary in the corpus\n",
    "total_vocabulary = set(word for jd in data for word in jd)\n",
    "\n",
    "max_length=len(total_vocabulary)\n",
    "print('There are {} unique tokens in the dataset.'.format(len(total_vocabulary)))"
   ]
  },
  {
   "cell_type": "code",
   "execution_count": 164,
   "metadata": {},
   "outputs": [
    {
     "name": "stdout",
     "output_type": "stream",
     "text": [
      "Found 19541 unique tokens.\n",
      "Shape of the jd tensor: (4320, 500)\n"
     ]
    }
   ],
   "source": [
    "#Convert the word embedding into tokenized vector. \n",
    "new_tokenizer = text.Tokenizer() \n",
    "new_tokenizer.num_words = 1000  #limit the number of words to keep most common 1000 words\n",
    "new_tokenizer.fit_on_texts(list(df['description']))\n",
    "list_tokenized_jd = new_tokenizer.texts_to_sequences(df['description'])\n",
    "\n",
    "#pad sequences\n",
    "word_index = new_tokenizer.word_index\n",
    "print('Found %s unique tokens.' % len(word_index))\n",
    "\n",
    "jd_pad = sequence.pad_sequences(list_tokenized_jd, maxlen=500, padding = 'post') \n",
    "print('Shape of the jd tensor:', jd_pad.shape)"
   ]
  },
  {
   "cell_type": "code",
   "execution_count": 165,
   "metadata": {},
   "outputs": [],
   "source": [
    "#map embeddings from word2vec model for each word to new_tokenzier.word_index and create a matrix with word vectors\n",
    "\n",
    "num_words = len(word_index)+1  #1000  + 1\n",
    "embedding_matrix = np.zeros((num_words, 100)) #embedding size = 100\n",
    "\n",
    "for word, i in word_index.items():\n",
    "    if i > num_words:\n",
    "        continue\n",
    "    embedding_vector = embeddings_index.get(word)\n",
    "    if embedding_vector is not None:\n",
    "        #words not found in embedding index will be all-zeros.\n",
    "        embedding_matrix[i] = embedding_vector"
   ]
  },
  {
   "cell_type": "code",
   "execution_count": 166,
   "metadata": {},
   "outputs": [
    {
     "name": "stdout",
     "output_type": "stream",
     "text": [
      "19542\n"
     ]
    }
   ],
   "source": [
    "print(num_words)"
   ]
  },
  {
   "cell_type": "code",
   "execution_count": 167,
   "metadata": {},
   "outputs": [],
   "source": [
    "from keras.models import Sequential\n",
    "from keras.layers import Dense, Embedding, LSTM, GRU\n",
    "from keras.layers import Embedding\n",
    "from keras.initializers import Constant"
   ]
  },
  {
   "cell_type": "code",
   "execution_count": 168,
   "metadata": {},
   "outputs": [],
   "source": [
    "#define model\n",
    "model = Sequential()\n",
    "\n",
    "embedding_size = 100  #word2vec has a 100 dimension space\n",
    "embedding_layer = Embedding(input_dim = num_words, #input_dim: size of the vocabulary\n",
    "                    output_dim = embedding_size,  #dimension of the dense embedding\n",
    "                    embeddings_initializer = Constant(embedding_matrix),\n",
    "                    input_length = 500, #length of input sequences\n",
    "                    trainable = False)\n",
    "model.add(embedding_layer)\n",
    "#model.add(LSTM(128))\n",
    "model.add(Dense(128, activation='relu'))\n",
    "model.add(Dense(32, activation='relu'))\n",
    "model.add(Flatten())   #add Flatten layer \n",
    "model.add(Dense(6, activation='softmax'))"
   ]
  },
  {
   "cell_type": "code",
   "execution_count": 169,
   "metadata": {},
   "outputs": [
    {
     "name": "stdout",
     "output_type": "stream",
     "text": [
      "Model: \"sequential_10\"\n",
      "_________________________________________________________________\n",
      " Layer (type)                Output Shape              Param #   \n",
      "=================================================================\n",
      " embedding_9 (Embedding)     (None, 500, 100)          1954200   \n",
      "                                                                 \n",
      " dense_17 (Dense)            (None, 500, 128)          12928     \n",
      "                                                                 \n",
      " dense_18 (Dense)            (None, 500, 32)           4128      \n",
      "                                                                 \n",
      " flatten_5 (Flatten)         (None, 16000)             0         \n",
      "                                                                 \n",
      " dense_19 (Dense)            (None, 6)                 96006     \n",
      "                                                                 \n",
      "=================================================================\n",
      "Total params: 2067262 (7.89 MB)\n",
      "Trainable params: 113062 (441.65 KB)\n",
      "Non-trainable params: 1954200 (7.45 MB)\n",
      "_________________________________________________________________\n"
     ]
    }
   ],
   "source": [
    "model.summary()"
   ]
  },
  {
   "cell_type": "code",
   "execution_count": 170,
   "metadata": {},
   "outputs": [],
   "source": [
    "model.compile(loss='categorical_crossentropy', optimizer='adam', metrics=['accuracy'])"
   ]
  },
  {
   "cell_type": "code",
   "execution_count": 172,
   "metadata": {},
   "outputs": [
    {
     "name": "stdout",
     "output_type": "stream",
     "text": [
      "(4320, 500)\n",
      "(4316, 6)\n"
     ]
    }
   ],
   "source": [
    "print(jd_pad.shape)\n",
    "print(y.shape)"
   ]
  },
  {
   "cell_type": "code",
   "execution_count": 175,
   "metadata": {},
   "outputs": [],
   "source": [
    "# Trim the datasets to make them consistent\n",
    "jd_pad = jd_pad[:4316]"
   ]
  },
  {
   "cell_type": "code",
   "execution_count": 176,
   "metadata": {},
   "outputs": [],
   "source": [
    "X_train, X_test, y_train, y_test = train_test_split(jd_pad, y, test_size=0.1, random_state=4)"
   ]
  },
  {
   "cell_type": "code",
   "execution_count": 177,
   "metadata": {},
   "outputs": [
    {
     "name": "stdout",
     "output_type": "stream",
     "text": [
      "Epoch 1/10\n",
      "122/122 [==============================] - 1s 10ms/step - loss: 1.6081 - accuracy: 0.3406 - val_loss: 1.5436 - val_accuracy: 0.3634\n",
      "Epoch 2/10\n",
      "122/122 [==============================] - 1s 10ms/step - loss: 1.1973 - accuracy: 0.5700 - val_loss: 1.7037 - val_accuracy: 0.4028\n",
      "Epoch 3/10\n",
      "122/122 [==============================] - 1s 10ms/step - loss: 0.9057 - accuracy: 0.7263 - val_loss: 1.7946 - val_accuracy: 0.3843\n",
      "Epoch 4/10\n",
      "122/122 [==============================] - 1s 10ms/step - loss: 0.7650 - accuracy: 0.7899 - val_loss: 1.8664 - val_accuracy: 0.3611\n",
      "Epoch 5/10\n",
      "122/122 [==============================] - 1s 10ms/step - loss: 0.6932 - accuracy: 0.8159 - val_loss: 1.9564 - val_accuracy: 0.3819\n",
      "Epoch 6/10\n",
      "122/122 [==============================] - 1s 10ms/step - loss: 0.6180 - accuracy: 0.8342 - val_loss: 2.0342 - val_accuracy: 0.3889\n",
      "Epoch 7/10\n",
      "122/122 [==============================] - 1s 11ms/step - loss: 0.5634 - accuracy: 0.8545 - val_loss: 2.0772 - val_accuracy: 0.3866\n",
      "Epoch 8/10\n",
      "122/122 [==============================] - 1s 10ms/step - loss: 0.5365 - accuracy: 0.8610 - val_loss: 2.1591 - val_accuracy: 0.3912\n",
      "Epoch 9/10\n",
      "122/122 [==============================] - 1s 10ms/step - loss: 0.5035 - accuracy: 0.8710 - val_loss: 2.2195 - val_accuracy: 0.3912\n",
      "Epoch 10/10\n",
      "122/122 [==============================] - 1s 10ms/step - loss: 0.4892 - accuracy: 0.8744 - val_loss: 2.1891 - val_accuracy: 0.3912\n"
     ]
    }
   ],
   "source": [
    "#lower the learning rate since it is training too fast. Limit the input length\n",
    "\n",
    "history = model.fit(X_train, y_train, epochs=10, batch_size=32, validation_data=[X_test, y_test])"
   ]
  },
  {
   "cell_type": "markdown",
   "metadata": {},
   "source": [
    "#### Turning the model."
   ]
  },
  {
   "cell_type": "code",
   "execution_count": 179,
   "metadata": {},
   "outputs": [],
   "source": [
    "from tensorflow.keras.optimizers.legacy import Adam\n",
    "\n",
    "opt = Adam(learning_rate=0.001)\n",
    "\n",
    "model.compile(loss='categorical_crossentropy',\n",
    "              optimizer=opt,\n",
    "              metrics=['accuracy'])"
   ]
  },
  {
   "cell_type": "code",
   "execution_count": 180,
   "metadata": {},
   "outputs": [
    {
     "name": "stdout",
     "output_type": "stream",
     "text": [
      "Epoch 1/100\n",
      "31/31 [==============================] - 2s 67ms/step - loss: 2.3094 - accuracy: 0.3239 - val_loss: 1.5898 - val_accuracy: 0.3333\n",
      "Epoch 2/100\n",
      "31/31 [==============================] - 2s 63ms/step - loss: 1.5601 - accuracy: 0.3458 - val_loss: 1.5703 - val_accuracy: 0.3264\n",
      "Epoch 3/100\n",
      "31/31 [==============================] - 2s 63ms/step - loss: 1.4886 - accuracy: 0.3829 - val_loss: 1.5765 - val_accuracy: 0.3426\n",
      "Epoch 4/100\n",
      "31/31 [==============================] - 2s 63ms/step - loss: 1.4426 - accuracy: 0.4009 - val_loss: 1.5430 - val_accuracy: 0.3519\n",
      "Epoch 5/100\n",
      "31/31 [==============================] - 2s 63ms/step - loss: 1.3892 - accuracy: 0.4385 - val_loss: 1.5483 - val_accuracy: 0.3611\n",
      "Epoch 6/100\n",
      "31/31 [==============================] - 2s 64ms/step - loss: 1.3322 - accuracy: 0.4632 - val_loss: 1.5694 - val_accuracy: 0.3519\n",
      "Epoch 7/100\n",
      "31/31 [==============================] - 2s 63ms/step - loss: 1.2627 - accuracy: 0.5039 - val_loss: 1.6115 - val_accuracy: 0.3472\n",
      "Epoch 8/100\n",
      "31/31 [==============================] - 2s 63ms/step - loss: 1.1979 - accuracy: 0.5270 - val_loss: 1.5598 - val_accuracy: 0.3866\n",
      "Epoch 9/100\n",
      "31/31 [==============================] - 2s 62ms/step - loss: 1.0897 - accuracy: 0.5865 - val_loss: 1.6497 - val_accuracy: 0.4028\n",
      "Epoch 10/100\n",
      "31/31 [==============================] - 2s 63ms/step - loss: 1.0308 - accuracy: 0.6143 - val_loss: 1.6940 - val_accuracy: 0.3750\n",
      "Epoch 11/100\n",
      "31/31 [==============================] - 2s 63ms/step - loss: 0.9159 - accuracy: 0.6789 - val_loss: 1.7703 - val_accuracy: 0.3935\n",
      "Epoch 12/100\n",
      "31/31 [==============================] - 2s 64ms/step - loss: 0.8319 - accuracy: 0.7201 - val_loss: 1.8683 - val_accuracy: 0.3843\n",
      "Epoch 13/100\n",
      "31/31 [==============================] - 2s 64ms/step - loss: 0.7557 - accuracy: 0.7680 - val_loss: 1.9535 - val_accuracy: 0.3681\n",
      "Epoch 14/100\n",
      "31/31 [==============================] - 2s 66ms/step - loss: 0.7139 - accuracy: 0.7752 - val_loss: 2.0294 - val_accuracy: 0.3819\n",
      "Epoch 15/100\n",
      "31/31 [==============================] - 2s 65ms/step - loss: 0.6082 - accuracy: 0.8321 - val_loss: 2.1330 - val_accuracy: 0.3611\n",
      "Epoch 16/100\n",
      "31/31 [==============================] - 2s 65ms/step - loss: 0.5509 - accuracy: 0.8561 - val_loss: 2.2153 - val_accuracy: 0.3681\n",
      "Epoch 17/100\n",
      "31/31 [==============================] - 2s 65ms/step - loss: 0.4956 - accuracy: 0.8756 - val_loss: 2.4271 - val_accuracy: 0.3750\n",
      "Epoch 18/100\n",
      "31/31 [==============================] - 2s 63ms/step - loss: 0.4842 - accuracy: 0.8715 - val_loss: 2.3669 - val_accuracy: 0.3912\n",
      "Epoch 19/100\n",
      "31/31 [==============================] - 2s 63ms/step - loss: 0.4551 - accuracy: 0.8813 - val_loss: 2.5536 - val_accuracy: 0.3889\n",
      "Epoch 20/100\n",
      "31/31 [==============================] - 2s 64ms/step - loss: 0.4073 - accuracy: 0.8911 - val_loss: 2.5751 - val_accuracy: 0.3634\n",
      "Epoch 21/100\n",
      "31/31 [==============================] - 2s 67ms/step - loss: 0.3963 - accuracy: 0.8865 - val_loss: 2.6064 - val_accuracy: 0.3796\n",
      "Epoch 22/100\n",
      "31/31 [==============================] - 2s 64ms/step - loss: 0.3859 - accuracy: 0.8970 - val_loss: 2.6995 - val_accuracy: 0.3588\n",
      "Epoch 23/100\n",
      "31/31 [==============================] - 2s 67ms/step - loss: 0.3660 - accuracy: 0.8991 - val_loss: 2.7701 - val_accuracy: 0.3889\n",
      "Epoch 24/100\n",
      "31/31 [==============================] - 2s 63ms/step - loss: 0.3492 - accuracy: 0.9086 - val_loss: 2.7878 - val_accuracy: 0.3727\n",
      "Epoch 25/100\n",
      "31/31 [==============================] - 2s 62ms/step - loss: 0.3399 - accuracy: 0.9022 - val_loss: 2.9705 - val_accuracy: 0.3935\n",
      "Epoch 26/100\n",
      "31/31 [==============================] - 2s 66ms/step - loss: 0.3173 - accuracy: 0.9047 - val_loss: 2.9715 - val_accuracy: 0.3773\n",
      "Epoch 27/100\n",
      "31/31 [==============================] - 2s 65ms/step - loss: 0.2971 - accuracy: 0.9096 - val_loss: 3.0480 - val_accuracy: 0.3727\n",
      "Epoch 28/100\n",
      "31/31 [==============================] - 2s 62ms/step - loss: 0.3064 - accuracy: 0.9078 - val_loss: 2.9351 - val_accuracy: 0.3750\n",
      "Epoch 29/100\n",
      "31/31 [==============================] - 2s 66ms/step - loss: 0.2892 - accuracy: 0.9127 - val_loss: 3.0677 - val_accuracy: 0.3704\n",
      "Epoch 30/100\n",
      "31/31 [==============================] - 2s 67ms/step - loss: 0.2795 - accuracy: 0.9114 - val_loss: 3.0397 - val_accuracy: 0.3843\n",
      "Epoch 31/100\n",
      "31/31 [==============================] - 2s 67ms/step - loss: 0.2820 - accuracy: 0.9117 - val_loss: 3.0410 - val_accuracy: 0.3819\n",
      "Epoch 32/100\n",
      "31/31 [==============================] - 2s 65ms/step - loss: 0.2937 - accuracy: 0.9101 - val_loss: 2.9723 - val_accuracy: 0.3681\n",
      "Epoch 33/100\n",
      "31/31 [==============================] - 2s 67ms/step - loss: 0.2547 - accuracy: 0.9171 - val_loss: 3.1487 - val_accuracy: 0.3681\n",
      "Epoch 34/100\n",
      "31/31 [==============================] - 2s 63ms/step - loss: 0.2636 - accuracy: 0.9137 - val_loss: 3.0473 - val_accuracy: 0.3819\n",
      "Epoch 35/100\n",
      "31/31 [==============================] - 2s 64ms/step - loss: 0.2584 - accuracy: 0.9140 - val_loss: 3.0097 - val_accuracy: 0.3704\n",
      "Epoch 36/100\n",
      "31/31 [==============================] - 2s 62ms/step - loss: 0.2591 - accuracy: 0.9166 - val_loss: 3.1465 - val_accuracy: 0.3773\n",
      "Epoch 37/100\n",
      "31/31 [==============================] - 2s 66ms/step - loss: 0.2504 - accuracy: 0.9140 - val_loss: 3.2458 - val_accuracy: 0.3773\n",
      "Epoch 38/100\n",
      "31/31 [==============================] - 2s 63ms/step - loss: 0.2515 - accuracy: 0.9143 - val_loss: 3.5507 - val_accuracy: 0.3519\n",
      "Epoch 39/100\n",
      "31/31 [==============================] - 2s 63ms/step - loss: 0.2434 - accuracy: 0.9135 - val_loss: 3.2691 - val_accuracy: 0.3727\n",
      "Epoch 40/100\n",
      "31/31 [==============================] - 2s 64ms/step - loss: 0.2565 - accuracy: 0.9140 - val_loss: 3.1399 - val_accuracy: 0.3588\n",
      "Epoch 41/100\n",
      "31/31 [==============================] - 2s 66ms/step - loss: 0.2352 - accuracy: 0.9174 - val_loss: 3.4397 - val_accuracy: 0.3796\n",
      "Epoch 42/100\n",
      "31/31 [==============================] - 2s 65ms/step - loss: 0.2294 - accuracy: 0.9161 - val_loss: 3.1294 - val_accuracy: 0.3704\n",
      "Epoch 43/100\n",
      "31/31 [==============================] - 2s 63ms/step - loss: 0.2311 - accuracy: 0.9181 - val_loss: 3.3465 - val_accuracy: 0.3681\n",
      "Epoch 44/100\n",
      "31/31 [==============================] - 2s 65ms/step - loss: 0.2214 - accuracy: 0.9148 - val_loss: 3.1200 - val_accuracy: 0.3796\n",
      "Epoch 45/100\n",
      "31/31 [==============================] - 2s 67ms/step - loss: 0.2167 - accuracy: 0.9176 - val_loss: 3.5279 - val_accuracy: 0.3704\n",
      "Epoch 46/100\n",
      "31/31 [==============================] - 2s 64ms/step - loss: 0.2169 - accuracy: 0.9150 - val_loss: 3.5723 - val_accuracy: 0.3727\n",
      "Epoch 47/100\n",
      "31/31 [==============================] - 2s 62ms/step - loss: 0.2184 - accuracy: 0.9171 - val_loss: 3.6402 - val_accuracy: 0.3704\n",
      "Epoch 48/100\n",
      "31/31 [==============================] - 2s 63ms/step - loss: 0.2177 - accuracy: 0.9153 - val_loss: 3.2940 - val_accuracy: 0.3796\n",
      "Epoch 49/100\n",
      "31/31 [==============================] - 2s 63ms/step - loss: 0.2141 - accuracy: 0.9153 - val_loss: 3.3553 - val_accuracy: 0.3727\n",
      "Epoch 50/100\n",
      "31/31 [==============================] - 2s 64ms/step - loss: 0.2227 - accuracy: 0.9150 - val_loss: 3.6126 - val_accuracy: 0.3773\n",
      "Epoch 51/100\n",
      "31/31 [==============================] - 2s 65ms/step - loss: 0.2146 - accuracy: 0.9168 - val_loss: 3.5390 - val_accuracy: 0.3704\n",
      "Epoch 52/100\n",
      "31/31 [==============================] - 2s 63ms/step - loss: 0.2092 - accuracy: 0.9184 - val_loss: 3.4607 - val_accuracy: 0.3819\n",
      "Epoch 53/100\n",
      "31/31 [==============================] - 2s 63ms/step - loss: 0.2119 - accuracy: 0.9166 - val_loss: 3.4441 - val_accuracy: 0.3704\n",
      "Epoch 54/100\n",
      "31/31 [==============================] - 2s 63ms/step - loss: 0.2024 - accuracy: 0.9156 - val_loss: 3.2972 - val_accuracy: 0.3773\n",
      "Epoch 55/100\n",
      "31/31 [==============================] - 2s 65ms/step - loss: 0.1993 - accuracy: 0.9202 - val_loss: 3.2586 - val_accuracy: 0.3843\n",
      "Epoch 56/100\n",
      "31/31 [==============================] - 2s 75ms/step - loss: 0.2030 - accuracy: 0.9163 - val_loss: 3.6338 - val_accuracy: 0.3519\n",
      "Epoch 57/100\n",
      "31/31 [==============================] - 2s 76ms/step - loss: 0.2046 - accuracy: 0.9215 - val_loss: 3.5083 - val_accuracy: 0.3657\n",
      "Epoch 58/100\n",
      "31/31 [==============================] - 2s 72ms/step - loss: 0.1929 - accuracy: 0.9212 - val_loss: 3.7860 - val_accuracy: 0.3426\n",
      "Epoch 59/100\n",
      "31/31 [==============================] - 2s 75ms/step - loss: 0.1964 - accuracy: 0.9153 - val_loss: 3.7501 - val_accuracy: 0.3634\n",
      "Epoch 60/100\n",
      "31/31 [==============================] - 2s 74ms/step - loss: 0.2064 - accuracy: 0.9197 - val_loss: 3.6949 - val_accuracy: 0.3750\n",
      "Epoch 61/100\n",
      "31/31 [==============================] - 2s 67ms/step - loss: 0.2027 - accuracy: 0.9179 - val_loss: 3.8208 - val_accuracy: 0.3750\n",
      "Epoch 62/100\n",
      "31/31 [==============================] - 2s 68ms/step - loss: 0.1879 - accuracy: 0.9181 - val_loss: 3.7454 - val_accuracy: 0.3750\n",
      "Epoch 63/100\n",
      "31/31 [==============================] - 2s 65ms/step - loss: 0.1930 - accuracy: 0.9192 - val_loss: 3.7161 - val_accuracy: 0.3750\n",
      "Epoch 64/100\n",
      "31/31 [==============================] - 2s 64ms/step - loss: 0.1916 - accuracy: 0.9197 - val_loss: 3.4657 - val_accuracy: 0.3403\n",
      "Epoch 65/100\n",
      "31/31 [==============================] - 2s 66ms/step - loss: 0.1889 - accuracy: 0.9192 - val_loss: 3.7319 - val_accuracy: 0.3565\n",
      "Epoch 66/100\n",
      "31/31 [==============================] - 2s 64ms/step - loss: 0.1831 - accuracy: 0.9225 - val_loss: 3.6732 - val_accuracy: 0.3403\n",
      "Epoch 67/100\n",
      "31/31 [==============================] - 2s 64ms/step - loss: 0.1775 - accuracy: 0.9230 - val_loss: 3.7311 - val_accuracy: 0.3773\n",
      "Epoch 68/100\n",
      "31/31 [==============================] - 2s 63ms/step - loss: 0.1908 - accuracy: 0.9197 - val_loss: 3.8271 - val_accuracy: 0.3750\n",
      "Epoch 69/100\n",
      "31/31 [==============================] - 2s 64ms/step - loss: 0.1974 - accuracy: 0.9192 - val_loss: 3.6209 - val_accuracy: 0.3727\n",
      "Epoch 70/100\n",
      "31/31 [==============================] - 2s 62ms/step - loss: 0.1989 - accuracy: 0.9194 - val_loss: 3.6895 - val_accuracy: 0.3356\n",
      "Epoch 71/100\n",
      "31/31 [==============================] - 2s 62ms/step - loss: 0.1888 - accuracy: 0.9171 - val_loss: 3.8537 - val_accuracy: 0.3634\n",
      "Epoch 72/100\n",
      "31/31 [==============================] - 2s 63ms/step - loss: 0.1763 - accuracy: 0.9189 - val_loss: 4.2041 - val_accuracy: 0.3912\n",
      "Epoch 73/100\n",
      "31/31 [==============================] - 2s 62ms/step - loss: 0.1831 - accuracy: 0.9217 - val_loss: 3.4447 - val_accuracy: 0.3681\n",
      "Epoch 74/100\n",
      "31/31 [==============================] - 2s 63ms/step - loss: 0.1844 - accuracy: 0.9171 - val_loss: 3.8440 - val_accuracy: 0.3356\n",
      "Epoch 75/100\n",
      "31/31 [==============================] - 2s 63ms/step - loss: 0.1857 - accuracy: 0.9192 - val_loss: 4.1061 - val_accuracy: 0.3495\n",
      "Epoch 76/100\n",
      "31/31 [==============================] - 2s 63ms/step - loss: 0.1775 - accuracy: 0.9186 - val_loss: 3.7762 - val_accuracy: 0.3449\n",
      "Epoch 77/100\n",
      "31/31 [==============================] - 2s 62ms/step - loss: 0.1747 - accuracy: 0.9230 - val_loss: 3.9331 - val_accuracy: 0.3519\n",
      "Epoch 78/100\n",
      "31/31 [==============================] - 2s 63ms/step - loss: 0.1893 - accuracy: 0.9143 - val_loss: 3.6793 - val_accuracy: 0.3356\n",
      "Epoch 79/100\n",
      "31/31 [==============================] - 2s 62ms/step - loss: 0.1908 - accuracy: 0.9220 - val_loss: 4.1475 - val_accuracy: 0.3704\n",
      "Epoch 80/100\n",
      "31/31 [==============================] - 2s 62ms/step - loss: 0.1916 - accuracy: 0.9181 - val_loss: 3.8239 - val_accuracy: 0.3634\n",
      "Epoch 81/100\n",
      "31/31 [==============================] - 2s 63ms/step - loss: 0.1760 - accuracy: 0.9207 - val_loss: 4.0674 - val_accuracy: 0.3750\n",
      "Epoch 82/100\n",
      "31/31 [==============================] - 2s 64ms/step - loss: 0.1705 - accuracy: 0.9228 - val_loss: 3.8998 - val_accuracy: 0.3634\n",
      "Epoch 83/100\n",
      "31/31 [==============================] - 2s 63ms/step - loss: 0.1737 - accuracy: 0.9184 - val_loss: 3.9964 - val_accuracy: 0.3588\n",
      "Epoch 84/100\n",
      "31/31 [==============================] - 2s 63ms/step - loss: 0.1661 - accuracy: 0.9261 - val_loss: 4.3473 - val_accuracy: 0.3542\n",
      "Epoch 85/100\n",
      "31/31 [==============================] - 2s 63ms/step - loss: 0.1806 - accuracy: 0.9207 - val_loss: 4.3967 - val_accuracy: 0.3542\n",
      "Epoch 86/100\n",
      "31/31 [==============================] - 2s 65ms/step - loss: 0.1744 - accuracy: 0.9240 - val_loss: 3.8853 - val_accuracy: 0.3634\n",
      "Epoch 87/100\n",
      "31/31 [==============================] - 2s 64ms/step - loss: 0.1734 - accuracy: 0.9197 - val_loss: 4.2417 - val_accuracy: 0.3773\n",
      "Epoch 88/100\n",
      "31/31 [==============================] - 2s 63ms/step - loss: 0.1781 - accuracy: 0.9233 - val_loss: 3.8558 - val_accuracy: 0.3472\n",
      "Epoch 89/100\n",
      "31/31 [==============================] - 2s 63ms/step - loss: 0.1808 - accuracy: 0.9194 - val_loss: 3.5986 - val_accuracy: 0.3472\n",
      "Epoch 90/100\n",
      "31/31 [==============================] - 2s 65ms/step - loss: 0.1814 - accuracy: 0.9179 - val_loss: 3.9247 - val_accuracy: 0.3634\n",
      "Epoch 91/100\n",
      "31/31 [==============================] - 2s 65ms/step - loss: 0.1942 - accuracy: 0.9179 - val_loss: 4.1789 - val_accuracy: 0.3889\n",
      "Epoch 92/100\n",
      "31/31 [==============================] - 2s 63ms/step - loss: 0.1827 - accuracy: 0.9150 - val_loss: 4.1298 - val_accuracy: 0.3495\n",
      "Epoch 93/100\n",
      "31/31 [==============================] - 2s 63ms/step - loss: 0.1750 - accuracy: 0.9168 - val_loss: 3.7695 - val_accuracy: 0.3426\n",
      "Epoch 94/100\n",
      "31/31 [==============================] - 2s 64ms/step - loss: 0.1848 - accuracy: 0.9184 - val_loss: 4.0805 - val_accuracy: 0.3657\n",
      "Epoch 95/100\n",
      "31/31 [==============================] - 2s 63ms/step - loss: 0.1706 - accuracy: 0.9194 - val_loss: 3.9459 - val_accuracy: 0.3495\n",
      "Epoch 96/100\n",
      "31/31 [==============================] - 2s 64ms/step - loss: 0.1728 - accuracy: 0.9199 - val_loss: 3.9933 - val_accuracy: 0.3542\n",
      "Epoch 97/100\n",
      "31/31 [==============================] - 2s 64ms/step - loss: 0.1939 - accuracy: 0.9186 - val_loss: 4.0666 - val_accuracy: 0.3542\n",
      "Epoch 98/100\n",
      "31/31 [==============================] - 2s 64ms/step - loss: 0.1793 - accuracy: 0.9163 - val_loss: 4.3204 - val_accuracy: 0.3380\n",
      "Epoch 99/100\n",
      "31/31 [==============================] - 2s 64ms/step - loss: 0.1669 - accuracy: 0.9243 - val_loss: 3.9756 - val_accuracy: 0.3611\n",
      "Epoch 100/100\n",
      "31/31 [==============================] - 2s 63ms/step - loss: 0.1740 - accuracy: 0.9199 - val_loss: 3.7751 - val_accuracy: 0.3704\n"
     ]
    },
    {
     "data": {
      "text/plain": [
       "<keras.src.callbacks.History at 0x30d07e050>"
      ]
     },
     "execution_count": 180,
     "metadata": {},
     "output_type": "execute_result"
    }
   ],
   "source": [
    "model.fit(X_train, y_train, validation_data=(X_test, y_test), epochs=100, batch_size=128)"
   ]
  },
  {
   "cell_type": "markdown",
   "metadata": {},
   "source": [
    "#### Grid Search"
   ]
  },
  {
   "cell_type": "code",
   "execution_count": 188,
   "metadata": {},
   "outputs": [],
   "source": [
    "import numpy\n",
    "from sklearn.model_selection import GridSearchCV\n",
    "from keras.models import Sequential\n",
    "from keras.layers import Dense\n",
    "\n",
    "def create_model(learn_rate=0.001):\n",
    "    embedding_layer = Embedding(input_dim=num_words,\n",
    "                                output_dim=embedding_size,\n",
    "                                embeddings_initializer=Constant(embedding_matrix),\n",
    "                                input_length=500,\n",
    "                                trainable=False)\n",
    "    sequence_input = Input(shape=(500,), dtype='int32')\n",
    "    embedded_sequences = embedding_layer(sequence_input)\n",
    "    x = Conv1D(128, 5, activation='relu')(embedded_sequences)\n",
    "    x = MaxPooling1D(3)(x)\n",
    "    x = Flatten()(x)\n",
    "    x = Dense(64, activation='relu')(x)\n",
    "    x = Dense(16, activation='relu')(x)\n",
    "    preds = Dense(6, activation='softmax')(x)\n",
    "\n",
    "    model = Model(sequence_input, preds)\n",
    "    optimizer = Adam(learning_rate=learn_rate)\n",
    "    model.compile(loss='categorical_crossentropy',\n",
    "                  optimizer=optimizer,\n",
    "                  metrics=['accuracy'])\n",
    "    return model\n",
    "\n",
    "model = KerasClassifier(model=create_model, learn_rate=0.001, epochs=10, batch_size=10, verbose=0)\n",
    "\n",
    "param_grid = {\n",
    "    'learn_rate': [0.001, 0.005, 0.01, 0.05]\n",
    "}\n",
    "\n",
    "grid = GridSearchCV(estimator=model, param_grid=param_grid, n_jobs=-1, cv=3)\n",
    "grid_result = grid.fit(X_train, y_train)"
   ]
  },
  {
   "cell_type": "code",
   "execution_count": 189,
   "metadata": {},
   "outputs": [
    {
     "name": "stdout",
     "output_type": "stream",
     "text": [
      "Best: 0.348863 using {'learn_rate': 0.001}\n",
      "0.348863 (0.016138) with: {'learn_rate': 0.001}\n",
      "0.329302 (0.006418) with: {'learn_rate': 0.005}\n",
      "0.344230 (0.006824) with: {'learn_rate': 0.01}\n",
      "0.342171 (0.006200) with: {'learn_rate': 0.05}\n"
     ]
    }
   ],
   "source": [
    "# summarize results\n",
    "print(\"Best: %f using %s\" % (grid_result.best_score_, grid_result.best_params_))\n",
    "means = grid_result.cv_results_['mean_test_score']\n",
    "stds = grid_result.cv_results_['std_test_score']\n",
    "params = grid_result.cv_results_['params']\n",
    "for mean, stdev, param in zip(means, stds, params):\n",
    "    print(\"%f (%f) with: %r\" % (mean, stdev, param))"
   ]
  },
  {
   "cell_type": "markdown",
   "metadata": {},
   "source": [
    "#### Try Count Vectorizer and TFIDF in Deep Learning Models with Grid Search"
   ]
  },
  {
   "cell_type": "code",
   "execution_count": 191,
   "metadata": {},
   "outputs": [],
   "source": [
    "text = df['description']\n"
   ]
  },
  {
   "cell_type": "code",
   "execution_count": 192,
   "metadata": {},
   "outputs": [],
   "source": [
    "from sklearn.feature_extraction.text import CountVectorizer\n",
    "from sklearn.feature_extraction.text import TfidfTransformer\n",
    "\n",
    "count_vectorizer = CountVectorizer(max_features = 300, max_df = 0.5, min_df = 0.03, ngram_range=(1,3), stop_words='english')\n",
    "word_count_vector = count_vectorizer.fit_transform(text)"
   ]
  },
  {
   "cell_type": "code",
   "execution_count": 193,
   "metadata": {},
   "outputs": [
    {
     "data": {
      "text/html": [
       "<style>#sk-container-id-10 {color: black;}#sk-container-id-10 pre{padding: 0;}#sk-container-id-10 div.sk-toggleable {background-color: white;}#sk-container-id-10 label.sk-toggleable__label {cursor: pointer;display: block;width: 100%;margin-bottom: 0;padding: 0.3em;box-sizing: border-box;text-align: center;}#sk-container-id-10 label.sk-toggleable__label-arrow:before {content: \"▸\";float: left;margin-right: 0.25em;color: #696969;}#sk-container-id-10 label.sk-toggleable__label-arrow:hover:before {color: black;}#sk-container-id-10 div.sk-estimator:hover label.sk-toggleable__label-arrow:before {color: black;}#sk-container-id-10 div.sk-toggleable__content {max-height: 0;max-width: 0;overflow: hidden;text-align: left;background-color: #f0f8ff;}#sk-container-id-10 div.sk-toggleable__content pre {margin: 0.2em;color: black;border-radius: 0.25em;background-color: #f0f8ff;}#sk-container-id-10 input.sk-toggleable__control:checked~div.sk-toggleable__content {max-height: 200px;max-width: 100%;overflow: auto;}#sk-container-id-10 input.sk-toggleable__control:checked~label.sk-toggleable__label-arrow:before {content: \"▾\";}#sk-container-id-10 div.sk-estimator input.sk-toggleable__control:checked~label.sk-toggleable__label {background-color: #d4ebff;}#sk-container-id-10 div.sk-label input.sk-toggleable__control:checked~label.sk-toggleable__label {background-color: #d4ebff;}#sk-container-id-10 input.sk-hidden--visually {border: 0;clip: rect(1px 1px 1px 1px);clip: rect(1px, 1px, 1px, 1px);height: 1px;margin: -1px;overflow: hidden;padding: 0;position: absolute;width: 1px;}#sk-container-id-10 div.sk-estimator {font-family: monospace;background-color: #f0f8ff;border: 1px dotted black;border-radius: 0.25em;box-sizing: border-box;margin-bottom: 0.5em;}#sk-container-id-10 div.sk-estimator:hover {background-color: #d4ebff;}#sk-container-id-10 div.sk-parallel-item::after {content: \"\";width: 100%;border-bottom: 1px solid gray;flex-grow: 1;}#sk-container-id-10 div.sk-label:hover label.sk-toggleable__label {background-color: #d4ebff;}#sk-container-id-10 div.sk-serial::before {content: \"\";position: absolute;border-left: 1px solid gray;box-sizing: border-box;top: 0;bottom: 0;left: 50%;z-index: 0;}#sk-container-id-10 div.sk-serial {display: flex;flex-direction: column;align-items: center;background-color: white;padding-right: 0.2em;padding-left: 0.2em;position: relative;}#sk-container-id-10 div.sk-item {position: relative;z-index: 1;}#sk-container-id-10 div.sk-parallel {display: flex;align-items: stretch;justify-content: center;background-color: white;position: relative;}#sk-container-id-10 div.sk-item::before, #sk-container-id-10 div.sk-parallel-item::before {content: \"\";position: absolute;border-left: 1px solid gray;box-sizing: border-box;top: 0;bottom: 0;left: 50%;z-index: -1;}#sk-container-id-10 div.sk-parallel-item {display: flex;flex-direction: column;z-index: 1;position: relative;background-color: white;}#sk-container-id-10 div.sk-parallel-item:first-child::after {align-self: flex-end;width: 50%;}#sk-container-id-10 div.sk-parallel-item:last-child::after {align-self: flex-start;width: 50%;}#sk-container-id-10 div.sk-parallel-item:only-child::after {width: 0;}#sk-container-id-10 div.sk-dashed-wrapped {border: 1px dashed gray;margin: 0 0.4em 0.5em 0.4em;box-sizing: border-box;padding-bottom: 0.4em;background-color: white;}#sk-container-id-10 div.sk-label label {font-family: monospace;font-weight: bold;display: inline-block;line-height: 1.2em;}#sk-container-id-10 div.sk-label-container {text-align: center;}#sk-container-id-10 div.sk-container {/* jupyter's `normalize.less` sets `[hidden] { display: none; }` but bootstrap.min.css set `[hidden] { display: none !important; }` so we also need the `!important` here to be able to override the default hidden behavior on the sphinx rendered scikit-learn.org. See: https://github.com/scikit-learn/scikit-learn/issues/21755 */display: inline-block !important;position: relative;}#sk-container-id-10 div.sk-text-repr-fallback {display: none;}</style><div id=\"sk-container-id-10\" class=\"sk-top-container\"><div class=\"sk-text-repr-fallback\"><pre>TfidfTransformer()</pre><b>In a Jupyter environment, please rerun this cell to show the HTML representation or trust the notebook. <br />On GitHub, the HTML representation is unable to render, please try loading this page with nbviewer.org.</b></div><div class=\"sk-container\" hidden><div class=\"sk-item\"><div class=\"sk-estimator sk-toggleable\"><input class=\"sk-toggleable__control sk-hidden--visually\" id=\"sk-estimator-id-30\" type=\"checkbox\" checked><label for=\"sk-estimator-id-30\" class=\"sk-toggleable__label sk-toggleable__label-arrow\">TfidfTransformer</label><div class=\"sk-toggleable__content\"><pre>TfidfTransformer()</pre></div></div></div></div></div>"
      ],
      "text/plain": [
       "TfidfTransformer()"
      ]
     },
     "execution_count": 193,
     "metadata": {},
     "output_type": "execute_result"
    }
   ],
   "source": [
    "tfidf_transformer=TfidfTransformer(smooth_idf=True, use_idf=True)\n",
    "tfidf_transformer.fit(word_count_vector)"
   ]
  },
  {
   "cell_type": "code",
   "execution_count": 195,
   "metadata": {},
   "outputs": [],
   "source": [
    "df_idf = pd.DataFrame(tfidf_transformer.idf_, index=count_vectorizer.get_feature_names_out(), columns=['idf_weights'])"
   ]
  },
  {
   "cell_type": "code",
   "execution_count": 196,
   "metadata": {},
   "outputs": [
    {
     "data": {
      "text/html": [
       "<div>\n",
       "<style scoped>\n",
       "    .dataframe tbody tr th:only-of-type {\n",
       "        vertical-align: middle;\n",
       "    }\n",
       "\n",
       "    .dataframe tbody tr th {\n",
       "        vertical-align: top;\n",
       "    }\n",
       "\n",
       "    .dataframe thead th {\n",
       "        text-align: right;\n",
       "    }\n",
       "</style>\n",
       "<table border=\"1\" class=\"dataframe\">\n",
       "  <thead>\n",
       "    <tr style=\"text-align: right;\">\n",
       "      <th></th>\n",
       "      <th>idf_weights</th>\n",
       "    </tr>\n",
       "  </thead>\n",
       "  <tbody>\n",
       "    <tr>\n",
       "      <th>edward</th>\n",
       "      <td>4.473402</td>\n",
       "    </tr>\n",
       "    <tr>\n",
       "      <th>edward jones</th>\n",
       "      <td>4.473402</td>\n",
       "    </tr>\n",
       "    <tr>\n",
       "      <th>jones</th>\n",
       "      <td>4.465967</td>\n",
       "    </tr>\n",
       "    <tr>\n",
       "      <th>places work</th>\n",
       "      <td>4.401429</td>\n",
       "    </tr>\n",
       "    <tr>\n",
       "      <th>branch</th>\n",
       "      <td>4.380810</td>\n",
       "    </tr>\n",
       "    <tr>\n",
       "      <th>...</th>\n",
       "      <td>...</td>\n",
       "    </tr>\n",
       "    <tr>\n",
       "      <th>working</th>\n",
       "      <td>1.863003</td>\n",
       "    </tr>\n",
       "    <tr>\n",
       "      <th>ability</th>\n",
       "      <td>1.860264</td>\n",
       "    </tr>\n",
       "    <tr>\n",
       "      <th>strong</th>\n",
       "      <td>1.849924</td>\n",
       "    </tr>\n",
       "    <tr>\n",
       "      <th>sql</th>\n",
       "      <td>1.811162</td>\n",
       "    </tr>\n",
       "    <tr>\n",
       "      <th>analytics</th>\n",
       "      <td>1.804414</td>\n",
       "    </tr>\n",
       "  </tbody>\n",
       "</table>\n",
       "<p>300 rows × 1 columns</p>\n",
       "</div>"
      ],
      "text/plain": [
       "              idf_weights\n",
       "edward           4.473402\n",
       "edward jones     4.473402\n",
       "jones            4.465967\n",
       "places work      4.401429\n",
       "branch           4.380810\n",
       "...                   ...\n",
       "working          1.863003\n",
       "ability          1.860264\n",
       "strong           1.849924\n",
       "sql              1.811162\n",
       "analytics        1.804414\n",
       "\n",
       "[300 rows x 1 columns]"
      ]
     },
     "execution_count": 196,
     "metadata": {},
     "output_type": "execute_result"
    }
   ],
   "source": [
    "df_idf.sort_values(by=['idf_weights'], ascending=False)"
   ]
  },
  {
   "cell_type": "code",
   "execution_count": 197,
   "metadata": {},
   "outputs": [],
   "source": [
    "tfidf_mat = tfidf_transformer.transform(word_count_vector)"
   ]
  },
  {
   "cell_type": "code",
   "execution_count": 198,
   "metadata": {},
   "outputs": [
    {
     "data": {
      "text/plain": [
       "scipy.sparse._csr.csr_matrix"
      ]
     },
     "execution_count": 198,
     "metadata": {},
     "output_type": "execute_result"
    }
   ],
   "source": [
    "type(tfidf_mat)"
   ]
  },
  {
   "cell_type": "code",
   "execution_count": 199,
   "metadata": {},
   "outputs": [
    {
     "data": {
      "text/plain": [
       "<4320x300 sparse matrix of type '<class 'numpy.float64'>'\n",
       "\twith 268123 stored elements in Compressed Sparse Row format>"
      ]
     },
     "execution_count": 199,
     "metadata": {},
     "output_type": "execute_result"
    }
   ],
   "source": [
    "#Each job description has 300 features, each feature is one word\n",
    "tfidf_mat"
   ]
  },
  {
   "cell_type": "code",
   "execution_count": 200,
   "metadata": {},
   "outputs": [],
   "source": [
    "#Encoding to categorical classes\n",
    "y = to_categorical(target_class.values, num_classes=6, dtype=\"float32\")"
   ]
  },
  {
   "cell_type": "code",
   "execution_count": 202,
   "metadata": {},
   "outputs": [],
   "source": [
    "min_len = min(tfidf_mat.shape[0], len(y))\n",
    "tfidf_mat = tfidf_mat[:min_len]\n",
    "y = y[:min_len]"
   ]
  },
  {
   "cell_type": "code",
   "execution_count": 203,
   "metadata": {},
   "outputs": [],
   "source": [
    "#Train - Test split\n",
    "X_train, X_test, y_train, y_test = train_test_split(tfidf_mat, y, test_size=0.2)"
   ]
  },
  {
   "cell_type": "code",
   "execution_count": 204,
   "metadata": {},
   "outputs": [
    {
     "name": "stderr",
     "output_type": "stream",
     "text": [
      "WARNING:absl:At this time, the v2.11+ optimizer `tf.keras.optimizers.Adam` runs slowly on M1/M2 Macs, please use the legacy Keras optimizer instead, located at `tf.keras.optimizers.legacy.Adam`.\n",
      "WARNING:absl:There is a known slowdown when using v2.11+ Keras optimizers on M1/M2 Macs. Falling back to the legacy Keras optimizer, i.e., `tf.keras.optimizers.legacy.Adam`.\n"
     ]
    },
    {
     "name": "stdout",
     "output_type": "stream",
     "text": [
      "Model: \"sequential_11\"\n",
      "_________________________________________________________________\n",
      " Layer (type)                Output Shape              Param #   \n",
      "=================================================================\n",
      " dense_29 (Dense)            (None, 100)               30100     \n",
      "                                                                 \n",
      " dense_30 (Dense)            (None, 64)                6464      \n",
      "                                                                 \n",
      " dropout_8 (Dropout)         (None, 64)                0         \n",
      "                                                                 \n",
      " dense_31 (Dense)            (None, 6)                 390       \n",
      "                                                                 \n",
      "=================================================================\n",
      "Total params: 36954 (144.35 KB)\n",
      "Trainable params: 36954 (144.35 KB)\n",
      "Non-trainable params: 0 (0.00 Byte)\n",
      "_________________________________________________________________\n"
     ]
    }
   ],
   "source": [
    "model = Sequential()\n",
    "model.add(Dense(100, input_shape=(300,), activation='relu'))\n",
    "model.add(Dense(64, activation='relu'))\n",
    "model.add(Dropout(0.5))\n",
    "#model.add(Flatten())   #add Flatten layer \n",
    "model.add(Dense(6, activation='softmax'))\n",
    "\n",
    "opt = optimizers.Adam(learning_rate=0.001)\n",
    "#Compile model\n",
    "model.compile(loss='categorical_crossentropy', optimizer=opt,\n",
    "          metrics=['accuracy'])\n",
    "\n",
    "model.summary()"
   ]
  },
  {
   "cell_type": "code",
   "execution_count": 206,
   "metadata": {},
   "outputs": [],
   "source": [
    "X_train = X_train.toarray()\n",
    "X_test = X_test.toarray()"
   ]
  },
  {
   "cell_type": "code",
   "execution_count": 207,
   "metadata": {},
   "outputs": [],
   "source": [
    "from keras.utils import to_categorical\n",
    "\n",
    "y_train = to_categorical(y_train, num_classes=6)\n",
    "y_test = to_categorical(y_test, num_classes=6)\n"
   ]
  },
  {
   "cell_type": "code",
   "execution_count": 210,
   "metadata": {},
   "outputs": [
    {
     "name": "stdout",
     "output_type": "stream",
     "text": [
      "(3452, 6, 6)\n",
      "(864, 6, 6)\n"
     ]
    }
   ],
   "source": [
    "print(y_train.shape)\n",
    "print(y_test.shape)"
   ]
  },
  {
   "cell_type": "code",
   "execution_count": 212,
   "metadata": {},
   "outputs": [],
   "source": [
    "y_train = y_train.sum(axis=1)\n",
    "y_test = y_test.sum(axis=1)"
   ]
  },
  {
   "cell_type": "code",
   "execution_count": 213,
   "metadata": {},
   "outputs": [
    {
     "name": "stdout",
     "output_type": "stream",
     "text": [
      "Epoch 1/40\n"
     ]
    },
    {
     "ename": "ValueError",
     "evalue": "Creating variables on a non-first call to a function decorated with tf.function.",
     "output_type": "error",
     "traceback": [
      "\u001b[0;31m---------------------------------------------------------------------------\u001b[0m",
      "\u001b[0;31mValueError\u001b[0m                                Traceback (most recent call last)",
      "Cell \u001b[0;32mIn[213], line 3\u001b[0m\n\u001b[1;32m      1\u001b[0m es \u001b[39m=\u001b[39m EarlyStopping(monitor\u001b[39m=\u001b[39m\u001b[39m'\u001b[39m\u001b[39mval_loss\u001b[39m\u001b[39m'\u001b[39m, patience \u001b[39m=\u001b[39m \u001b[39m10\u001b[39m, mode\u001b[39m=\u001b[39m\u001b[39m'\u001b[39m\u001b[39mmin\u001b[39m\u001b[39m'\u001b[39m, verbose\u001b[39m=\u001b[39m\u001b[39m1\u001b[39m)\n\u001b[0;32m----> 3\u001b[0m history \u001b[39m=\u001b[39m model\u001b[39m.\u001b[39;49mfit(X_train, y_train,  validation_data\u001b[39m=\u001b[39;49m(X_test, y_test), epochs\u001b[39m=\u001b[39;49m\u001b[39m40\u001b[39;49m, batch_size\u001b[39m=\u001b[39;49m\u001b[39m64\u001b[39;49m, callbacks\u001b[39m=\u001b[39;49m[es])\n",
      "File \u001b[0;32m/Library/Frameworks/Python.framework/Versions/3.11/lib/python3.11/site-packages/keras/src/utils/traceback_utils.py:70\u001b[0m, in \u001b[0;36mfilter_traceback.<locals>.error_handler\u001b[0;34m(*args, **kwargs)\u001b[0m\n\u001b[1;32m     67\u001b[0m     filtered_tb \u001b[39m=\u001b[39m _process_traceback_frames(e\u001b[39m.\u001b[39m__traceback__)\n\u001b[1;32m     68\u001b[0m     \u001b[39m# To get the full stack trace, call:\u001b[39;00m\n\u001b[1;32m     69\u001b[0m     \u001b[39m# `tf.debugging.disable_traceback_filtering()`\u001b[39;00m\n\u001b[0;32m---> 70\u001b[0m     \u001b[39mraise\u001b[39;00m e\u001b[39m.\u001b[39mwith_traceback(filtered_tb) \u001b[39mfrom\u001b[39;00m \u001b[39mNone\u001b[39;00m\n\u001b[1;32m     71\u001b[0m \u001b[39mfinally\u001b[39;00m:\n\u001b[1;32m     72\u001b[0m     \u001b[39mdel\u001b[39;00m filtered_tb\n",
      "File \u001b[0;32m/Library/Frameworks/Python.framework/Versions/3.11/lib/python3.11/site-packages/tensorflow/python/eager/polymorphic_function/polymorphic_function.py:866\u001b[0m, in \u001b[0;36mFunction._call\u001b[0;34m(self, *args, **kwds)\u001b[0m\n\u001b[1;32m    864\u001b[0m   results \u001b[39m=\u001b[39m \u001b[39mself\u001b[39m\u001b[39m.\u001b[39m_variable_creation_fn(\u001b[39m*\u001b[39margs, \u001b[39m*\u001b[39m\u001b[39m*\u001b[39mkwds)\n\u001b[1;32m    865\u001b[0m   \u001b[39mif\u001b[39;00m \u001b[39mself\u001b[39m\u001b[39m.\u001b[39m_created_variables \u001b[39mand\u001b[39;00m \u001b[39mnot\u001b[39;00m ALLOW_DYNAMIC_VARIABLE_CREATION:\n\u001b[0;32m--> 866\u001b[0m     \u001b[39mraise\u001b[39;00m \u001b[39mValueError\u001b[39;00m(\u001b[39m\"\u001b[39m\u001b[39mCreating variables on a non-first call to a function\u001b[39m\u001b[39m\"\u001b[39m\n\u001b[1;32m    867\u001b[0m                      \u001b[39m\"\u001b[39m\u001b[39m decorated with tf.function.\u001b[39m\u001b[39m\"\u001b[39m)\n\u001b[1;32m    868\u001b[0m   \u001b[39mreturn\u001b[39;00m results\n\u001b[1;32m    870\u001b[0m \u001b[39mtry\u001b[39;00m:\n\u001b[1;32m    871\u001b[0m   \u001b[39m# This is the first call of __call__, so we have to initialize.\u001b[39;00m\n",
      "\u001b[0;31mValueError\u001b[0m: Creating variables on a non-first call to a function decorated with tf.function."
     ]
    }
   ],
   "source": [
    "es = EarlyStopping(monitor='val_loss', patience = 10, mode='min', verbose=1)\n",
    "\n",
    "history = model.fit(X_train, y_train,  validation_data=(X_test, y_test), epochs=40, batch_size=64, callbacks=[es])\n"
   ]
  },
  {
   "cell_type": "code",
   "execution_count": null,
   "metadata": {},
   "outputs": [],
   "source": []
  }
 ],
 "metadata": {
  "kernelspec": {
   "display_name": "Python 3",
   "language": "python",
   "name": "python3"
  },
  "language_info": {
   "codemirror_mode": {
    "name": "ipython",
    "version": 3
   },
   "file_extension": ".py",
   "mimetype": "text/x-python",
   "name": "python",
   "nbconvert_exporter": "python",
   "pygments_lexer": "ipython3",
   "version": "3.11.4"
  },
  "orig_nbformat": 4
 },
 "nbformat": 4,
 "nbformat_minor": 2
}
